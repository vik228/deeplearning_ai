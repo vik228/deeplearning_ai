{
 "cells": [
  {
   "cell_type": "code",
   "execution_count": 29,
   "metadata": {},
   "outputs": [
    {
     "name": "stdout",
     "output_type": "stream",
     "text": [
      "The nb_black extension is already loaded. To reload it, use:\n",
      "  %reload_ext nb_black\n"
     ]
    },
    {
     "data": {
      "application/javascript": [
       "\n",
       "            setTimeout(function() {\n",
       "                var nbb_cell_id = 29;\n",
       "                var nbb_unformatted_code = \"%load_ext nb_black\\nimport pandas as pd\\nimport numpy as np\\nimport pickle\\nimport matplotlib.pyplot as plt\";\n",
       "                var nbb_formatted_code = \"%load_ext nb_black\\nimport pandas as pd\\nimport numpy as np\\nimport pickle\\nimport matplotlib.pyplot as plt\";\n",
       "                var nbb_cells = Jupyter.notebook.get_cells();\n",
       "                for (var i = 0; i < nbb_cells.length; ++i) {\n",
       "                    if (nbb_cells[i].input_prompt_number == nbb_cell_id) {\n",
       "                        if (nbb_cells[i].get_text() == nbb_unformatted_code) {\n",
       "                             nbb_cells[i].set_text(nbb_formatted_code);\n",
       "                        }\n",
       "                        break;\n",
       "                    }\n",
       "                }\n",
       "            }, 500);\n",
       "            "
      ],
      "text/plain": [
       "<IPython.core.display.Javascript object>"
      ]
     },
     "metadata": {},
     "output_type": "display_data"
    }
   ],
   "source": [
    "%load_ext nb_black\n",
    "import pandas as pd\n",
    "import numpy as np\n",
    "import pickle\n",
    "import matplotlib.pyplot as plt"
   ]
  },
  {
   "cell_type": "markdown",
   "metadata": {},
   "source": [
    "#### 1.0 Predict the countries from capital"
   ]
  },
  {
   "cell_type": "code",
   "execution_count": 32,
   "metadata": {},
   "outputs": [
    {
     "data": {
      "application/javascript": [
       "\n",
       "            setTimeout(function() {\n",
       "                var nbb_cell_id = 32;\n",
       "                var nbb_unformatted_code = \"data = pd.read_csv(\\\"data/capitals.txt\\\", delimiter=' ')\\ndata.columns = ['city1', 'country1', 'city2', 'country2']\";\n",
       "                var nbb_formatted_code = \"data = pd.read_csv(\\\"data/capitals.txt\\\", delimiter=\\\" \\\")\\ndata.columns = [\\\"city1\\\", \\\"country1\\\", \\\"city2\\\", \\\"country2\\\"]\";\n",
       "                var nbb_cells = Jupyter.notebook.get_cells();\n",
       "                for (var i = 0; i < nbb_cells.length; ++i) {\n",
       "                    if (nbb_cells[i].input_prompt_number == nbb_cell_id) {\n",
       "                        if (nbb_cells[i].get_text() == nbb_unformatted_code) {\n",
       "                             nbb_cells[i].set_text(nbb_formatted_code);\n",
       "                        }\n",
       "                        break;\n",
       "                    }\n",
       "                }\n",
       "            }, 500);\n",
       "            "
      ],
      "text/plain": [
       "<IPython.core.display.Javascript object>"
      ]
     },
     "metadata": {},
     "output_type": "display_data"
    }
   ],
   "source": [
    "data = pd.read_csv(\"data/capitals.txt\", delimiter=' ')\n",
    "data.columns = ['city1', 'country1', 'city2', 'country2']"
   ]
  },
  {
   "cell_type": "code",
   "execution_count": 35,
   "metadata": {},
   "outputs": [
    {
     "data": {
      "application/javascript": [
       "\n",
       "            setTimeout(function() {\n",
       "                var nbb_cell_id = 35;\n",
       "                var nbb_unformatted_code = \"word_embeddings = pickle.load(open('data/word_embeddings_subset.p', 'rb'))\";\n",
       "                var nbb_formatted_code = \"word_embeddings = pickle.load(open(\\\"data/word_embeddings_subset.p\\\", \\\"rb\\\"))\";\n",
       "                var nbb_cells = Jupyter.notebook.get_cells();\n",
       "                for (var i = 0; i < nbb_cells.length; ++i) {\n",
       "                    if (nbb_cells[i].input_prompt_number == nbb_cell_id) {\n",
       "                        if (nbb_cells[i].get_text() == nbb_unformatted_code) {\n",
       "                             nbb_cells[i].set_text(nbb_formatted_code);\n",
       "                        }\n",
       "                        break;\n",
       "                    }\n",
       "                }\n",
       "            }, 500);\n",
       "            "
      ],
      "text/plain": [
       "<IPython.core.display.Javascript object>"
      ]
     },
     "metadata": {},
     "output_type": "display_data"
    }
   ],
   "source": [
    "word_embeddings = pickle.load(open('data/word_embeddings_subset.p', 'rb'))"
   ]
  },
  {
   "cell_type": "code",
   "execution_count": 40,
   "metadata": {},
   "outputs": [
    {
     "data": {
      "application/javascript": [
       "\n",
       "            setTimeout(function() {\n",
       "                var nbb_cell_id = 40;\n",
       "                var nbb_unformatted_code = \"def cosine_similarity(A, B):\\n    dot = np.dot(A, B)\\n    norma = np.sqrt(np.dot(A, A))\\n    normb = np.sqrt(np.dot(B, B))\\n    return dot/(norma*normb)\";\n",
       "                var nbb_formatted_code = \"def cosine_similarity(A, B):\\n    dot = np.dot(A, B)\\n    norma = np.sqrt(np.dot(A, A))\\n    normb = np.sqrt(np.dot(B, B))\\n    return dot / (norma * normb)\";\n",
       "                var nbb_cells = Jupyter.notebook.get_cells();\n",
       "                for (var i = 0; i < nbb_cells.length; ++i) {\n",
       "                    if (nbb_cells[i].input_prompt_number == nbb_cell_id) {\n",
       "                        if (nbb_cells[i].get_text() == nbb_unformatted_code) {\n",
       "                             nbb_cells[i].set_text(nbb_formatted_code);\n",
       "                        }\n",
       "                        break;\n",
       "                    }\n",
       "                }\n",
       "            }, 500);\n",
       "            "
      ],
      "text/plain": [
       "<IPython.core.display.Javascript object>"
      ]
     },
     "metadata": {},
     "output_type": "display_data"
    }
   ],
   "source": [
    "def cosine_similarity(A, B):\n",
    "    dot = np.dot(A, B)\n",
    "    norma = np.sqrt(np.dot(A, A))\n",
    "    normb = np.sqrt(np.dot(B, B))\n",
    "    return dot/(norma*normb)"
   ]
  },
  {
   "cell_type": "code",
   "execution_count": 43,
   "metadata": {},
   "outputs": [
    {
     "data": {
      "text/plain": [
       "0.6510956"
      ]
     },
     "execution_count": 43,
     "metadata": {},
     "output_type": "execute_result"
    },
    {
     "data": {
      "application/javascript": [
       "\n",
       "            setTimeout(function() {\n",
       "                var nbb_cell_id = 43;\n",
       "                var nbb_unformatted_code = \"king = word_embeddings['king']\\nqueen = word_embeddings['queen']\\ncosine_similarity(king, queen)\";\n",
       "                var nbb_formatted_code = \"king = word_embeddings[\\\"king\\\"]\\nqueen = word_embeddings[\\\"queen\\\"]\\ncosine_similarity(king, queen)\";\n",
       "                var nbb_cells = Jupyter.notebook.get_cells();\n",
       "                for (var i = 0; i < nbb_cells.length; ++i) {\n",
       "                    if (nbb_cells[i].input_prompt_number == nbb_cell_id) {\n",
       "                        if (nbb_cells[i].get_text() == nbb_unformatted_code) {\n",
       "                             nbb_cells[i].set_text(nbb_formatted_code);\n",
       "                        }\n",
       "                        break;\n",
       "                    }\n",
       "                }\n",
       "            }, 500);\n",
       "            "
      ],
      "text/plain": [
       "<IPython.core.display.Javascript object>"
      ]
     },
     "metadata": {},
     "output_type": "display_data"
    }
   ],
   "source": [
    "king = word_embeddings['king']\n",
    "queen = word_embeddings['queen']\n",
    "cosine_similarity(king, queen)"
   ]
  },
  {
   "cell_type": "code",
   "execution_count": 44,
   "metadata": {},
   "outputs": [
    {
     "data": {
      "application/javascript": [
       "\n",
       "            setTimeout(function() {\n",
       "                var nbb_cell_id = 44;\n",
       "                var nbb_unformatted_code = \"def euclidean_distance(A, B):\\n    d = np.linalg.norm(A - B)\\n    return d\";\n",
       "                var nbb_formatted_code = \"def euclidean_distance(A, B):\\n    d = np.linalg.norm(A - B)\\n    return d\";\n",
       "                var nbb_cells = Jupyter.notebook.get_cells();\n",
       "                for (var i = 0; i < nbb_cells.length; ++i) {\n",
       "                    if (nbb_cells[i].input_prompt_number == nbb_cell_id) {\n",
       "                        if (nbb_cells[i].get_text() == nbb_unformatted_code) {\n",
       "                             nbb_cells[i].set_text(nbb_formatted_code);\n",
       "                        }\n",
       "                        break;\n",
       "                    }\n",
       "                }\n",
       "            }, 500);\n",
       "            "
      ],
      "text/plain": [
       "<IPython.core.display.Javascript object>"
      ]
     },
     "metadata": {},
     "output_type": "display_data"
    }
   ],
   "source": [
    "def euclidean_distance(A, B):\n",
    "    d = np.linalg.norm(A - B)\n",
    "    return d"
   ]
  },
  {
   "cell_type": "code",
   "execution_count": 45,
   "metadata": {},
   "outputs": [
    {
     "data": {
      "text/plain": [
       "2.4796925"
      ]
     },
     "execution_count": 45,
     "metadata": {},
     "output_type": "execute_result"
    },
    {
     "data": {
      "application/javascript": [
       "\n",
       "            setTimeout(function() {\n",
       "                var nbb_cell_id = 45;\n",
       "                var nbb_unformatted_code = \"euclidean_distance(king, queen)\";\n",
       "                var nbb_formatted_code = \"euclidean_distance(king, queen)\";\n",
       "                var nbb_cells = Jupyter.notebook.get_cells();\n",
       "                for (var i = 0; i < nbb_cells.length; ++i) {\n",
       "                    if (nbb_cells[i].input_prompt_number == nbb_cell_id) {\n",
       "                        if (nbb_cells[i].get_text() == nbb_unformatted_code) {\n",
       "                             nbb_cells[i].set_text(nbb_formatted_code);\n",
       "                        }\n",
       "                        break;\n",
       "                    }\n",
       "                }\n",
       "            }, 500);\n",
       "            "
      ],
      "text/plain": [
       "<IPython.core.display.Javascript object>"
      ]
     },
     "metadata": {},
     "output_type": "display_data"
    }
   ],
   "source": [
    "euclidean_distance(king, queen)"
   ]
  },
  {
   "cell_type": "code",
   "execution_count": 46,
   "metadata": {},
   "outputs": [
    {
     "data": {
      "application/javascript": [
       "\n",
       "            setTimeout(function() {\n",
       "                var nbb_cell_id = 46;\n",
       "                var nbb_unformatted_code = \"def get_country(country1, city1, city2):\\n    country1_emb = word_embeddings[country1]\\n    city1_emb = word_embeddings[city1]\\n    city2_emb = word_embeddings[city2];\\n    vec = country1_emb - city1_emb + city2_emb;\\n    similarity = -1\\n    country = None\\n    for word in word_embeddings.keys():\\n        if word not in [country1, city1, city2]:\\n            word_emb = word_embeddings[word];\\n            cosine_sim = cosine_similarity(vec, word_emb)\\n            if cosine_sim > similarity:\\n                similarity = cosine_sim;\\n                country = (word, similarity)\\n    return country\\n                \";\n",
       "                var nbb_formatted_code = \"def get_country(country1, city1, city2):\\n    country1_emb = word_embeddings[country1]\\n    city1_emb = word_embeddings[city1]\\n    city2_emb = word_embeddings[city2]\\n    vec = country1_emb - city1_emb + city2_emb\\n    similarity = -1\\n    country = None\\n    for word in word_embeddings.keys():\\n        if word not in [country1, city1, city2]:\\n            word_emb = word_embeddings[word]\\n            cosine_sim = cosine_similarity(vec, word_emb)\\n            if cosine_sim > similarity:\\n                similarity = cosine_sim\\n                country = (word, similarity)\\n    return country\";\n",
       "                var nbb_cells = Jupyter.notebook.get_cells();\n",
       "                for (var i = 0; i < nbb_cells.length; ++i) {\n",
       "                    if (nbb_cells[i].input_prompt_number == nbb_cell_id) {\n",
       "                        if (nbb_cells[i].get_text() == nbb_unformatted_code) {\n",
       "                             nbb_cells[i].set_text(nbb_formatted_code);\n",
       "                        }\n",
       "                        break;\n",
       "                    }\n",
       "                }\n",
       "            }, 500);\n",
       "            "
      ],
      "text/plain": [
       "<IPython.core.display.Javascript object>"
      ]
     },
     "metadata": {},
     "output_type": "display_data"
    }
   ],
   "source": [
    "def get_country(country1, city1, city2):\n",
    "    country1_emb = word_embeddings[country1]\n",
    "    city1_emb = word_embeddings[city1]\n",
    "    city2_emb = word_embeddings[city2];\n",
    "    vec = country1_emb - city1_emb + city2_emb;\n",
    "    similarity = -1\n",
    "    country = None\n",
    "    for word in word_embeddings.keys():\n",
    "        if word not in [country1, city1, city2]:\n",
    "            word_emb = word_embeddings[word];\n",
    "            cosine_sim = cosine_similarity(vec, word_emb)\n",
    "            if cosine_sim > similarity:\n",
    "                similarity = cosine_sim;\n",
    "                country = (word, similarity)\n",
    "    return country\n",
    "                "
   ]
  },
  {
   "cell_type": "code",
   "execution_count": 48,
   "metadata": {},
   "outputs": [
    {
     "data": {
      "text/plain": [
       "('Egypt', 0.7626821)"
      ]
     },
     "execution_count": 48,
     "metadata": {},
     "output_type": "execute_result"
    },
    {
     "data": {
      "application/javascript": [
       "\n",
       "            setTimeout(function() {\n",
       "                var nbb_cell_id = 48;\n",
       "                var nbb_unformatted_code = \"get_country('Greece', 'Athens','Cairo')\";\n",
       "                var nbb_formatted_code = \"get_country(\\\"Greece\\\", \\\"Athens\\\", \\\"Cairo\\\")\";\n",
       "                var nbb_cells = Jupyter.notebook.get_cells();\n",
       "                for (var i = 0; i < nbb_cells.length; ++i) {\n",
       "                    if (nbb_cells[i].input_prompt_number == nbb_cell_id) {\n",
       "                        if (nbb_cells[i].get_text() == nbb_unformatted_code) {\n",
       "                             nbb_cells[i].set_text(nbb_formatted_code);\n",
       "                        }\n",
       "                        break;\n",
       "                    }\n",
       "                }\n",
       "            }, 500);\n",
       "            "
      ],
      "text/plain": [
       "<IPython.core.display.Javascript object>"
      ]
     },
     "metadata": {},
     "output_type": "display_data"
    }
   ],
   "source": [
    "get_country('Greece', 'Athens','Cairo')"
   ]
  },
  {
   "cell_type": "code",
   "execution_count": 55,
   "metadata": {},
   "outputs": [
    {
     "data": {
      "application/javascript": [
       "\n",
       "            setTimeout(function() {\n",
       "                var nbb_cell_id = 55;\n",
       "                var nbb_unformatted_code = \"def get_accuracy(data):\\n    correct = 0;\\n    for i, row in data.iterrows():\\n        city1 = row['city1']\\n        country1 = row['country1']\\n        city2 = row['city2']\\n        country2 = row['country2']\\n        country, similarity = get_country(country1, city1, city2)\\n        if country2 == country:\\n            correct += 1\\n    total = len(data)\\n    return (correct/total)*100\";\n",
       "                var nbb_formatted_code = \"def get_accuracy(data):\\n    correct = 0\\n    for i, row in data.iterrows():\\n        city1 = row[\\\"city1\\\"]\\n        country1 = row[\\\"country1\\\"]\\n        city2 = row[\\\"city2\\\"]\\n        country2 = row[\\\"country2\\\"]\\n        country, similarity = get_country(country1, city1, city2)\\n        if country2 == country:\\n            correct += 1\\n    total = len(data)\\n    return (correct / total) * 100\";\n",
       "                var nbb_cells = Jupyter.notebook.get_cells();\n",
       "                for (var i = 0; i < nbb_cells.length; ++i) {\n",
       "                    if (nbb_cells[i].input_prompt_number == nbb_cell_id) {\n",
       "                        if (nbb_cells[i].get_text() == nbb_unformatted_code) {\n",
       "                             nbb_cells[i].set_text(nbb_formatted_code);\n",
       "                        }\n",
       "                        break;\n",
       "                    }\n",
       "                }\n",
       "            }, 500);\n",
       "            "
      ],
      "text/plain": [
       "<IPython.core.display.Javascript object>"
      ]
     },
     "metadata": {},
     "output_type": "display_data"
    }
   ],
   "source": [
    "def get_accuracy(data):\n",
    "    correct = 0;\n",
    "    for i, row in data.iterrows():\n",
    "        city1 = row['city1']\n",
    "        country1 = row['country1']\n",
    "        city2 = row['city2']\n",
    "        country2 = row['country2']\n",
    "        country, similarity = get_country(country1, city1, city2)\n",
    "        if country2 == country:\n",
    "            correct += 1\n",
    "    total = len(data)\n",
    "    return (correct/total)*100"
   ]
  },
  {
   "cell_type": "code",
   "execution_count": 56,
   "metadata": {},
   "outputs": [
    {
     "data": {
      "text/plain": [
       "91.92082407594425"
      ]
     },
     "execution_count": 56,
     "metadata": {},
     "output_type": "execute_result"
    },
    {
     "data": {
      "application/javascript": [
       "\n",
       "            setTimeout(function() {\n",
       "                var nbb_cell_id = 56;\n",
       "                var nbb_unformatted_code = \"get_accuracy(data)\";\n",
       "                var nbb_formatted_code = \"get_accuracy(data)\";\n",
       "                var nbb_cells = Jupyter.notebook.get_cells();\n",
       "                for (var i = 0; i < nbb_cells.length; ++i) {\n",
       "                    if (nbb_cells[i].input_prompt_number == nbb_cell_id) {\n",
       "                        if (nbb_cells[i].get_text() == nbb_unformatted_code) {\n",
       "                             nbb_cells[i].set_text(nbb_formatted_code);\n",
       "                        }\n",
       "                        break;\n",
       "                    }\n",
       "                }\n",
       "            }, 500);\n",
       "            "
      ],
      "text/plain": [
       "<IPython.core.display.Javascript object>"
      ]
     },
     "metadata": {},
     "output_type": "display_data"
    }
   ],
   "source": [
    "get_accuracy(data)"
   ]
  },
  {
   "cell_type": "code",
   "execution_count": null,
   "metadata": {},
   "outputs": [],
   "source": []
  }
 ],
 "metadata": {
  "kernelspec": {
   "display_name": "datascience",
   "language": "python",
   "name": "datascience"
  },
  "language_info": {
   "codemirror_mode": {
    "name": "ipython",
    "version": 3
   },
   "file_extension": ".py",
   "mimetype": "text/x-python",
   "name": "python",
   "nbconvert_exporter": "python",
   "pygments_lexer": "ipython3",
   "version": "3.8.3"
  }
 },
 "nbformat": 4,
 "nbformat_minor": 4
}
