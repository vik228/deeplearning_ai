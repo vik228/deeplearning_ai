{
 "cells": [
  {
   "cell_type": "code",
   "execution_count": 37,
   "metadata": {},
   "outputs": [
    {
     "name": "stdout",
     "output_type": "stream",
     "text": [
      "The nb_black extension is already loaded. To reload it, use:\n",
      "  %reload_ext nb_black\n"
     ]
    },
    {
     "data": {
      "application/javascript": [
       "\n",
       "            setTimeout(function() {\n",
       "                var nbb_cell_id = 37;\n",
       "                var nbb_unformatted_code = \"%load_ext nb_black\\nimport sys\\n\\nsys.path.append(\\\"/Users/vikaspandey/my_projects/deeplearning_ai\\\")\\nimport os\\nimport pandas as pd\\nfrom tensorflow.keras import layers\\nfrom tensorflow.keras import Model\\nfrom tensorflow.keras.applications.inception_v3 import InceptionV3\\nfrom tensorflow.keras.optimizers import RMSprop\\nfrom tensorflow.keras.preprocessing.image import ImageDataGenerator\\nfrom data_visualisation.plot import Plot\\n\\nweights_file = (\\n    \\\"../../../../datasets/inception_v3_weights_tf_dim_ordering_tf_kernels_notop.h5\\\"\\n)\\n\\ntrain_dataset_basepath = (\\n    \\\"../../../../datasets/cats_and_dogs_filtered/cats_and_dogs_filtered/train/\\\"\\n)\\nvalidation_dataset_basepath = (\\n    \\\"../../../../datasets/cats_and_dogs_filtered/cats_and_dogs_filtered/validation/\\\"\\n)\";\n",
       "                var nbb_formatted_code = \"%load_ext nb_black\\nimport sys\\n\\nsys.path.append(\\\"/Users/vikaspandey/my_projects/deeplearning_ai\\\")\\nimport os\\nimport pandas as pd\\nfrom tensorflow.keras import layers\\nfrom tensorflow.keras import Model\\nfrom tensorflow.keras.applications.inception_v3 import InceptionV3\\nfrom tensorflow.keras.optimizers import RMSprop\\nfrom tensorflow.keras.preprocessing.image import ImageDataGenerator\\nfrom data_visualisation.plot import Plot\\n\\nweights_file = (\\n    \\\"../../../../datasets/inception_v3_weights_tf_dim_ordering_tf_kernels_notop.h5\\\"\\n)\\n\\ntrain_dataset_basepath = (\\n    \\\"../../../../datasets/cats_and_dogs_filtered/cats_and_dogs_filtered/train/\\\"\\n)\\nvalidation_dataset_basepath = (\\n    \\\"../../../../datasets/cats_and_dogs_filtered/cats_and_dogs_filtered/validation/\\\"\\n)\";\n",
       "                var nbb_cells = Jupyter.notebook.get_cells();\n",
       "                for (var i = 0; i < nbb_cells.length; ++i) {\n",
       "                    if (nbb_cells[i].input_prompt_number == nbb_cell_id) {\n",
       "                        if (nbb_cells[i].get_text() == nbb_unformatted_code) {\n",
       "                             nbb_cells[i].set_text(nbb_formatted_code);\n",
       "                        }\n",
       "                        break;\n",
       "                    }\n",
       "                }\n",
       "            }, 500);\n",
       "            "
      ],
      "text/plain": [
       "<IPython.core.display.Javascript object>"
      ]
     },
     "metadata": {},
     "output_type": "display_data"
    }
   ],
   "source": [
    "%load_ext nb_black\n",
    "import sys\n",
    "\n",
    "sys.path.append(\"/Users/vikaspandey/my_projects/deeplearning_ai\")\n",
    "import os\n",
    "import pandas as pd\n",
    "from tensorflow.keras import layers\n",
    "from tensorflow.keras import Model\n",
    "from tensorflow.keras.applications.inception_v3 import InceptionV3\n",
    "from tensorflow.keras.optimizers import RMSprop\n",
    "from tensorflow.keras.preprocessing.image import ImageDataGenerator\n",
    "from data_visualisation.plot import Plot\n",
    "\n",
    "weights_file = (\n",
    "    \"../../../../datasets/inception_v3_weights_tf_dim_ordering_tf_kernels_notop.h5\"\n",
    ")\n",
    "\n",
    "train_dataset_basepath = (\n",
    "    \"../../../../datasets/cats_and_dogs_filtered/cats_and_dogs_filtered/train/\"\n",
    ")\n",
    "validation_dataset_basepath = (\n",
    "    \"../../../../datasets/cats_and_dogs_filtered/cats_and_dogs_filtered/validation/\"\n",
    ")"
   ]
  },
  {
   "cell_type": "code",
   "execution_count": 12,
   "metadata": {},
   "outputs": [
    {
     "name": "stdout",
     "output_type": "stream",
     "text": [
      "The shape of last layer is  (None, 7, 7, 768)\n"
     ]
    },
    {
     "data": {
      "application/javascript": [
       "\n",
       "            setTimeout(function() {\n",
       "                var nbb_cell_id = 12;\n",
       "                var nbb_unformatted_code = \"pre_trained_model = InceptionV3(\\n    input_shape=(150, 150, 3), include_top=False, weights=None\\n)\\npre_trained_model.load_weights(weights_file)\\nfor layer in pre_trained_model.layers:\\n    layer.trainable = False\\nlast_layer = pre_trained_model.get_layer(\\\"mixed7\\\")\\nprint(\\\"The shape of last layer is \\\", last_layer.output_shape)\\nlast_layer_output = last_layer.output\";\n",
       "                var nbb_formatted_code = \"pre_trained_model = InceptionV3(\\n    input_shape=(150, 150, 3), include_top=False, weights=None\\n)\\npre_trained_model.load_weights(weights_file)\\nfor layer in pre_trained_model.layers:\\n    layer.trainable = False\\nlast_layer = pre_trained_model.get_layer(\\\"mixed7\\\")\\nprint(\\\"The shape of last layer is \\\", last_layer.output_shape)\\nlast_layer_output = last_layer.output\";\n",
       "                var nbb_cells = Jupyter.notebook.get_cells();\n",
       "                for (var i = 0; i < nbb_cells.length; ++i) {\n",
       "                    if (nbb_cells[i].input_prompt_number == nbb_cell_id) {\n",
       "                        if (nbb_cells[i].get_text() == nbb_unformatted_code) {\n",
       "                             nbb_cells[i].set_text(nbb_formatted_code);\n",
       "                        }\n",
       "                        break;\n",
       "                    }\n",
       "                }\n",
       "            }, 500);\n",
       "            "
      ],
      "text/plain": [
       "<IPython.core.display.Javascript object>"
      ]
     },
     "metadata": {},
     "output_type": "display_data"
    }
   ],
   "source": [
    "pre_trained_model = InceptionV3(\n",
    "    input_shape=(150, 150, 3), include_top=False, weights=None\n",
    ")\n",
    "pre_trained_model.load_weights(weights_file)\n",
    "for layer in pre_trained_model.layers:\n",
    "    layer.trainable = False\n",
    "last_layer = pre_trained_model.get_layer(\"mixed7\")\n",
    "print(\"The shape of last layer is \", last_layer.output_shape)\n",
    "last_layer_output = last_layer.output"
   ]
  },
  {
   "cell_type": "code",
   "execution_count": 22,
   "metadata": {},
   "outputs": [
    {
     "data": {
      "application/javascript": [
       "\n",
       "            setTimeout(function() {\n",
       "                var nbb_cell_id = 22;\n",
       "                var nbb_unformatted_code = \"x = layers.Flatten()(last_layer_output)\\nx = layers.Dense(1024, activation=\\\"relu\\\")(x)\\nx = layers.Dropout(0.2)(x)\\nx = layers.Dense(1, activation=\\\"sigmoid\\\")(x)\\nmodel = Model(pre_trained_model.input, x)\\nmodel.compile(\\n    optimizer=RMSprop(lr=0.0001), loss=\\\"binary_crossentropy\\\", metrics=[\\\"accuracy\\\"]\\n)\";\n",
       "                var nbb_formatted_code = \"x = layers.Flatten()(last_layer_output)\\nx = layers.Dense(1024, activation=\\\"relu\\\")(x)\\nx = layers.Dropout(0.2)(x)\\nx = layers.Dense(1, activation=\\\"sigmoid\\\")(x)\\nmodel = Model(pre_trained_model.input, x)\\nmodel.compile(\\n    optimizer=RMSprop(lr=0.0001), loss=\\\"binary_crossentropy\\\", metrics=[\\\"accuracy\\\"]\\n)\";\n",
       "                var nbb_cells = Jupyter.notebook.get_cells();\n",
       "                for (var i = 0; i < nbb_cells.length; ++i) {\n",
       "                    if (nbb_cells[i].input_prompt_number == nbb_cell_id) {\n",
       "                        if (nbb_cells[i].get_text() == nbb_unformatted_code) {\n",
       "                             nbb_cells[i].set_text(nbb_formatted_code);\n",
       "                        }\n",
       "                        break;\n",
       "                    }\n",
       "                }\n",
       "            }, 500);\n",
       "            "
      ],
      "text/plain": [
       "<IPython.core.display.Javascript object>"
      ]
     },
     "metadata": {},
     "output_type": "display_data"
    }
   ],
   "source": [
    "x = layers.Flatten()(last_layer_output)\n",
    "x = layers.Dense(1024, activation=\"relu\")(x)\n",
    "x = layers.Dropout(0.2)(x)\n",
    "x = layers.Dense(1, activation=\"sigmoid\")(x)\n",
    "model = Model(pre_trained_model.input, x)\n",
    "model.compile(\n",
    "    optimizer=RMSprop(lr=0.0001), loss=\"binary_crossentropy\", metrics=[\"accuracy\"]\n",
    ")"
   ]
  },
  {
   "cell_type": "code",
   "execution_count": 30,
   "metadata": {},
   "outputs": [
    {
     "name": "stdout",
     "output_type": "stream",
     "text": [
      "Found 2000 images belonging to 2 classes.\n",
      "Found 1000 images belonging to 2 classes.\n"
     ]
    },
    {
     "data": {
      "application/javascript": [
       "\n",
       "            setTimeout(function() {\n",
       "                var nbb_cell_id = 30;\n",
       "                var nbb_unformatted_code = \"train_datagen = ImageDataGenerator(rescale=1.0 / 255.0)\\ntrain_generator = train_datagen.flow_from_directory(\\n    train_dataset_basepath, target_size=(150, 150), batch_size=20, class_mode=\\\"binary\\\"\\n)\\n\\nvalidation_datagen = ImageDataGenerator(rescale=1.0 / 255.0)\\nvalidation_generator = validation_datagen.flow_from_directory(validation_dataset_basepath, target_size=(150, 150), batch_size=10, class_mode='binary')\";\n",
       "                var nbb_formatted_code = \"train_datagen = ImageDataGenerator(rescale=1.0 / 255.0)\\ntrain_generator = train_datagen.flow_from_directory(\\n    train_dataset_basepath, target_size=(150, 150), batch_size=20, class_mode=\\\"binary\\\"\\n)\\n\\nvalidation_datagen = ImageDataGenerator(rescale=1.0 / 255.0)\\nvalidation_generator = validation_datagen.flow_from_directory(\\n    validation_dataset_basepath,\\n    target_size=(150, 150),\\n    batch_size=10,\\n    class_mode=\\\"binary\\\",\\n)\";\n",
       "                var nbb_cells = Jupyter.notebook.get_cells();\n",
       "                for (var i = 0; i < nbb_cells.length; ++i) {\n",
       "                    if (nbb_cells[i].input_prompt_number == nbb_cell_id) {\n",
       "                        if (nbb_cells[i].get_text() == nbb_unformatted_code) {\n",
       "                             nbb_cells[i].set_text(nbb_formatted_code);\n",
       "                        }\n",
       "                        break;\n",
       "                    }\n",
       "                }\n",
       "            }, 500);\n",
       "            "
      ],
      "text/plain": [
       "<IPython.core.display.Javascript object>"
      ]
     },
     "metadata": {},
     "output_type": "display_data"
    }
   ],
   "source": [
    "train_datagen = ImageDataGenerator(rescale=1.0 / 255.0)\n",
    "train_generator = train_datagen.flow_from_directory(\n",
    "    train_dataset_basepath, target_size=(150, 150), batch_size=20, class_mode=\"binary\"\n",
    ")\n",
    "\n",
    "validation_datagen = ImageDataGenerator(rescale=1.0 / 255.0)\n",
    "validation_generator = validation_datagen.flow_from_directory(\n",
    "    validation_dataset_basepath,\n",
    "    target_size=(150, 150),\n",
    "    batch_size=10,\n",
    "    class_mode=\"binary\",\n",
    ")"
   ]
  },
  {
   "cell_type": "code",
   "execution_count": 31,
   "metadata": {},
   "outputs": [
    {
     "name": "stdout",
     "output_type": "stream",
     "text": [
      "Epoch 1/15\n",
      "100/100 [==============================] - 119s 1s/step - loss: 0.2153 - accuracy: 0.9215 - val_loss: 0.1270 - val_accuracy: 0.9550\n",
      "Epoch 2/15\n",
      "100/100 [==============================] - 115s 1s/step - loss: 0.0321 - accuracy: 0.9890 - val_loss: 0.1806 - val_accuracy: 0.9480\n",
      "Epoch 3/15\n",
      "100/100 [==============================] - 104s 1s/step - loss: 0.0109 - accuracy: 0.9965 - val_loss: 0.1565 - val_accuracy: 0.9650\n",
      "Epoch 4/15\n",
      "100/100 [==============================] - 121s 1s/step - loss: 0.0021 - accuracy: 0.9990 - val_loss: 0.1852 - val_accuracy: 0.9630\n",
      "Epoch 5/15\n",
      "100/100 [==============================] - 117s 1s/step - loss: 0.0024 - accuracy: 0.9990 - val_loss: 0.2045 - val_accuracy: 0.9610\n",
      "Epoch 6/15\n",
      "100/100 [==============================] - 99s 992ms/step - loss: 9.4157e-05 - accuracy: 1.0000 - val_loss: 0.2356 - val_accuracy: 0.9610\n",
      "Epoch 7/15\n",
      "100/100 [==============================] - 101s 1s/step - loss: 4.2095e-05 - accuracy: 1.0000 - val_loss: 0.2550 - val_accuracy: 0.9610\n",
      "Epoch 8/15\n",
      "100/100 [==============================] - 97s 975ms/step - loss: 1.2975e-05 - accuracy: 1.0000 - val_loss: 0.2467 - val_accuracy: 0.9640\n",
      "Epoch 9/15\n",
      "100/100 [==============================] - 98s 976ms/step - loss: 8.1155e-06 - accuracy: 1.0000 - val_loss: 0.2935 - val_accuracy: 0.9560\n",
      "Epoch 10/15\n",
      "100/100 [==============================] - 97s 974ms/step - loss: 5.2192e-07 - accuracy: 1.0000 - val_loss: 0.2602 - val_accuracy: 0.9630\n",
      "Epoch 11/15\n",
      "100/100 [==============================] - 98s 976ms/step - loss: 8.9275e-08 - accuracy: 1.0000 - val_loss: 0.2651 - val_accuracy: 0.9600\n",
      "Epoch 12/15\n",
      "100/100 [==============================] - 97s 967ms/step - loss: 3.3563e-08 - accuracy: 1.0000 - val_loss: 0.2687 - val_accuracy: 0.9610\n",
      "Epoch 13/15\n",
      "100/100 [==============================] - 111s 1s/step - loss: 2.0322e-08 - accuracy: 1.0000 - val_loss: 0.2722 - val_accuracy: 0.9610\n",
      "Epoch 14/15\n",
      "100/100 [==============================] - 106s 1s/step - loss: 1.5791e-08 - accuracy: 1.0000 - val_loss: 0.2737 - val_accuracy: 0.9620\n",
      "Epoch 15/15\n",
      "100/100 [==============================] - 99s 989ms/step - loss: 1.0076e-08 - accuracy: 1.0000 - val_loss: 0.2740 - val_accuracy: 0.9590\n"
     ]
    },
    {
     "data": {
      "application/javascript": [
       "\n",
       "            setTimeout(function() {\n",
       "                var nbb_cell_id = 31;\n",
       "                var nbb_unformatted_code = \"history = model.fit(\\n    train_generator,\\n    epochs=15,\\n    steps_per_epoch=100,\\n    validation_data=validation_generator,\\n    validation_steps=100\\n)\";\n",
       "                var nbb_formatted_code = \"history = model.fit(\\n    train_generator,\\n    epochs=15,\\n    steps_per_epoch=100,\\n    validation_data=validation_generator,\\n    validation_steps=100,\\n)\";\n",
       "                var nbb_cells = Jupyter.notebook.get_cells();\n",
       "                for (var i = 0; i < nbb_cells.length; ++i) {\n",
       "                    if (nbb_cells[i].input_prompt_number == nbb_cell_id) {\n",
       "                        if (nbb_cells[i].get_text() == nbb_unformatted_code) {\n",
       "                             nbb_cells[i].set_text(nbb_formatted_code);\n",
       "                        }\n",
       "                        break;\n",
       "                    }\n",
       "                }\n",
       "            }, 500);\n",
       "            "
      ],
      "text/plain": [
       "<IPython.core.display.Javascript object>"
      ]
     },
     "metadata": {},
     "output_type": "display_data"
    }
   ],
   "source": [
    "history = model.fit(\n",
    "    train_generator,\n",
    "    epochs=15,\n",
    "    steps_per_epoch=100,\n",
    "    validation_data=validation_generator,\n",
    "    validation_steps=100,\n",
    ")"
   ]
  },
  {
   "cell_type": "code",
   "execution_count": 41,
   "metadata": {},
   "outputs": [
    {
     "data": {
      "image/png": "[encoded data removed]",
      "text/plain": [
       "<Figure size 720x720 with 1 Axes>"
      ]
     },
     "metadata": {
      "needs_background": "light"
     },
     "output_type": "display_data"
    },
    {
     "data": {
      "application/javascript": [
       "\n",
       "            setTimeout(function() {\n",
       "                var nbb_cell_id = 41;\n",
       "                var nbb_unformatted_code = \"history_data = history.history\\ntrain_acc = history_data[\\\"accuracy\\\"]\\nval_acc = history_data[\\\"val_accuracy\\\"]\\ntrain_loss = history_data[\\\"loss\\\"]\\nval_loss = history_data[\\\"val_loss\\\"]\\ndf = pd.DataFrame(\\n    {\\\"epochs\\\": range(len(train_acc)), \\\"val_acc\\\": val_acc, \\\"train_acc\\\": train_acc}\\n)\\np2 = Plot(df)\\np2.plot_bulk(\\n    [\\n        {\\n            \\\"type\\\": \\\"line\\\",\\n            \\\"params\\\": (\\n                \\\"epochs\\\",\\n                \\\"train_acc\\\",\\n                {\\n                    \\\"axes_settings\\\": {\\\"title\\\": \\\"Training And Validation Loss\\\",},\\n                    \\\"label\\\": \\\"Training Accuracy\\\",\\n                    \\\"legend\\\": \\\"brief\\\",\\n                },\\n            ),\\n        },\\n        {\\n            \\\"type\\\": \\\"line\\\",\\n            \\\"params\\\": (\\n                \\\"epochs\\\",\\n                \\\"val_acc\\\",\\n                {\\n                    \\\"axes_settings\\\": {\\\"title\\\": \\\"Training And Validation Loss\\\",},\\n                    \\\"label\\\": \\\"Validation accuracy\\\",\\n                    \\\"legend\\\": \\\"brief\\\",\\n                },\\n            ),\\n        },\\n    ],\\n    single_axes=True,\\n)\";\n",
       "                var nbb_formatted_code = \"history_data = history.history\\ntrain_acc = history_data[\\\"accuracy\\\"]\\nval_acc = history_data[\\\"val_accuracy\\\"]\\ntrain_loss = history_data[\\\"loss\\\"]\\nval_loss = history_data[\\\"val_loss\\\"]\\ndf = pd.DataFrame(\\n    {\\\"epochs\\\": range(len(train_acc)), \\\"val_acc\\\": val_acc, \\\"train_acc\\\": train_acc}\\n)\\np2 = Plot(df)\\np2.plot_bulk(\\n    [\\n        {\\n            \\\"type\\\": \\\"line\\\",\\n            \\\"params\\\": (\\n                \\\"epochs\\\",\\n                \\\"train_acc\\\",\\n                {\\n                    \\\"axes_settings\\\": {\\\"title\\\": \\\"Training And Validation Loss\\\",},\\n                    \\\"label\\\": \\\"Training Accuracy\\\",\\n                    \\\"legend\\\": \\\"brief\\\",\\n                },\\n            ),\\n        },\\n        {\\n            \\\"type\\\": \\\"line\\\",\\n            \\\"params\\\": (\\n                \\\"epochs\\\",\\n                \\\"val_acc\\\",\\n                {\\n                    \\\"axes_settings\\\": {\\\"title\\\": \\\"Training And Validation Loss\\\",},\\n                    \\\"label\\\": \\\"Validation accuracy\\\",\\n                    \\\"legend\\\": \\\"brief\\\",\\n                },\\n            ),\\n        },\\n    ],\\n    single_axes=True,\\n)\";\n",
       "                var nbb_cells = Jupyter.notebook.get_cells();\n",
       "                for (var i = 0; i < nbb_cells.length; ++i) {\n",
       "                    if (nbb_cells[i].input_prompt_number == nbb_cell_id) {\n",
       "                        if (nbb_cells[i].get_text() == nbb_unformatted_code) {\n",
       "                             nbb_cells[i].set_text(nbb_formatted_code);\n",
       "                        }\n",
       "                        break;\n",
       "                    }\n",
       "                }\n",
       "            }, 500);\n",
       "            "
      ],
      "text/plain": [
       "<IPython.core.display.Javascript object>"
      ]
     },
     "metadata": {},
     "output_type": "display_data"
    }
   ],
   "source": [
    "history_data = history.history\n",
    "train_acc = history_data[\"accuracy\"]\n",
    "val_acc = history_data[\"val_accuracy\"]\n",
    "train_loss = history_data[\"loss\"]\n",
    "val_loss = history_data[\"val_loss\"]\n",
    "df = pd.DataFrame(\n",
    "    {\"epochs\": range(len(train_acc)), \"val_acc\": val_acc, \"train_acc\": train_acc}\n",
    ")\n",
    "p2 = Plot(df)\n",
    "p2.plot_bulk(\n",
    "    [\n",
    "        {\n",
    "            \"type\": \"line\",\n",
    "            \"params\": (\n",
    "                \"epochs\",\n",
    "                \"train_acc\",\n",
    "                {\n",
    "                    \"axes_settings\": {\"title\": \"Training And Validation Loss\",},\n",
    "                    \"label\": \"Training Accuracy\",\n",
    "                    \"legend\": \"brief\",\n",
    "                },\n",
    "            ),\n",
    "        },\n",
    "        {\n",
    "            \"type\": \"line\",\n",
    "            \"params\": (\n",
    "                \"epochs\",\n",
    "                \"val_acc\",\n",
    "                {\n",
    "                    \"axes_settings\": {\"title\": \"Training And Validation Loss\",},\n",
    "                    \"label\": \"Validation accuracy\",\n",
    "                    \"legend\": \"brief\",\n",
    "                },\n",
    "            ),\n",
    "        },\n",
    "    ],\n",
    "    single_axes=True,\n",
    ")"
   ]
  },
  {
   "cell_type": "code",
   "execution_count": 42,
   "metadata": {},
   "outputs": [
    {
     "data": {
      "image/png": "[encoded data removed]",
      "text/plain": [
       "<Figure size 432x288 with 1 Axes>"
      ]
     },
     "metadata": {
      "needs_background": "light"
     },
     "output_type": "display_data"
    },
    {
     "data": {
      "text/plain": [
       "<Figure size 432x288 with 0 Axes>"
      ]
     },
     "metadata": {},
     "output_type": "display_data"
    },
    {
     "data": {
      "application/javascript": [
       "\n",
       "            setTimeout(function() {\n",
       "                var nbb_cell_id = 42;\n",
       "                var nbb_unformatted_code = \"import matplotlib.pyplot as plt\\nacc = history.history['accuracy']\\nval_acc = history.history['val_accuracy']\\nloss = history.history['loss']\\nval_loss = history.history['val_loss']\\n\\nepochs = range(len(acc))\\n\\nplt.plot(epochs, acc, 'r', label='Training accuracy')\\nplt.plot(epochs, val_acc, 'b', label='Validation accuracy')\\nplt.title('Training and validation accuracy')\\nplt.legend(loc=0)\\nplt.figure()\\n\\n\\nplt.show()\";\n",
       "                var nbb_formatted_code = \"import matplotlib.pyplot as plt\\n\\nacc = history.history[\\\"accuracy\\\"]\\nval_acc = history.history[\\\"val_accuracy\\\"]\\nloss = history.history[\\\"loss\\\"]\\nval_loss = history.history[\\\"val_loss\\\"]\\n\\nepochs = range(len(acc))\\n\\nplt.plot(epochs, acc, \\\"r\\\", label=\\\"Training accuracy\\\")\\nplt.plot(epochs, val_acc, \\\"b\\\", label=\\\"Validation accuracy\\\")\\nplt.title(\\\"Training and validation accuracy\\\")\\nplt.legend(loc=0)\\nplt.figure()\\n\\n\\nplt.show()\";\n",
       "                var nbb_cells = Jupyter.notebook.get_cells();\n",
       "                for (var i = 0; i < nbb_cells.length; ++i) {\n",
       "                    if (nbb_cells[i].input_prompt_number == nbb_cell_id) {\n",
       "                        if (nbb_cells[i].get_text() == nbb_unformatted_code) {\n",
       "                             nbb_cells[i].set_text(nbb_formatted_code);\n",
       "                        }\n",
       "                        break;\n",
       "                    }\n",
       "                }\n",
       "            }, 500);\n",
       "            "
      ],
      "text/plain": [
       "<IPython.core.display.Javascript object>"
      ]
     },
     "metadata": {},
     "output_type": "display_data"
    }
   ],
   "source": [
    "import matplotlib.pyplot as plt\n",
    "\n",
    "acc = history.history[\"accuracy\"]\n",
    "val_acc = history.history[\"val_accuracy\"]\n",
    "loss = history.history[\"loss\"]\n",
    "val_loss = history.history[\"val_loss\"]\n",
    "\n",
    "epochs = range(len(acc))\n",
    "\n",
    "plt.plot(epochs, acc, \"r\", label=\"Training accuracy\")\n",
    "plt.plot(epochs, val_acc, \"b\", label=\"Validation accuracy\")\n",
    "plt.title(\"Training and validation accuracy\")\n",
    "plt.legend(loc=0)\n",
    "plt.figure()\n",
    "\n",
    "\n",
    "plt.show()"
   ]
  },
  {
   "cell_type": "code",
   "execution_count": null,
   "metadata": {},
   "outputs": [],
   "source": []
  }
 ],
 "metadata": {
  "kernelspec": {
   "display_name": "datascience",
   "language": "python",
   "name": "datascience"
  },
  "language_info": {
   "codemirror_mode": {
    "name": "ipython",
    "version": 3
   },
   "file_extension": ".py",
   "mimetype": "text/x-python",
   "name": "python",
   "nbconvert_exporter": "python",
   "pygments_lexer": "ipython3",
   "version": "3.8.3"
  }
 },
 "nbformat": 4,
 "nbformat_minor": 4
}
