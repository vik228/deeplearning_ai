{
 "cells": [
  {
   "cell_type": "code",
   "execution_count": 4,
   "metadata": {},
   "outputs": [],
   "source": [
    "import pandas as pd\n",
    "import numpy as np\n",
    "import tensorflow as tf\n",
    "from tensorflow.keras.preprocessing.image import ImageDataGenerator"
   ]
  },
  {
   "cell_type": "code",
   "execution_count": 9,
   "metadata": {},
   "outputs": [],
   "source": [
    "base_train_path = \"../../../../datasets/rps/\"\n",
    "base_test_path = \"../../../../datasets/rps-test-set/\""
   ]
  },
  {
   "cell_type": "code",
   "execution_count": 16,
   "metadata": {},
   "outputs": [
    {
     "name": "stdout",
     "output_type": "stream",
     "text": [
      "Found 2520 images belonging to 3 classes.\n"
     ]
    }
   ],
   "source": [
    "train_datagen = ImageDataGenerator(rescale = 1.0/255.0)\n",
    "train_generator = train_datagen.flow_from_directory(\n",
    "    base_train_path,\n",
    "    target_size=(150, 150),\n",
    "    batch_size=100,\n",
    "    class_mode=\"categorical\"\n",
    ")"
   ]
  },
  {
   "cell_type": "code",
   "execution_count": 17,
   "metadata": {},
   "outputs": [
    {
     "name": "stdout",
     "output_type": "stream",
     "text": [
      "Found 372 images belonging to 3 classes.\n"
     ]
    }
   ],
   "source": [
    "validation_datagen = ImageDataGenerator(rescale = 1.0/255.0)\n",
    "validation_generator = validation_datagen.flow_from_directory(\n",
    "    base_test_path, \n",
    "    batch_size=100, \n",
    "    target_size=(150, 150),\n",
    "    class_mode=\"categorical\"\n",
    ")"
   ]
  },
  {
   "cell_type": "code",
   "execution_count": 19,
   "metadata": {},
   "outputs": [],
   "source": [
    "model = tf.keras.Sequential(\n",
    "    [\n",
    "        tf.keras.layers.Conv2D(16, (3, 3), activation=\"relu\", input_shape=(150, 150, 3)),\n",
    "        tf.keras.layers.MaxPooling2D(2,2),\n",
    "        tf.keras.layers.Conv2D(32, (3,3), activation=\"relu\"),\n",
    "        tf.keras.layers.MaxPooling2D(2,2),\n",
    "        tf.keras.layers.Conv2D(32, (3,3), activation=\"relu\"),\n",
    "        tf.keras.layers.MaxPooling2D(2,2),\n",
    "        tf.keras.layers.Conv2D(64, (3,3), activation=\"relu\"),\n",
    "        tf.keras.layers.MaxPooling2D(2,2),\n",
    "        tf.keras.layers.Flatten(),\n",
    "        tf.keras.layers.Dense(512, activation=\"relu\"),\n",
    "        tf.keras.layers.Dense(3, activation=tf.nn.softmax)\n",
    "    ]\n",
    ")"
   ]
  },
  {
   "cell_type": "code",
   "execution_count": 23,
   "metadata": {},
   "outputs": [
    {
     "name": "stdout",
     "output_type": "stream",
     "text": [
      "Epoch 1/15\n",
      "26/26 [==============================] - 32s 1s/step - loss: 0.9438 - accuracy: 0.5817 - val_loss: 0.7559 - val_accuracy: 0.6640\n",
      "Epoch 2/15\n",
      "26/26 [==============================] - 44s 2s/step - loss: 0.1899 - accuracy: 0.9333 - val_loss: 0.4071 - val_accuracy: 0.9382\n",
      "Epoch 3/15\n",
      "26/26 [==============================] - 45s 2s/step - loss: 0.0147 - accuracy: 0.9972 - val_loss: 0.5460 - val_accuracy: 0.9086\n",
      "Epoch 4/15\n",
      "26/26 [==============================] - 43s 2s/step - loss: 0.0037 - accuracy: 0.9996 - val_loss: 0.5985 - val_accuracy: 0.9194\n",
      "Epoch 5/15\n",
      "26/26 [==============================] - 38s 1s/step - loss: 0.0015 - accuracy: 1.0000 - val_loss: 0.6282 - val_accuracy: 0.9167\n",
      "Epoch 6/15\n",
      "26/26 [==============================] - 38s 1s/step - loss: 5.9461e-04 - accuracy: 1.0000 - val_loss: 0.6652 - val_accuracy: 0.8898\n",
      "Epoch 7/15\n",
      "26/26 [==============================] - 38s 1s/step - loss: 1.8292e-04 - accuracy: 1.0000 - val_loss: 0.6999 - val_accuracy: 0.8898\n",
      "Epoch 8/15\n",
      "26/26 [==============================] - 41s 2s/step - loss: 1.3105e-04 - accuracy: 1.0000 - val_loss: 0.7284 - val_accuracy: 0.8898\n",
      "Epoch 9/15\n",
      "26/26 [==============================] - 33s 1s/step - loss: 1.0377e-04 - accuracy: 1.0000 - val_loss: 0.7505 - val_accuracy: 0.8871\n",
      "Epoch 10/15\n",
      "26/26 [==============================] - 38s 1s/step - loss: 8.6150e-05 - accuracy: 1.0000 - val_loss: 0.7685 - val_accuracy: 0.8844\n",
      "Epoch 11/15\n",
      "26/26 [==============================] - 39s 2s/step - loss: 7.5189e-05 - accuracy: 1.0000 - val_loss: 0.7840 - val_accuracy: 0.8871\n",
      "Epoch 12/15\n",
      "26/26 [==============================] - 38s 1s/step - loss: 6.2565e-05 - accuracy: 1.0000 - val_loss: 0.7850 - val_accuracy: 0.8871\n",
      "Epoch 13/15\n",
      "26/26 [==============================] - 38s 1s/step - loss: 5.4139e-05 - accuracy: 1.0000 - val_loss: 0.7981 - val_accuracy: 0.8844\n",
      "Epoch 14/15\n",
      "26/26 [==============================] - 39s 1s/step - loss: 4.7972e-05 - accuracy: 1.0000 - val_loss: 0.8020 - val_accuracy: 0.8871\n",
      "Epoch 15/15\n",
      "26/26 [==============================] - 38s 1s/step - loss: 4.2264e-05 - accuracy: 1.0000 - val_loss: 0.8119 - val_accuracy: 0.8871\n"
     ]
    }
   ],
   "source": [
    "model.compile(\n",
    "    optimizer=tf.optimizers.Adam(),\n",
    "    loss=\"categorical_crossentropy\",\n",
    "    metrics=[\"accuracy\"],\n",
    ")\n",
    "history = model.fit(\n",
    "    train_generator, \n",
    "    epochs=15, \n",
    "    steps_per_epoch=26, \n",
    "    validation_data=validation_generator, \n",
    "    validation_steps=4\n",
    ")"
   ]
  },
  {
   "cell_type": "code",
   "execution_count": null,
   "metadata": {},
   "outputs": [],
   "source": []
  }
 ],
 "metadata": {
  "kernelspec": {
   "display_name": "datascience",
   "language": "python",
   "name": "datascience"
  },
  "language_info": {
   "codemirror_mode": {
    "name": "ipython",
    "version": 3
   },
   "file_extension": ".py",
   "mimetype": "text/x-python",
   "name": "python",
   "nbconvert_exporter": "python",
   "pygments_lexer": "ipython3",
   "version": "3.8.3"
  }
 },
 "nbformat": 4,
 "nbformat_minor": 4
}
