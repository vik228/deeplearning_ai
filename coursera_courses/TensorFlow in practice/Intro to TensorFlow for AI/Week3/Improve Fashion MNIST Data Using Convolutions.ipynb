{
 "cells": [
  {
   "cell_type": "code",
   "execution_count": 22,
   "metadata": {},
   "outputs": [
    {
     "name": "stdout",
     "output_type": "stream",
     "text": [
      "The nb_black extension is already loaded. To reload it, use:\n",
      "  %reload_ext nb_black\n"
     ]
    },
    {
     "data": {
      "application/javascript": [
       "\n",
       "            setTimeout(function() {\n",
       "                var nbb_cell_id = 22;\n",
       "                var nbb_unformatted_code = \"%load_ext nb_black\\nimport tensorflow as tf\\nimport numpy as np\";\n",
       "                var nbb_formatted_code = \"%load_ext nb_black\\nimport tensorflow as tf\\nimport numpy as np\";\n",
       "                var nbb_cells = Jupyter.notebook.get_cells();\n",
       "                for (var i = 0; i < nbb_cells.length; ++i) {\n",
       "                    if (nbb_cells[i].input_prompt_number == nbb_cell_id) {\n",
       "                        if (nbb_cells[i].get_text() == nbb_unformatted_code) {\n",
       "                             nbb_cells[i].set_text(nbb_formatted_code);\n",
       "                        }\n",
       "                        break;\n",
       "                    }\n",
       "                }\n",
       "            }, 500);\n",
       "            "
      ],
      "text/plain": [
       "<IPython.core.display.Javascript object>"
      ]
     },
     "metadata": {},
     "output_type": "display_data"
    }
   ],
   "source": [
    "%load_ext nb_black\n",
    "import tensorflow as tf\n",
    "import numpy as np"
   ]
  },
  {
   "cell_type": "code",
   "execution_count": 23,
   "metadata": {},
   "outputs": [
    {
     "data": {
      "application/javascript": [
       "\n",
       "            setTimeout(function() {\n",
       "                var nbb_cell_id = 23;\n",
       "                var nbb_unformatted_code = \"fashion_mnist = tf.keras.datasets.fashion_mnist\";\n",
       "                var nbb_formatted_code = \"fashion_mnist = tf.keras.datasets.fashion_mnist\";\n",
       "                var nbb_cells = Jupyter.notebook.get_cells();\n",
       "                for (var i = 0; i < nbb_cells.length; ++i) {\n",
       "                    if (nbb_cells[i].input_prompt_number == nbb_cell_id) {\n",
       "                        if (nbb_cells[i].get_text() == nbb_unformatted_code) {\n",
       "                             nbb_cells[i].set_text(nbb_formatted_code);\n",
       "                        }\n",
       "                        break;\n",
       "                    }\n",
       "                }\n",
       "            }, 500);\n",
       "            "
      ],
      "text/plain": [
       "<IPython.core.display.Javascript object>"
      ]
     },
     "metadata": {},
     "output_type": "display_data"
    }
   ],
   "source": [
    "fashion_mnist = tf.keras.datasets.fashion_mnist"
   ]
  },
  {
   "cell_type": "code",
   "execution_count": 24,
   "metadata": {},
   "outputs": [
    {
     "data": {
      "application/javascript": [
       "\n",
       "            setTimeout(function() {\n",
       "                var nbb_cell_id = 24;\n",
       "                var nbb_unformatted_code = \"(\\n    (training_images, training_labels),\\n    (testing_images, testing_labels),\\n) = fashion_mnist.load_data()\";\n",
       "                var nbb_formatted_code = \"(\\n    (training_images, training_labels),\\n    (testing_images, testing_labels),\\n) = fashion_mnist.load_data()\";\n",
       "                var nbb_cells = Jupyter.notebook.get_cells();\n",
       "                for (var i = 0; i < nbb_cells.length; ++i) {\n",
       "                    if (nbb_cells[i].input_prompt_number == nbb_cell_id) {\n",
       "                        if (nbb_cells[i].get_text() == nbb_unformatted_code) {\n",
       "                             nbb_cells[i].set_text(nbb_formatted_code);\n",
       "                        }\n",
       "                        break;\n",
       "                    }\n",
       "                }\n",
       "            }, 500);\n",
       "            "
      ],
      "text/plain": [
       "<IPython.core.display.Javascript object>"
      ]
     },
     "metadata": {},
     "output_type": "display_data"
    }
   ],
   "source": [
    "(\n",
    "    (training_images, training_labels),\n",
    "    (testing_images, testing_labels),\n",
    ") = fashion_mnist.load_data()"
   ]
  },
  {
   "cell_type": "code",
   "execution_count": 25,
   "metadata": {},
   "outputs": [
    {
     "data": {
      "application/javascript": [
       "\n",
       "            setTimeout(function() {\n",
       "                var nbb_cell_id = 25;\n",
       "                var nbb_unformatted_code = \"training_images = training_images.reshape(60000, 28, 28, 1)\\ntraining_images = training_images / 255.0\\ntesting_images = testing_images.reshape(10000, 28, 28, 1)\\ntesting_images = testing_images / 255.0\";\n",
       "                var nbb_formatted_code = \"training_images = training_images.reshape(60000, 28, 28, 1)\\ntraining_images = training_images / 255.0\\ntesting_images = testing_images.reshape(10000, 28, 28, 1)\\ntesting_images = testing_images / 255.0\";\n",
       "                var nbb_cells = Jupyter.notebook.get_cells();\n",
       "                for (var i = 0; i < nbb_cells.length; ++i) {\n",
       "                    if (nbb_cells[i].input_prompt_number == nbb_cell_id) {\n",
       "                        if (nbb_cells[i].get_text() == nbb_unformatted_code) {\n",
       "                             nbb_cells[i].set_text(nbb_formatted_code);\n",
       "                        }\n",
       "                        break;\n",
       "                    }\n",
       "                }\n",
       "            }, 500);\n",
       "            "
      ],
      "text/plain": [
       "<IPython.core.display.Javascript object>"
      ]
     },
     "metadata": {},
     "output_type": "display_data"
    }
   ],
   "source": [
    "training_images = training_images.reshape(60000, 28, 28, 1)\n",
    "training_images = training_images / 255.0\n",
    "testing_images = testing_images.reshape(10000, 28, 28, 1)\n",
    "testing_images = testing_images / 255.0"
   ]
  },
  {
   "cell_type": "code",
   "execution_count": 26,
   "metadata": {},
   "outputs": [
    {
     "data": {
      "application/javascript": [
       "\n",
       "            setTimeout(function() {\n",
       "                var nbb_cell_id = 26;\n",
       "                var nbb_unformatted_code = \"model = tf.keras.Sequential(\\n    [\\n        tf.keras.layers.Conv2D(64, (3, 3), activation=\\\"relu\\\", input_shape=(28, 28, 1)),\\n        tf.keras.layers.MaxPooling2D(2, 2),\\n        tf.keras.layers.Conv2D(64, (3, 3), activation=\\\"relu\\\"),\\n        tf.keras.layers.MaxPooling2D(2, 2),\\n        tf.keras.layers.Flatten(),\\n        tf.keras.layers.Dense(128, activation=tf.nn.relu),\\n        tf.keras.layers.Dense(10, activation=tf.nn.softmax),\\n    ]\\n)\";\n",
       "                var nbb_formatted_code = \"model = tf.keras.Sequential(\\n    [\\n        tf.keras.layers.Conv2D(64, (3, 3), activation=\\\"relu\\\", input_shape=(28, 28, 1)),\\n        tf.keras.layers.MaxPooling2D(2, 2),\\n        tf.keras.layers.Conv2D(64, (3, 3), activation=\\\"relu\\\"),\\n        tf.keras.layers.MaxPooling2D(2, 2),\\n        tf.keras.layers.Flatten(),\\n        tf.keras.layers.Dense(128, activation=tf.nn.relu),\\n        tf.keras.layers.Dense(10, activation=tf.nn.softmax),\\n    ]\\n)\";\n",
       "                var nbb_cells = Jupyter.notebook.get_cells();\n",
       "                for (var i = 0; i < nbb_cells.length; ++i) {\n",
       "                    if (nbb_cells[i].input_prompt_number == nbb_cell_id) {\n",
       "                        if (nbb_cells[i].get_text() == nbb_unformatted_code) {\n",
       "                             nbb_cells[i].set_text(nbb_formatted_code);\n",
       "                        }\n",
       "                        break;\n",
       "                    }\n",
       "                }\n",
       "            }, 500);\n",
       "            "
      ],
      "text/plain": [
       "<IPython.core.display.Javascript object>"
      ]
     },
     "metadata": {},
     "output_type": "display_data"
    }
   ],
   "source": [
    "model = tf.keras.Sequential(\n",
    "    [\n",
    "        tf.keras.layers.Conv2D(64, (3, 3), activation=\"relu\", input_shape=(28, 28, 1)),\n",
    "        tf.keras.layers.MaxPooling2D(2, 2),\n",
    "        tf.keras.layers.Conv2D(64, (3, 3), activation=\"relu\"),\n",
    "        tf.keras.layers.MaxPooling2D(2, 2),\n",
    "        tf.keras.layers.Flatten(),\n",
    "        tf.keras.layers.Dense(128, activation=tf.nn.relu),\n",
    "        tf.keras.layers.Dense(10, activation=tf.nn.softmax),\n",
    "    ]\n",
    ")"
   ]
  },
  {
   "cell_type": "code",
   "execution_count": 27,
   "metadata": {},
   "outputs": [
    {
     "data": {
      "application/javascript": [
       "\n",
       "            setTimeout(function() {\n",
       "                var nbb_cell_id = 27;\n",
       "                var nbb_unformatted_code = \"model.compile(\\n    optimizer=\\\"adam\\\", loss=\\\"sparse_categorical_crossentropy\\\", metrics=[\\\"accuracy\\\"]\\n)\";\n",
       "                var nbb_formatted_code = \"model.compile(\\n    optimizer=\\\"adam\\\", loss=\\\"sparse_categorical_crossentropy\\\", metrics=[\\\"accuracy\\\"]\\n)\";\n",
       "                var nbb_cells = Jupyter.notebook.get_cells();\n",
       "                for (var i = 0; i < nbb_cells.length; ++i) {\n",
       "                    if (nbb_cells[i].input_prompt_number == nbb_cell_id) {\n",
       "                        if (nbb_cells[i].get_text() == nbb_unformatted_code) {\n",
       "                             nbb_cells[i].set_text(nbb_formatted_code);\n",
       "                        }\n",
       "                        break;\n",
       "                    }\n",
       "                }\n",
       "            }, 500);\n",
       "            "
      ],
      "text/plain": [
       "<IPython.core.display.Javascript object>"
      ]
     },
     "metadata": {},
     "output_type": "display_data"
    }
   ],
   "source": [
    "model.compile(\n",
    "    optimizer=\"adam\", loss=\"sparse_categorical_crossentropy\", metrics=[\"accuracy\"]\n",
    ")"
   ]
  },
  {
   "cell_type": "code",
   "execution_count": 28,
   "metadata": {},
   "outputs": [
    {
     "name": "stdout",
     "output_type": "stream",
     "text": [
      "Epoch 1/15\n",
      "1875/1875 [==============================] - 52s 28ms/step - loss: 0.4432 - accuracy: 0.8403\n",
      "Epoch 2/15\n",
      "1875/1875 [==============================] - 50s 27ms/step - loss: 0.2937 - accuracy: 0.8931\n",
      "Epoch 3/15\n",
      "1875/1875 [==============================] - 49s 26ms/step - loss: 0.2503 - accuracy: 0.9079\n",
      "Epoch 4/15\n",
      "1875/1875 [==============================] - 48s 26ms/step - loss: 0.2168 - accuracy: 0.9201\n",
      "Epoch 5/15\n",
      "1875/1875 [==============================] - 1152s 614ms/step - loss: 0.1909 - accuracy: 0.9297\n",
      "Epoch 6/15\n",
      "1875/1875 [==============================] - 51s 27ms/step - loss: 0.1703 - accuracy: 0.9357\n",
      "Epoch 7/15\n",
      "1875/1875 [==============================] - 50s 27ms/step - loss: 0.1486 - accuracy: 0.9445\n",
      "Epoch 8/15\n",
      "1875/1875 [==============================] - 50s 27ms/step - loss: 0.1324 - accuracy: 0.9508\n",
      "Epoch 9/15\n",
      "1875/1875 [==============================] - 89s 47ms/step - loss: 0.1147 - accuracy: 0.9573\n",
      "Epoch 10/15\n",
      "1875/1875 [==============================] - 47s 25ms/step - loss: 0.1021 - accuracy: 0.9615\n",
      "Epoch 11/15\n",
      "1875/1875 [==============================] - 143s 76ms/step - loss: 0.0872 - accuracy: 0.9668\n",
      "Epoch 12/15\n",
      "1875/1875 [==============================] - 58s 31ms/step - loss: 0.0798 - accuracy: 0.9693\n",
      "Epoch 13/15\n",
      "1875/1875 [==============================] - 60s 32ms/step - loss: 0.0698 - accuracy: 0.9738\n",
      "Epoch 14/15\n",
      "1875/1875 [==============================] - 58s 31ms/step - loss: 0.0624 - accuracy: 0.9760\n",
      "Epoch 15/15\n",
      "1875/1875 [==============================] - 64s 34ms/step - loss: 0.0560 - accuracy: 0.9792\n",
      "313/313 [==============================] - 3s 9ms/step - loss: 0.4015 - accuracy: 0.9088\n"
     ]
    },
    {
     "data": {
      "application/javascript": [
       "\n",
       "            setTimeout(function() {\n",
       "                var nbb_cell_id = 28;\n",
       "                var nbb_unformatted_code = \"class myCallback(tf.keras.callbacks.Callback):\\n    def on_epoch_end(self, epoch, logs={}):\\n        if logs.get(\\\"accuracy\\\") >= 0.998:\\n            print(\\\"\\\\nReached 99% accuracy so cancelling training\\\")\\n            self.model.stop_training = True\\n\\n\\ncallbacks = myCallback()\\nhistory = model.fit(training_images, training_labels, epochs=15, callbacks=[callbacks])\\ntest_loss = model.evaluate(testing_images, testing_labels)\";\n",
       "                var nbb_formatted_code = \"class myCallback(tf.keras.callbacks.Callback):\\n    def on_epoch_end(self, epoch, logs={}):\\n        if logs.get(\\\"accuracy\\\") >= 0.998:\\n            print(\\\"\\\\nReached 99% accuracy so cancelling training\\\")\\n            self.model.stop_training = True\\n\\n\\ncallbacks = myCallback()\\nhistory = model.fit(training_images, training_labels, epochs=15, callbacks=[callbacks])\\ntest_loss = model.evaluate(testing_images, testing_labels)\";\n",
       "                var nbb_cells = Jupyter.notebook.get_cells();\n",
       "                for (var i = 0; i < nbb_cells.length; ++i) {\n",
       "                    if (nbb_cells[i].input_prompt_number == nbb_cell_id) {\n",
       "                        if (nbb_cells[i].get_text() == nbb_unformatted_code) {\n",
       "                             nbb_cells[i].set_text(nbb_formatted_code);\n",
       "                        }\n",
       "                        break;\n",
       "                    }\n",
       "                }\n",
       "            }, 500);\n",
       "            "
      ],
      "text/plain": [
       "<IPython.core.display.Javascript object>"
      ]
     },
     "metadata": {},
     "output_type": "display_data"
    }
   ],
   "source": [
    "class myCallback(tf.keras.callbacks.Callback):\n",
    "    def on_epoch_end(self, epoch, logs={}):\n",
    "        if logs.get(\"accuracy\") >= 0.998:\n",
    "            print(\"\\nReached 99% accuracy so cancelling training\")\n",
    "            self.model.stop_training = True\n",
    "\n",
    "\n",
    "callbacks = myCallback()\n",
    "history = model.fit(training_images, training_labels, epochs=15, callbacks=[callbacks])\n",
    "test_loss = model.evaluate(testing_images, testing_labels)\n"
   ]
  },
  {
   "cell_type": "code",
   "execution_count": null,
   "metadata": {},
   "outputs": [],
   "source": []
  }
 ],
 "metadata": {
  "kernelspec": {
   "display_name": "datascience",
   "language": "python",
   "name": "datascience"
  },
  "language_info": {
   "codemirror_mode": {
    "name": "ipython",
    "version": 3
   },
   "file_extension": ".py",
   "mimetype": "text/x-python",
   "name": "python",
   "nbconvert_exporter": "python",
   "pygments_lexer": "ipython3",
   "version": "3.8.3"
  }
 },
 "nbformat": 4,
 "nbformat_minor": 4
}
