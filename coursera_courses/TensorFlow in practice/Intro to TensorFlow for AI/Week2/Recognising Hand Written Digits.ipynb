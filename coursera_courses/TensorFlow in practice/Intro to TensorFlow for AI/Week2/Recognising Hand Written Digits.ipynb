{
 "cells": [
  {
   "cell_type": "code",
   "execution_count": 23,
   "metadata": {},
   "outputs": [
    {
     "name": "stdout",
     "output_type": "stream",
     "text": [
      "The nb_black extension is already loaded. To reload it, use:\n",
      "  %reload_ext nb_black\n"
     ]
    },
    {
     "data": {
      "application/javascript": [
       "\n",
       "            setTimeout(function() {\n",
       "                var nbb_cell_id = 23;\n",
       "                var nbb_unformatted_code = \"%load_ext nb_black\\nimport numpy as np\\nimport tensorflow as tf\";\n",
       "                var nbb_formatted_code = \"%load_ext nb_black\\nimport numpy as np\\nimport tensorflow as tf\";\n",
       "                var nbb_cells = Jupyter.notebook.get_cells();\n",
       "                for (var i = 0; i < nbb_cells.length; ++i) {\n",
       "                    if (nbb_cells[i].input_prompt_number == nbb_cell_id) {\n",
       "                        if (nbb_cells[i].get_text() == nbb_unformatted_code) {\n",
       "                             nbb_cells[i].set_text(nbb_formatted_code);\n",
       "                        }\n",
       "                        break;\n",
       "                    }\n",
       "                }\n",
       "            }, 500);\n",
       "            "
      ],
      "text/plain": [
       "<IPython.core.display.Javascript object>"
      ]
     },
     "metadata": {},
     "output_type": "display_data"
    }
   ],
   "source": [
    "%load_ext nb_black\n",
    "import numpy as np\n",
    "import tensorflow as tf"
   ]
  },
  {
   "cell_type": "code",
   "execution_count": 24,
   "metadata": {},
   "outputs": [
    {
     "data": {
      "application/javascript": [
       "\n",
       "            setTimeout(function() {\n",
       "                var nbb_cell_id = 24;\n",
       "                var nbb_unformatted_code = \"mnist = tf.keras.datasets.mnist\";\n",
       "                var nbb_formatted_code = \"mnist = tf.keras.datasets.mnist\";\n",
       "                var nbb_cells = Jupyter.notebook.get_cells();\n",
       "                for (var i = 0; i < nbb_cells.length; ++i) {\n",
       "                    if (nbb_cells[i].input_prompt_number == nbb_cell_id) {\n",
       "                        if (nbb_cells[i].get_text() == nbb_unformatted_code) {\n",
       "                             nbb_cells[i].set_text(nbb_formatted_code);\n",
       "                        }\n",
       "                        break;\n",
       "                    }\n",
       "                }\n",
       "            }, 500);\n",
       "            "
      ],
      "text/plain": [
       "<IPython.core.display.Javascript object>"
      ]
     },
     "metadata": {},
     "output_type": "display_data"
    }
   ],
   "source": [
    "mnist = tf.keras.datasets.mnist"
   ]
  },
  {
   "cell_type": "code",
   "execution_count": 34,
   "metadata": {},
   "outputs": [
    {
     "data": {
      "application/javascript": [
       "\n",
       "            setTimeout(function() {\n",
       "                var nbb_cell_id = 34;\n",
       "                var nbb_unformatted_code = \"(tr_data, tr_label), (te_data, te_label) = mnist.load_data()\\ntr_data = tr_data.reshape(60000, 28, 28, 1)\\nte_data = te_data.reshape(10000, 28, 28, 1)\";\n",
       "                var nbb_formatted_code = \"(tr_data, tr_label), (te_data, te_label) = mnist.load_data()\\ntr_data = tr_data.reshape(60000, 28, 28, 1)\\nte_data = te_data.reshape(10000, 28, 28, 1)\";\n",
       "                var nbb_cells = Jupyter.notebook.get_cells();\n",
       "                for (var i = 0; i < nbb_cells.length; ++i) {\n",
       "                    if (nbb_cells[i].input_prompt_number == nbb_cell_id) {\n",
       "                        if (nbb_cells[i].get_text() == nbb_unformatted_code) {\n",
       "                             nbb_cells[i].set_text(nbb_formatted_code);\n",
       "                        }\n",
       "                        break;\n",
       "                    }\n",
       "                }\n",
       "            }, 500);\n",
       "            "
      ],
      "text/plain": [
       "<IPython.core.display.Javascript object>"
      ]
     },
     "metadata": {},
     "output_type": "display_data"
    }
   ],
   "source": [
    "(tr_data, tr_label), (te_data, te_label) = mnist.load_data()\n",
    "tr_data = tr_data.reshape(60000, 28, 28, 1)\n",
    "te_data = te_data.reshape(10000, 28, 28, 1)"
   ]
  },
  {
   "cell_type": "code",
   "execution_count": 35,
   "metadata": {},
   "outputs": [
    {
     "data": {
      "application/javascript": [
       "\n",
       "            setTimeout(function() {\n",
       "                var nbb_cell_id = 35;\n",
       "                var nbb_unformatted_code = \"tr_data = tr_data / 255.0\\nte_data = te_data / 255.0\";\n",
       "                var nbb_formatted_code = \"tr_data = tr_data / 255.0\\nte_data = te_data / 255.0\";\n",
       "                var nbb_cells = Jupyter.notebook.get_cells();\n",
       "                for (var i = 0; i < nbb_cells.length; ++i) {\n",
       "                    if (nbb_cells[i].input_prompt_number == nbb_cell_id) {\n",
       "                        if (nbb_cells[i].get_text() == nbb_unformatted_code) {\n",
       "                             nbb_cells[i].set_text(nbb_formatted_code);\n",
       "                        }\n",
       "                        break;\n",
       "                    }\n",
       "                }\n",
       "            }, 500);\n",
       "            "
      ],
      "text/plain": [
       "<IPython.core.display.Javascript object>"
      ]
     },
     "metadata": {},
     "output_type": "display_data"
    }
   ],
   "source": [
    "tr_data = tr_data / 255.0\n",
    "te_data = te_data / 255.0"
   ]
  },
  {
   "cell_type": "code",
   "execution_count": 45,
   "metadata": {},
   "outputs": [
    {
     "data": {
      "application/javascript": [
       "\n",
       "            setTimeout(function() {\n",
       "                var nbb_cell_id = 45;\n",
       "                var nbb_unformatted_code = \"model = tf.keras.Sequential(\\n    [\\n        tf.keras.layers.Conv2D(32, (3, 3), activation=\\\"relu\\\", input_shape=(28, 28, 1)),\\n        tf.keras.layers.MaxPooling2D(2, 2),\\n        tf.keras.layers.Conv2D(32, (3, 3), activation=\\\"relu\\\"),\\n        tf.keras.layers.Flatten(),\\n        tf.keras.layers.Dense(128, activation=tf.nn.relu),\\n        tf.keras.layers.Dense(10, activation=tf.nn.softmax),\\n    ]\\n)\";\n",
       "                var nbb_formatted_code = \"model = tf.keras.Sequential(\\n    [\\n        tf.keras.layers.Conv2D(32, (3, 3), activation=\\\"relu\\\", input_shape=(28, 28, 1)),\\n        tf.keras.layers.MaxPooling2D(2, 2),\\n        tf.keras.layers.Conv2D(32, (3, 3), activation=\\\"relu\\\"),\\n        tf.keras.layers.Flatten(),\\n        tf.keras.layers.Dense(128, activation=tf.nn.relu),\\n        tf.keras.layers.Dense(10, activation=tf.nn.softmax),\\n    ]\\n)\";\n",
       "                var nbb_cells = Jupyter.notebook.get_cells();\n",
       "                for (var i = 0; i < nbb_cells.length; ++i) {\n",
       "                    if (nbb_cells[i].input_prompt_number == nbb_cell_id) {\n",
       "                        if (nbb_cells[i].get_text() == nbb_unformatted_code) {\n",
       "                             nbb_cells[i].set_text(nbb_formatted_code);\n",
       "                        }\n",
       "                        break;\n",
       "                    }\n",
       "                }\n",
       "            }, 500);\n",
       "            "
      ],
      "text/plain": [
       "<IPython.core.display.Javascript object>"
      ]
     },
     "metadata": {},
     "output_type": "display_data"
    }
   ],
   "source": [
    "model = tf.keras.Sequential(\n",
    "    [\n",
    "        tf.keras.layers.Conv2D(32, (3, 3), activation=\"relu\", input_shape=(28, 28, 1)),\n",
    "        tf.keras.layers.MaxPooling2D(2, 2),\n",
    "        tf.keras.layers.Conv2D(32, (3, 3), activation=\"relu\"),\n",
    "        tf.keras.layers.Flatten(),\n",
    "        tf.keras.layers.Dense(128, activation=tf.nn.relu),\n",
    "        tf.keras.layers.Dense(10, activation=tf.nn.softmax),\n",
    "    ]\n",
    ")"
   ]
  },
  {
   "cell_type": "code",
   "execution_count": 46,
   "metadata": {},
   "outputs": [
    {
     "name": "stdout",
     "output_type": "stream",
     "text": [
      "Epoch 1/10\n",
      "1875/1875 [==============================] - 31s 16ms/step - loss: 0.1247 - accuracy: 0.9621\n",
      "Epoch 2/10\n",
      "1875/1875 [==============================] - 31s 17ms/step - loss: 0.0414 - accuracy: 0.9871\n",
      "Epoch 3/10\n",
      "1873/1875 [============================>.] - ETA: 0s - loss: 0.0271 - accuracy: 0.9911\n",
      "Reached 99% accuracy so cancelling training\n",
      "1875/1875 [==============================] - 30s 16ms/step - loss: 0.0271 - accuracy: 0.9911\n",
      "313/313 [==============================] - 2s 5ms/step - loss: 0.0338 - accuracy: 0.9884\n"
     ]
    },
    {
     "data": {
      "application/javascript": [
       "\n",
       "            setTimeout(function() {\n",
       "                var nbb_cell_id = 46;\n",
       "                var nbb_unformatted_code = \"class myCallback(tf.keras.callbacks.Callback):\\n    def on_epoch_end(self, epoch, logs={}):\\n        if logs.get(\\\"accuracy\\\") >= 0.99:\\n            print(\\\"\\\\nReached 99% accuracy so cancelling training\\\")\\n            self.model.stop_training = True\\n\\n\\ncallbacks = myCallback()\\nmodel.compile(\\n    optimizer=tf.optimizers.Adam(),\\n    loss=\\\"sparse_categorical_crossentropy\\\",\\n    metrics=[\\\"accuracy\\\"],\\n)\\nmodel.fit(tr_data, tr_label, epochs=10, callbacks=[callbacks])\\nte_loss, te_accuracy = model.evaluate(te_data, te_label)\";\n",
       "                var nbb_formatted_code = \"class myCallback(tf.keras.callbacks.Callback):\\n    def on_epoch_end(self, epoch, logs={}):\\n        if logs.get(\\\"accuracy\\\") >= 0.99:\\n            print(\\\"\\\\nReached 99% accuracy so cancelling training\\\")\\n            self.model.stop_training = True\\n\\n\\ncallbacks = myCallback()\\nmodel.compile(\\n    optimizer=tf.optimizers.Adam(),\\n    loss=\\\"sparse_categorical_crossentropy\\\",\\n    metrics=[\\\"accuracy\\\"],\\n)\\nmodel.fit(tr_data, tr_label, epochs=10, callbacks=[callbacks])\\nte_loss, te_accuracy = model.evaluate(te_data, te_label)\";\n",
       "                var nbb_cells = Jupyter.notebook.get_cells();\n",
       "                for (var i = 0; i < nbb_cells.length; ++i) {\n",
       "                    if (nbb_cells[i].input_prompt_number == nbb_cell_id) {\n",
       "                        if (nbb_cells[i].get_text() == nbb_unformatted_code) {\n",
       "                             nbb_cells[i].set_text(nbb_formatted_code);\n",
       "                        }\n",
       "                        break;\n",
       "                    }\n",
       "                }\n",
       "            }, 500);\n",
       "            "
      ],
      "text/plain": [
       "<IPython.core.display.Javascript object>"
      ]
     },
     "metadata": {},
     "output_type": "display_data"
    }
   ],
   "source": [
    "class myCallback(tf.keras.callbacks.Callback):\n",
    "    def on_epoch_end(self, epoch, logs={}):\n",
    "        if logs.get(\"accuracy\") >= 0.99:\n",
    "            print(\"\\nReached 99% accuracy so cancelling training\")\n",
    "            self.model.stop_training = True\n",
    "\n",
    "\n",
    "callbacks = myCallback()\n",
    "model.compile(\n",
    "    optimizer=tf.optimizers.Adam(),\n",
    "    loss=\"sparse_categorical_crossentropy\",\n",
    "    metrics=[\"accuracy\"],\n",
    ")\n",
    "model.fit(tr_data, tr_label, epochs=10, callbacks=[callbacks])\n",
    "te_loss, te_accuracy = model.evaluate(te_data, te_label)"
   ]
  },
  {
   "cell_type": "code",
   "execution_count": null,
   "metadata": {},
   "outputs": [],
   "source": []
  }
 ],
 "metadata": {
  "kernelspec": {
   "display_name": "datascience",
   "language": "python",
   "name": "datascience"
  },
  "language_info": {
   "codemirror_mode": {
    "name": "ipython",
    "version": 3
   },
   "file_extension": ".py",
   "mimetype": "text/x-python",
   "name": "python",
   "nbconvert_exporter": "python",
   "pygments_lexer": "ipython3",
   "version": "3.8.3"
  }
 },
 "nbformat": 4,
 "nbformat_minor": 4
}
