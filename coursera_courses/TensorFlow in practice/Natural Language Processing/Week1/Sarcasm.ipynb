{
 "cells": [
  {
   "cell_type": "code",
   "execution_count": 69,
   "metadata": {},
   "outputs": [
    {
     "name": "stdout",
     "output_type": "stream",
     "text": [
      "The nb_black extension is already loaded. To reload it, use:\n",
      "  %reload_ext nb_black\n"
     ]
    },
    {
     "data": {
      "application/javascript": [
       "\n",
       "            setTimeout(function() {\n",
       "                var nbb_cell_id = 69;\n",
       "                var nbb_unformatted_code = \"%load_ext nb_black\\nimport sys\\n\\nsys.path.append(\\\"/Users/vikaspandey/my_projects/deeplearning_ai\\\")\\nimport json\\nimport tensorflow as tf\\nimport pandas as pd\\nimport numpy as np\\nfrom tensorflow.keras.preprocessing.text import Tokenizer\\nfrom tensorflow.keras.preprocessing.sequence import pad_sequences\\nfrom data_visualisation.plot import Plot\";\n",
       "                var nbb_formatted_code = \"%load_ext nb_black\\nimport sys\\n\\nsys.path.append(\\\"/Users/vikaspandey/my_projects/deeplearning_ai\\\")\\nimport json\\nimport tensorflow as tf\\nimport pandas as pd\\nimport numpy as np\\nfrom tensorflow.keras.preprocessing.text import Tokenizer\\nfrom tensorflow.keras.preprocessing.sequence import pad_sequences\\nfrom data_visualisation.plot import Plot\";\n",
       "                var nbb_cells = Jupyter.notebook.get_cells();\n",
       "                for (var i = 0; i < nbb_cells.length; ++i) {\n",
       "                    if (nbb_cells[i].input_prompt_number == nbb_cell_id) {\n",
       "                        if (nbb_cells[i].get_text() == nbb_unformatted_code) {\n",
       "                             nbb_cells[i].set_text(nbb_formatted_code);\n",
       "                        }\n",
       "                        break;\n",
       "                    }\n",
       "                }\n",
       "            }, 500);\n",
       "            "
      ],
      "text/plain": [
       "<IPython.core.display.Javascript object>"
      ]
     },
     "metadata": {},
     "output_type": "display_data"
    }
   ],
   "source": [
    "%load_ext nb_black\n",
    "import sys\n",
    "\n",
    "sys.path.append(\"/Users/vikaspandey/my_projects/deeplearning_ai\")\n",
    "import json\n",
    "import tensorflow as tf\n",
    "import pandas as pd\n",
    "import numpy as np\n",
    "from tensorflow.keras.preprocessing.text import Tokenizer\n",
    "from tensorflow.keras.preprocessing.sequence import pad_sequences\n",
    "from data_visualisation.plot import Plot"
   ]
  },
  {
   "cell_type": "code",
   "execution_count": 73,
   "metadata": {},
   "outputs": [
    {
     "data": {
      "application/javascript": [
       "\n",
       "            setTimeout(function() {\n",
       "                var nbb_cell_id = 73;\n",
       "                var nbb_unformatted_code = \"# hyperparameters\\nvocab_size = 10000\\nembedding_dim = 16\\nmax_length = 100\\ntrunc_type='post'\\npadding_type='post'\\noov_tok = \\\"<OOV>\\\"\\ntraining_size = 20000\\n\\ndataset_basepath = \\\"../../../../datasets/\\\"\";\n",
       "                var nbb_formatted_code = \"# hyperparameters\\nvocab_size = 10000\\nembedding_dim = 16\\nmax_length = 100\\ntrunc_type = \\\"post\\\"\\npadding_type = \\\"post\\\"\\noov_tok = \\\"<OOV>\\\"\\ntraining_size = 20000\\n\\ndataset_basepath = \\\"../../../../datasets/\\\"\";\n",
       "                var nbb_cells = Jupyter.notebook.get_cells();\n",
       "                for (var i = 0; i < nbb_cells.length; ++i) {\n",
       "                    if (nbb_cells[i].input_prompt_number == nbb_cell_id) {\n",
       "                        if (nbb_cells[i].get_text() == nbb_unformatted_code) {\n",
       "                             nbb_cells[i].set_text(nbb_formatted_code);\n",
       "                        }\n",
       "                        break;\n",
       "                    }\n",
       "                }\n",
       "            }, 500);\n",
       "            "
      ],
      "text/plain": [
       "<IPython.core.display.Javascript object>"
      ]
     },
     "metadata": {},
     "output_type": "display_data"
    }
   ],
   "source": [
    "# hyperparameters\n",
    "vocab_size = 10000\n",
    "embedding_dim = 16\n",
    "max_length = 100\n",
    "trunc_type = \"post\"\n",
    "padding_type = \"post\"\n",
    "oov_tok = \"<OOV>\"\n",
    "training_size = 20000\n",
    "\n",
    "dataset_basepath = \"../../../../datasets/\""
   ]
  },
  {
   "cell_type": "code",
   "execution_count": 74,
   "metadata": {},
   "outputs": [
    {
     "data": {
      "application/javascript": [
       "\n",
       "            setTimeout(function() {\n",
       "                var nbb_cell_id = 74;\n",
       "                var nbb_unformatted_code = \"with open(\\\"{0}sarcasm.json\\\".format(dataset_basepath), \\\"r\\\") as f:\\n    datastore = json.load(f)\";\n",
       "                var nbb_formatted_code = \"with open(\\\"{0}sarcasm.json\\\".format(dataset_basepath), \\\"r\\\") as f:\\n    datastore = json.load(f)\";\n",
       "                var nbb_cells = Jupyter.notebook.get_cells();\n",
       "                for (var i = 0; i < nbb_cells.length; ++i) {\n",
       "                    if (nbb_cells[i].input_prompt_number == nbb_cell_id) {\n",
       "                        if (nbb_cells[i].get_text() == nbb_unformatted_code) {\n",
       "                             nbb_cells[i].set_text(nbb_formatted_code);\n",
       "                        }\n",
       "                        break;\n",
       "                    }\n",
       "                }\n",
       "            }, 500);\n",
       "            "
      ],
      "text/plain": [
       "<IPython.core.display.Javascript object>"
      ]
     },
     "metadata": {},
     "output_type": "display_data"
    }
   ],
   "source": [
    "with open(\"{0}sarcasm.json\".format(dataset_basepath), \"r\") as f:\n",
    "    datastore = json.load(f)"
   ]
  },
  {
   "cell_type": "code",
   "execution_count": 75,
   "metadata": {},
   "outputs": [
    {
     "data": {
      "application/javascript": [
       "\n",
       "            setTimeout(function() {\n",
       "                var nbb_cell_id = 75;\n",
       "                var nbb_unformatted_code = \"sentences = []\\nlabels = []\\nfor data in datastore:\\n    sentences.append(data[\\\"headline\\\"])\\n    labels.append(data[\\\"is_sarcastic\\\"])\\ntraining_data = sentences[0:training_size]\\ntraining_labels = labels[0:training_size]\\n\\ntesting_data = sentences[training_size:]\\ntesting_labels = labels[training_size:]\";\n",
       "                var nbb_formatted_code = \"sentences = []\\nlabels = []\\nfor data in datastore:\\n    sentences.append(data[\\\"headline\\\"])\\n    labels.append(data[\\\"is_sarcastic\\\"])\\ntraining_data = sentences[0:training_size]\\ntraining_labels = labels[0:training_size]\\n\\ntesting_data = sentences[training_size:]\\ntesting_labels = labels[training_size:]\";\n",
       "                var nbb_cells = Jupyter.notebook.get_cells();\n",
       "                for (var i = 0; i < nbb_cells.length; ++i) {\n",
       "                    if (nbb_cells[i].input_prompt_number == nbb_cell_id) {\n",
       "                        if (nbb_cells[i].get_text() == nbb_unformatted_code) {\n",
       "                             nbb_cells[i].set_text(nbb_formatted_code);\n",
       "                        }\n",
       "                        break;\n",
       "                    }\n",
       "                }\n",
       "            }, 500);\n",
       "            "
      ],
      "text/plain": [
       "<IPython.core.display.Javascript object>"
      ]
     },
     "metadata": {},
     "output_type": "display_data"
    }
   ],
   "source": [
    "sentences = []\n",
    "labels = []\n",
    "for data in datastore:\n",
    "    sentences.append(data[\"headline\"])\n",
    "    labels.append(data[\"is_sarcastic\"])\n",
    "training_data = sentences[0:training_size]\n",
    "training_labels = labels[0:training_size]\n",
    "\n",
    "testing_data = sentences[training_size:]\n",
    "testing_labels = labels[training_size:]"
   ]
  },
  {
   "cell_type": "code",
   "execution_count": 76,
   "metadata": {},
   "outputs": [
    {
     "data": {
      "text/plain": [
       "(6709, 100)"
      ]
     },
     "execution_count": 76,
     "metadata": {},
     "output_type": "execute_result"
    },
    {
     "data": {
      "application/javascript": [
       "\n",
       "            setTimeout(function() {\n",
       "                var nbb_cell_id = 76;\n",
       "                var nbb_unformatted_code = \"tokenizer = Tokenizer(num_words=vocab_size, oov_token=oov_token)\\ntokenizer.fit_on_texts(training_data)\\n\\ntraining_sequences = tokenizer.texts_to_sequences(training_data)\\ntraining_padded = pad_sequences(\\n    training_sequences,\\n    maxlen=max_length,\\n    padding=padding_type,\\n    truncating=truncating_type,\\n)\\n\\ntesting_sequences = tokenizer.texts_to_sequences(testing_data)\\ntesting_padded = pad_sequences(\\n    testing_sequences,\\n    maxlen=max_length,\\n    padding=padding_type,\\n    truncating=truncating_type,\\n)\\n\\ntraining_padded = np.array(training_padded)\\ntraining_labels = np.array(training_labels)\\ntesting_padded = np.array(testing_padded)\\ntesting_labels = np.array(testing_labels)\\ntesting_padded.shape\";\n",
       "                var nbb_formatted_code = \"tokenizer = Tokenizer(num_words=vocab_size, oov_token=oov_token)\\ntokenizer.fit_on_texts(training_data)\\n\\ntraining_sequences = tokenizer.texts_to_sequences(training_data)\\ntraining_padded = pad_sequences(\\n    training_sequences,\\n    maxlen=max_length,\\n    padding=padding_type,\\n    truncating=truncating_type,\\n)\\n\\ntesting_sequences = tokenizer.texts_to_sequences(testing_data)\\ntesting_padded = pad_sequences(\\n    testing_sequences,\\n    maxlen=max_length,\\n    padding=padding_type,\\n    truncating=truncating_type,\\n)\\n\\ntraining_padded = np.array(training_padded)\\ntraining_labels = np.array(training_labels)\\ntesting_padded = np.array(testing_padded)\\ntesting_labels = np.array(testing_labels)\\ntesting_padded.shape\";\n",
       "                var nbb_cells = Jupyter.notebook.get_cells();\n",
       "                for (var i = 0; i < nbb_cells.length; ++i) {\n",
       "                    if (nbb_cells[i].input_prompt_number == nbb_cell_id) {\n",
       "                        if (nbb_cells[i].get_text() == nbb_unformatted_code) {\n",
       "                             nbb_cells[i].set_text(nbb_formatted_code);\n",
       "                        }\n",
       "                        break;\n",
       "                    }\n",
       "                }\n",
       "            }, 500);\n",
       "            "
      ],
      "text/plain": [
       "<IPython.core.display.Javascript object>"
      ]
     },
     "metadata": {},
     "output_type": "display_data"
    }
   ],
   "source": [
    "tokenizer = Tokenizer(num_words=vocab_size, oov_token=oov_token)\n",
    "tokenizer.fit_on_texts(training_data)\n",
    "\n",
    "training_sequences = tokenizer.texts_to_sequences(training_data)\n",
    "training_padded = pad_sequences(\n",
    "    training_sequences,\n",
    "    maxlen=max_length,\n",
    "    padding=padding_type,\n",
    "    truncating=truncating_type,\n",
    ")\n",
    "\n",
    "testing_sequences = tokenizer.texts_to_sequences(testing_data)\n",
    "testing_padded = pad_sequences(\n",
    "    testing_sequences,\n",
    "    maxlen=max_length,\n",
    "    padding=padding_type,\n",
    "    truncating=truncating_type,\n",
    ")\n",
    "\n",
    "training_padded = np.array(training_padded)\n",
    "training_labels = np.array(training_labels)\n",
    "testing_padded = np.array(testing_padded)\n",
    "testing_labels = np.array(testing_labels)\n",
    "testing_padded.shape"
   ]
  },
  {
   "cell_type": "code",
   "execution_count": 77,
   "metadata": {},
   "outputs": [
    {
     "data": {
      "application/javascript": [
       "\n",
       "            setTimeout(function() {\n",
       "                var nbb_cell_id = 77;\n",
       "                var nbb_unformatted_code = \"model = tf.keras.Sequential(\\n    [\\n        tf.keras.layers.Embedding(vocab_size, embedding_dim, input_length=max_length),\\n        tf.keras.layers.GlobalAveragePooling1D(),\\n        tf.keras.layers.Dense(24, activation=\\\"relu\\\"),\\n        tf.keras.layers.Dense(1, activation=\\\"sigmoid\\\"),\\n    ]\\n)\\nmodel.compile(loss=\\\"binary_crossentropy\\\", optimizer=\\\"adam\\\", metrics=[\\\"accuracy\\\"])\";\n",
       "                var nbb_formatted_code = \"model = tf.keras.Sequential(\\n    [\\n        tf.keras.layers.Embedding(vocab_size, embedding_dim, input_length=max_length),\\n        tf.keras.layers.GlobalAveragePooling1D(),\\n        tf.keras.layers.Dense(24, activation=\\\"relu\\\"),\\n        tf.keras.layers.Dense(1, activation=\\\"sigmoid\\\"),\\n    ]\\n)\\nmodel.compile(loss=\\\"binary_crossentropy\\\", optimizer=\\\"adam\\\", metrics=[\\\"accuracy\\\"])\";\n",
       "                var nbb_cells = Jupyter.notebook.get_cells();\n",
       "                for (var i = 0; i < nbb_cells.length; ++i) {\n",
       "                    if (nbb_cells[i].input_prompt_number == nbb_cell_id) {\n",
       "                        if (nbb_cells[i].get_text() == nbb_unformatted_code) {\n",
       "                             nbb_cells[i].set_text(nbb_formatted_code);\n",
       "                        }\n",
       "                        break;\n",
       "                    }\n",
       "                }\n",
       "            }, 500);\n",
       "            "
      ],
      "text/plain": [
       "<IPython.core.display.Javascript object>"
      ]
     },
     "metadata": {},
     "output_type": "display_data"
    }
   ],
   "source": [
    "model = tf.keras.Sequential(\n",
    "    [\n",
    "        tf.keras.layers.Embedding(vocab_size, embedding_dim, input_length=max_length),\n",
    "        tf.keras.layers.GlobalAveragePooling1D(),\n",
    "        tf.keras.layers.Dense(24, activation=\"relu\"),\n",
    "        tf.keras.layers.Dense(1, activation=\"sigmoid\"),\n",
    "    ]\n",
    ")\n",
    "model.compile(loss=\"binary_crossentropy\", optimizer=\"adam\", metrics=[\"accuracy\"])"
   ]
  },
  {
   "cell_type": "code",
   "execution_count": 78,
   "metadata": {},
   "outputs": [
    {
     "name": "stdout",
     "output_type": "stream",
     "text": [
      "Epoch 1/30\n",
      "625/625 - 2s - loss: 0.6740 - accuracy: 0.5761 - val_loss: 0.6167 - val_accuracy: 0.6438\n",
      "Epoch 2/30\n",
      "625/625 - 2s - loss: 0.4646 - accuracy: 0.8158 - val_loss: 0.3984 - val_accuracy: 0.8365\n",
      "Epoch 3/30\n",
      "625/625 - 2s - loss: 0.3287 - accuracy: 0.8702 - val_loss: 0.3585 - val_accuracy: 0.8515\n",
      "Epoch 4/30\n",
      "625/625 - 2s - loss: 0.2745 - accuracy: 0.8928 - val_loss: 0.3596 - val_accuracy: 0.8384\n",
      "Epoch 5/30\n",
      "625/625 - 2s - loss: 0.2389 - accuracy: 0.9062 - val_loss: 0.3412 - val_accuracy: 0.8562\n",
      "Epoch 6/30\n",
      "625/625 - 2s - loss: 0.2106 - accuracy: 0.9190 - val_loss: 0.3476 - val_accuracy: 0.8517\n",
      "Epoch 7/30\n",
      "625/625 - 2s - loss: 0.1879 - accuracy: 0.9304 - val_loss: 0.3553 - val_accuracy: 0.8512\n",
      "Epoch 8/30\n",
      "625/625 - 2s - loss: 0.1692 - accuracy: 0.9362 - val_loss: 0.3632 - val_accuracy: 0.8533\n",
      "Epoch 9/30\n",
      "625/625 - 2s - loss: 0.1523 - accuracy: 0.9437 - val_loss: 0.3789 - val_accuracy: 0.8535\n",
      "Epoch 10/30\n",
      "625/625 - 2s - loss: 0.1387 - accuracy: 0.9509 - val_loss: 0.4205 - val_accuracy: 0.8389\n",
      "Epoch 11/30\n",
      "625/625 - 1s - loss: 0.1266 - accuracy: 0.9555 - val_loss: 0.4123 - val_accuracy: 0.8524\n",
      "Epoch 12/30\n",
      "625/625 - 1s - loss: 0.1144 - accuracy: 0.9606 - val_loss: 0.4328 - val_accuracy: 0.8490\n",
      "Epoch 13/30\n",
      "625/625 - 1s - loss: 0.1060 - accuracy: 0.9633 - val_loss: 0.4547 - val_accuracy: 0.8474\n",
      "Epoch 14/30\n",
      "625/625 - 2s - loss: 0.0974 - accuracy: 0.9675 - val_loss: 0.4893 - val_accuracy: 0.8408\n",
      "Epoch 15/30\n",
      "625/625 - 2s - loss: 0.0899 - accuracy: 0.9693 - val_loss: 0.5070 - val_accuracy: 0.8404\n",
      "Epoch 16/30\n",
      "625/625 - 2s - loss: 0.0809 - accuracy: 0.9734 - val_loss: 0.5642 - val_accuracy: 0.8305\n",
      "Epoch 17/30\n",
      "625/625 - 2s - loss: 0.0770 - accuracy: 0.9757 - val_loss: 0.5565 - val_accuracy: 0.8392\n",
      "Epoch 18/30\n",
      "625/625 - 1s - loss: 0.0691 - accuracy: 0.9783 - val_loss: 0.5842 - val_accuracy: 0.8380\n",
      "Epoch 19/30\n",
      "625/625 - 2s - loss: 0.0637 - accuracy: 0.9807 - val_loss: 0.6215 - val_accuracy: 0.8334\n",
      "Epoch 20/30\n",
      "625/625 - 2s - loss: 0.0586 - accuracy: 0.9821 - val_loss: 0.6498 - val_accuracy: 0.8332\n",
      "Epoch 21/30\n",
      "625/625 - 2s - loss: 0.0548 - accuracy: 0.9834 - val_loss: 0.6794 - val_accuracy: 0.8311\n",
      "Epoch 22/30\n",
      "625/625 - 2s - loss: 0.0491 - accuracy: 0.9853 - val_loss: 0.7138 - val_accuracy: 0.8278\n",
      "Epoch 23/30\n",
      "625/625 - 2s - loss: 0.0472 - accuracy: 0.9854 - val_loss: 0.7424 - val_accuracy: 0.8274\n",
      "Epoch 24/30\n",
      "625/625 - 2s - loss: 0.0438 - accuracy: 0.9868 - val_loss: 0.7985 - val_accuracy: 0.8220\n",
      "Epoch 25/30\n",
      "625/625 - 2s - loss: 0.0400 - accuracy: 0.9882 - val_loss: 0.8101 - val_accuracy: 0.8232\n",
      "Epoch 26/30\n",
      "625/625 - 2s - loss: 0.0372 - accuracy: 0.9891 - val_loss: 0.8501 - val_accuracy: 0.8201\n",
      "Epoch 27/30\n",
      "625/625 - 2s - loss: 0.0344 - accuracy: 0.9901 - val_loss: 0.8892 - val_accuracy: 0.8153\n",
      "Epoch 28/30\n",
      "625/625 - 2s - loss: 0.0323 - accuracy: 0.9902 - val_loss: 0.9072 - val_accuracy: 0.8185\n",
      "Epoch 29/30\n",
      "625/625 - 2s - loss: 0.0293 - accuracy: 0.9916 - val_loss: 0.9709 - val_accuracy: 0.8162\n",
      "Epoch 30/30\n",
      "625/625 - 2s - loss: 0.0270 - accuracy: 0.9931 - val_loss: 1.0044 - val_accuracy: 0.8150\n"
     ]
    },
    {
     "data": {
      "application/javascript": [
       "\n",
       "            setTimeout(function() {\n",
       "                var nbb_cell_id = 78;\n",
       "                var nbb_unformatted_code = \"num_epochs = 30\\nhistory = model.fit(\\n    training_padded,\\n    training_labels,\\n    epochs=num_epochs,\\n    validation_data=(testing_padded, testing_labels),\\n    verbose=2,\\n)\";\n",
       "                var nbb_formatted_code = \"num_epochs = 30\\nhistory = model.fit(\\n    training_padded,\\n    training_labels,\\n    epochs=num_epochs,\\n    validation_data=(testing_padded, testing_labels),\\n    verbose=2,\\n)\";\n",
       "                var nbb_cells = Jupyter.notebook.get_cells();\n",
       "                for (var i = 0; i < nbb_cells.length; ++i) {\n",
       "                    if (nbb_cells[i].input_prompt_number == nbb_cell_id) {\n",
       "                        if (nbb_cells[i].get_text() == nbb_unformatted_code) {\n",
       "                             nbb_cells[i].set_text(nbb_formatted_code);\n",
       "                        }\n",
       "                        break;\n",
       "                    }\n",
       "                }\n",
       "            }, 500);\n",
       "            "
      ],
      "text/plain": [
       "<IPython.core.display.Javascript object>"
      ]
     },
     "metadata": {},
     "output_type": "display_data"
    }
   ],
   "source": [
    "num_epochs = 30\n",
    "history = model.fit(\n",
    "    training_padded,\n",
    "    training_labels,\n",
    "    epochs=num_epochs,\n",
    "    validation_data=(testing_padded, testing_labels),\n",
    "    verbose=2,\n",
    ")"
   ]
  },
  {
   "cell_type": "code",
   "execution_count": 79,
   "metadata": {},
   "outputs": [
    {
     "data": {
      "application/javascript": [
       "\n",
       "            setTimeout(function() {\n",
       "                var nbb_cell_id = 79;\n",
       "                var nbb_unformatted_code = \"def plot_graphs(df, x_key, y_key, val_y, **kwargs):\\n    p = Plot(df)\\n    plots = [\\n        {\\n            \\\"type\\\": \\\"line\\\",\\n            \\\"params\\\": (\\n                x_key,\\n                y_key,\\n                {\\n                    \\\"axes_settings\\\": {\\\"title\\\": kwargs.get(\\\"title\\\")},\\n                    \\\"label\\\": kwargs.get(\\\"label\\\"),\\n                    \\\"legend\\\": \\\"brief\\\",\\n                },\\n            ),\\n        },\\n        {\\n            \\\"type\\\": \\\"line\\\",\\n            \\\"params\\\": (\\n                x_key,\\n                val_y,\\n                {\\n                    \\\"axes_settings\\\": {\\\"title\\\": kwargs.get(\\\"val_title\\\")},\\n                    \\\"label\\\": kwargs.get(\\\"val_label\\\"),\\n                    \\\"legend\\\": \\\"brief\\\",\\n                },\\n            ),\\n        },\\n    ]\\n    p.plot_bulk(plots, single_axes=True)\";\n",
       "                var nbb_formatted_code = \"def plot_graphs(df, x_key, y_key, val_y, **kwargs):\\n    p = Plot(df)\\n    plots = [\\n        {\\n            \\\"type\\\": \\\"line\\\",\\n            \\\"params\\\": (\\n                x_key,\\n                y_key,\\n                {\\n                    \\\"axes_settings\\\": {\\\"title\\\": kwargs.get(\\\"title\\\")},\\n                    \\\"label\\\": kwargs.get(\\\"label\\\"),\\n                    \\\"legend\\\": \\\"brief\\\",\\n                },\\n            ),\\n        },\\n        {\\n            \\\"type\\\": \\\"line\\\",\\n            \\\"params\\\": (\\n                x_key,\\n                val_y,\\n                {\\n                    \\\"axes_settings\\\": {\\\"title\\\": kwargs.get(\\\"val_title\\\")},\\n                    \\\"label\\\": kwargs.get(\\\"val_label\\\"),\\n                    \\\"legend\\\": \\\"brief\\\",\\n                },\\n            ),\\n        },\\n    ]\\n    p.plot_bulk(plots, single_axes=True)\";\n",
       "                var nbb_cells = Jupyter.notebook.get_cells();\n",
       "                for (var i = 0; i < nbb_cells.length; ++i) {\n",
       "                    if (nbb_cells[i].input_prompt_number == nbb_cell_id) {\n",
       "                        if (nbb_cells[i].get_text() == nbb_unformatted_code) {\n",
       "                             nbb_cells[i].set_text(nbb_formatted_code);\n",
       "                        }\n",
       "                        break;\n",
       "                    }\n",
       "                }\n",
       "            }, 500);\n",
       "            "
      ],
      "text/plain": [
       "<IPython.core.display.Javascript object>"
      ]
     },
     "metadata": {},
     "output_type": "display_data"
    }
   ],
   "source": [
    "def plot_graphs(df, x_key, y_key, val_y, **kwargs):\n",
    "    p = Plot(df)\n",
    "    plots = [\n",
    "        {\n",
    "            \"type\": \"line\",\n",
    "            \"params\": (\n",
    "                x_key,\n",
    "                y_key,\n",
    "                {\n",
    "                    \"axes_settings\": {\"title\": kwargs.get(\"title\")},\n",
    "                    \"label\": kwargs.get(\"label\"),\n",
    "                    \"legend\": \"brief\",\n",
    "                },\n",
    "            ),\n",
    "        },\n",
    "        {\n",
    "            \"type\": \"line\",\n",
    "            \"params\": (\n",
    "                x_key,\n",
    "                val_y,\n",
    "                {\n",
    "                    \"axes_settings\": {\"title\": kwargs.get(\"val_title\")},\n",
    "                    \"label\": kwargs.get(\"val_label\"),\n",
    "                    \"legend\": \"brief\",\n",
    "                },\n",
    "            ),\n",
    "        },\n",
    "    ]\n",
    "    p.plot_bulk(plots, single_axes=True)"
   ]
  },
  {
   "cell_type": "code",
   "execution_count": 80,
   "metadata": {},
   "outputs": [
    {
     "data": {
      "image/png": "[encoded data removed]",
      "text/plain": [
       "<Figure size 720x720 with 1 Axes>"
      ]
     },
     "metadata": {
      "needs_background": "light"
     },
     "output_type": "display_data"
    },
    {
     "data": {
      "image/png": "[encoded data removed]",
      "text/plain": [
       "<Figure size 720x720 with 1 Axes>"
      ]
     },
     "metadata": {
      "needs_background": "light"
     },
     "output_type": "display_data"
    },
    {
     "data": {
      "application/javascript": [
       "\n",
       "            setTimeout(function() {\n",
       "                var nbb_cell_id = 80;\n",
       "                var nbb_unformatted_code = \"history_data = history.history\\nacc = history_data[\\\"accuracy\\\"]\\nloss = history_data[\\\"loss\\\"]\\n\\nval_acc = history_data[\\\"val_accuracy\\\"]\\nval_loss = history_data[\\\"val_loss\\\"]\\n\\ndf_acc = pd.DataFrame({\\\"epochs\\\": range(len(acc)), \\\"acc\\\": acc, \\\"val_acc\\\": val_acc})\\ndf_loss = pd.DataFrame({\\\"epochs\\\": range(len(loss)), \\\"loss\\\": loss, \\\"val_loss\\\": val_loss})\\nplot_graphs(\\n    df_acc,\\n    \\\"epochs\\\",\\n    \\\"acc\\\",\\n    \\\"val_acc\\\",\\n    title=\\\"Training and validation accuracy\\\",\\n    label=\\\"Training Accuracy\\\",\\n    val_label=\\\"Validation Accuracy\\\",\\n)\\n\\nplot_graphs(\\n    df_loss,\\n    \\\"epochs\\\",\\n    \\\"loss\\\",\\n    \\\"val_loss\\\",\\n    title=\\\"Training and validation loss\\\",\\n    label=\\\"Training Loss\\\",\\n    val_label=\\\"Validation Loss\\\",\\n)\";\n",
       "                var nbb_formatted_code = \"history_data = history.history\\nacc = history_data[\\\"accuracy\\\"]\\nloss = history_data[\\\"loss\\\"]\\n\\nval_acc = history_data[\\\"val_accuracy\\\"]\\nval_loss = history_data[\\\"val_loss\\\"]\\n\\ndf_acc = pd.DataFrame({\\\"epochs\\\": range(len(acc)), \\\"acc\\\": acc, \\\"val_acc\\\": val_acc})\\ndf_loss = pd.DataFrame({\\\"epochs\\\": range(len(loss)), \\\"loss\\\": loss, \\\"val_loss\\\": val_loss})\\nplot_graphs(\\n    df_acc,\\n    \\\"epochs\\\",\\n    \\\"acc\\\",\\n    \\\"val_acc\\\",\\n    title=\\\"Training and validation accuracy\\\",\\n    label=\\\"Training Accuracy\\\",\\n    val_label=\\\"Validation Accuracy\\\",\\n)\\n\\nplot_graphs(\\n    df_loss,\\n    \\\"epochs\\\",\\n    \\\"loss\\\",\\n    \\\"val_loss\\\",\\n    title=\\\"Training and validation loss\\\",\\n    label=\\\"Training Loss\\\",\\n    val_label=\\\"Validation Loss\\\",\\n)\";\n",
       "                var nbb_cells = Jupyter.notebook.get_cells();\n",
       "                for (var i = 0; i < nbb_cells.length; ++i) {\n",
       "                    if (nbb_cells[i].input_prompt_number == nbb_cell_id) {\n",
       "                        if (nbb_cells[i].get_text() == nbb_unformatted_code) {\n",
       "                             nbb_cells[i].set_text(nbb_formatted_code);\n",
       "                        }\n",
       "                        break;\n",
       "                    }\n",
       "                }\n",
       "            }, 500);\n",
       "            "
      ],
      "text/plain": [
       "<IPython.core.display.Javascript object>"
      ]
     },
     "metadata": {},
     "output_type": "display_data"
    }
   ],
   "source": [
    "history_data = history.history\n",
    "acc = history_data[\"accuracy\"]\n",
    "loss = history_data[\"loss\"]\n",
    "\n",
    "val_acc = history_data[\"val_accuracy\"]\n",
    "val_loss = history_data[\"val_loss\"]\n",
    "\n",
    "df_acc = pd.DataFrame({\"epochs\": range(len(acc)), \"acc\": acc, \"val_acc\": val_acc})\n",
    "df_loss = pd.DataFrame({\"epochs\": range(len(loss)), \"loss\": loss, \"val_loss\": val_loss})\n",
    "plot_graphs(\n",
    "    df_acc,\n",
    "    \"epochs\",\n",
    "    \"acc\",\n",
    "    \"val_acc\",\n",
    "    title=\"Training and validation accuracy\",\n",
    "    label=\"Training Accuracy\",\n",
    "    val_label=\"Validation Accuracy\",\n",
    ")\n",
    "\n",
    "plot_graphs(\n",
    "    df_loss,\n",
    "    \"epochs\",\n",
    "    \"loss\",\n",
    "    \"val_loss\",\n",
    "    title=\"Training and validation loss\",\n",
    "    label=\"Training Loss\",\n",
    "    val_label=\"Validation Loss\",\n",
    ")"
   ]
  },
  {
   "cell_type": "code",
   "execution_count": null,
   "metadata": {},
   "outputs": [],
   "source": []
  },
  {
   "cell_type": "code",
   "execution_count": null,
   "metadata": {},
   "outputs": [],
   "source": []
  }
 ],
 "metadata": {
  "kernelspec": {
   "display_name": "datascience",
   "language": "python",
   "name": "datascience"
  },
  "language_info": {
   "codemirror_mode": {
    "name": "ipython",
    "version": 3
   },
   "file_extension": ".py",
   "mimetype": "text/x-python",
   "name": "python",
   "nbconvert_exporter": "python",
   "pygments_lexer": "ipython3",
   "version": "3.8.3"
  }
 },
 "nbformat": 4,
 "nbformat_minor": 4
}
