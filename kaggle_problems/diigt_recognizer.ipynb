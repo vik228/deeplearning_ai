{
 "cells": [
  {
   "cell_type": "code",
   "execution_count": 1,
   "metadata": {},
   "outputs": [
    {
     "data": {
      "text/plain": [
       "array([2, 3, 1, 0])"
      ]
     },
     "execution_count": 1,
     "metadata": {},
     "output_type": "execute_result"
    }
   ],
   "source": [
    "import math\n",
    "import sys\n",
    "sys.path.append('/Users/vikaspandey/my_projects/deeplearning_ai')\n",
    "from utils.utils import load_data_from_csv_as_np, convert_to_one_hot\n",
    "from data_visualisation.plot.utils import show_image\n",
    "import pandas as pd\n",
    "import numpy as np\n",
    "import matplotlib.pyplot as plt\n",
    "import tensorflow as tf\n",
    "from tensorflow.python.framework import ops\n",
    "from sklearn.model_selection import train_test_split\n",
    "\n",
    "%matplotlib inline\n",
    "np.random.seed(2)\n",
    "\n",
    "random_seed = 2\n"
   ]
  },
  {
   "cell_type": "code",
   "execution_count": 2,
   "metadata": {},
   "outputs": [],
   "source": [
    "def random_mini_batches(X, Y, mini_batch_size=64, seed=0):\n",
    "    m = X.shape[0]\n",
    "    np.random.seed(seed)\n",
    "    permutation = np.random.permutation(m)\n",
    "    shuffled_X = X[permutation]\n",
    "    shuffled_Y = Y[permutation]\n",
    "    mini_batches = []\n",
    "    number_of_mini_batches = math.floor(\n",
    "        m/mini_batch_size\n",
    "    )\n",
    "    for b in range(0, number_of_mini_batches):\n",
    "        mini_batch_X = shuffled_X[b*mini_batch_size:(b+1)*mini_batch_size]\n",
    "        mini_batch_Y = shuffled_Y[b*mini_batch_size:(b+1)*mini_batch_size]\n",
    "        mini_batches.append((mini_batch_X, mini_batch_Y))\n",
    "    if m % mini_batch_size != 0:\n",
    "        mini_batch_X = shuffled_X[number_of_mini_batches*mini_batch_size:m]\n",
    "        mini_batch_Y = shuffled_Y[number_of_mini_batches*mini_batch_size:m]\n",
    "        mini_batches.append((mini_batch_X, mini_batch_Y))\n",
    "    return mini_batches"
   ]
  },
  {
   "cell_type": "code",
   "execution_count": 3,
   "metadata": {},
   "outputs": [],
   "source": [
    "train_X_orig,train_Y_orig, test_data_orig = load_data_from_csv_as_np(1, dir=\"digit_recognizer\", dtype='int')"
   ]
  },
  {
   "cell_type": "code",
   "execution_count": 4,
   "metadata": {},
   "outputs": [],
   "source": [
    "train_X, val_X, train_Y, val_Y = train_test_split(train_X_orig, train_Y_orig, test_size=0.1, random_state=2)"
   ]
  },
  {
   "cell_type": "code",
   "execution_count": 5,
   "metadata": {},
   "outputs": [
    {
     "name": "stdout",
     "output_type": "stream",
     "text": [
      "number of training examples = 37800\n",
      "number of test examples = 4200\n",
      "X_train shape: (37800, 28, 28, 1)\n",
      "Y_train shape: (37800, 10)\n",
      "X_validation shape: (4200, 28, 28, 1)\n",
      "Y_validation shape: (4200, 10)\n"
     ]
    },
    {
     "data": {
      "image/png": "[encoded data removed]",
      "text/plain": [
       "<Figure size 432x288 with 1 Axes>"
      ]
     },
     "metadata": {
      "needs_background": "light"
     },
     "output_type": "display_data"
    }
   ],
   "source": [
    "train_X = train_X/255.\n",
    "val_X = val_X/255.\n",
    "X_train = train_X.reshape(-1, 28, 28, 1)\n",
    "show_image(X_train[0][:,:,0])\n",
    "X_val = val_X.reshape(-1, 28, 28, 1)\n",
    "(m, nH, nW, nC) = X_train.shape\n",
    "Y_train = train_Y.reshape((1, -1))\n",
    "Y_train = convert_to_one_hot(Y_train, 10).T\n",
    "Y_val = val_Y.reshape((1, -1))\n",
    "Y_val = convert_to_one_hot(Y_val, 10).T\n",
    "print (\"number of training examples = \" + str(X_train.shape[0]))\n",
    "print (\"number of test examples = \" + str(X_val.shape[0]))\n",
    "print (\"X_train shape: \" + str(X_train.shape))\n",
    "print (\"Y_train shape: \" + str(Y_train.shape))\n",
    "print (\"X_validation shape: \" + str(X_val.shape))\n",
    "print(\"Y_validation shape: \" + str(Y_val.shape))\n"
   ]
  },
  {
   "cell_type": "code",
   "execution_count": 6,
   "metadata": {},
   "outputs": [],
   "source": [
    "def create_placeholders(nH0, nW0, nC0, nY):\n",
    "    X = tf.placeholder(tf.float32, shape=[None, nH0, nW0, nC0])\n",
    "    Y = tf.placeholder(tf.float32, shape=[None, nY])\n",
    "    return X, Y"
   ]
  },
  {
   "cell_type": "code",
   "execution_count": 7,
   "metadata": {},
   "outputs": [
    {
     "name": "stdout",
     "output_type": "stream",
     "text": [
      "X = Tensor(\"Placeholder:0\", shape=(?, 28, 28, 1), dtype=float32)\n",
      "Y = Tensor(\"Placeholder_1:0\", shape=(?, 10), dtype=float32)\n"
     ]
    }
   ],
   "source": [
    "X, Y = create_placeholders(28, 28, 1, 10)\n",
    "print (\"X = \" + str(X))\n",
    "print (\"Y = \" + str(Y))"
   ]
  },
  {
   "cell_type": "code",
   "execution_count": 8,
   "metadata": {},
   "outputs": [],
   "source": [
    "def initialize_parameters():\n",
    "    tf.set_random_seed(1)\n",
    "    W1 = tf.get_variable(\"W1\", shape=[5,5,1,32], initializer=tf.contrib.layers.xavier_initializer(seed = 0))\n",
    "    W2 = tf.get_variable(\"W2\", shape=[5,5,32,32], initializer=tf.contrib.layers.xavier_initializer(seed = 0))\n",
    "    W3 = tf.get_variable(\"W3\", shape=[3,3,32,64], initializer=tf.contrib.layers.xavier_initializer(seed = 0))\n",
    "    W4 = tf.get_variable(\"W4\", shape=[3,3,64,64], initializer=tf.contrib.layers.xavier_initializer(seed = 0))\n",
    "    \n",
    "    return {\"W1\": W1, \"W2\": W2, \"W3\": W3, \"W4\": W4}"
   ]
  },
  {
   "cell_type": "code",
   "execution_count": 9,
   "metadata": {},
   "outputs": [
    {
     "name": "stdout",
     "output_type": "stream",
     "text": [
      "\n",
      "WARNING: The TensorFlow contrib module will not be included in TensorFlow 2.0.\n",
      "For more information, please see:\n",
      "  * https://github.com/tensorflow/community/blob/master/rfcs/20180907-contrib-sunset.md\n",
      "  * https://github.com/tensorflow/addons\n",
      "If you depend on functionality not listed there, please file an issue.\n",
      "\n",
      "WARNING:tensorflow:From /Users/vikaspandey/miniconda2/envs/datascience/lib/python3.6/site-packages/tensorflow/python/framework/op_def_library.py:263: colocate_with (from tensorflow.python.framework.ops) is deprecated and will be removed in a future version.\n",
      "Instructions for updating:\n",
      "Colocations handled automatically by placer.\n",
      "W1 = [[-0.05074088  0.00199553  0.00414077 -0.04069575 -0.04086844  0.00398856\n",
      "   0.07175875  0.023808   -0.02326647  0.04586978 -0.08235063  0.00816405\n",
      "  -0.0385248  -0.02892781  0.00744654  0.07795027 -0.05518249  0.05105729\n",
      "  -0.05234016  0.04300165 -0.04925928  0.0612269  -0.03208476 -0.05321277\n",
      "   0.07479723 -0.06783506 -0.05706007 -0.07336373  0.03016851  0.00548052\n",
      "  -0.04078463 -0.06712879]]\n",
      "W2 = [[-0.0333078  -0.02541297 -0.028984   ... -0.01601969  0.01680563\n",
      "   0.03396304]\n",
      " [ 0.06053133 -0.04004252  0.02117505 ...  0.05669088  0.0510536\n",
      "  -0.01937763]\n",
      " [-0.05532394 -0.03151083  0.01312445 ... -0.05549609 -0.02698591\n",
      "  -0.03136879]\n",
      " ...\n",
      " [ 0.04561144  0.0017501   0.01684076 ...  0.01079486  0.05214023\n",
      "  -0.0392384 ]\n",
      " [-0.03104943  0.05581066 -0.00875422 ... -0.00755276  0.04809215\n",
      "   0.03311675]\n",
      " [ 0.01963519 -0.01509554 -0.0150335  ... -0.01026741 -0.04231365\n",
      "   0.03219492]]\n"
     ]
    }
   ],
   "source": [
    "tf.reset_default_graph()\n",
    "with tf.Session() as sess_test:\n",
    "    parameters = initialize_parameters()\n",
    "    init = tf.global_variables_initializer()\n",
    "    sess_test.run(init)\n",
    "    print(\"W1 = \" + str(parameters[\"W1\"].eval()[1,1]))\n",
    "    print(\"W2 = \" + str(parameters[\"W2\"].eval()[1,1]))"
   ]
  },
  {
   "cell_type": "code",
   "execution_count": 10,
   "metadata": {},
   "outputs": [],
   "source": [
    "def forward_propagation(X, parameters):\n",
    "    W1 = parameters['W1']\n",
    "    W2 = parameters['W2']\n",
    "    W3 = parameters['W3']\n",
    "    W4 = parameters['W4']\n",
    "    \n",
    "    Z1 = tf.nn.conv2d(X, W1, strides=[1,1,1,1], padding='SAME')\n",
    "    A1 = tf.nn.relu(Z1)\n",
    "    \n",
    "    Z2 = tf.nn.conv2d(A1, W2, strides=[1,1,1,1], padding=\"SAME\")\n",
    "    A2 = tf.nn.relu(Z2)\n",
    "    \n",
    "    P1 = tf.nn.max_pool(A1, ksize=[1,8,8,1], strides=[1,8,8,1], padding=\"SAME\")\n",
    "    \n",
    "\n",
    "    P2 = tf.nn.max_pool(A2, ksize=[1,2,2,1], strides=[1,1,1,1], padding=\"SAME\")\n",
    "    \n",
    "    Z3 = tf.nn.conv2d(P2, W3, strides=[1,1,1,1], padding=\"SAME\")\n",
    "    \n",
    "    A3 = tf.nn.relu(Z3)\n",
    "    \n",
    "    P3 = tf.nn.max_pool(A3, ksize=[1,8,8,1], strides=[1,8,8,1], padding=\"SAME\")\n",
    "    \n",
    "    Z4 = tf.nn.conv2d(P3, W4, strides=[1,1,1,1], padding=\"SAME\")\n",
    "    \n",
    "    A4 = tf.nn.relu(Z4)\n",
    "    \n",
    "    P4 =  tf.nn.max_pool(A4, ksize=[1,8,8,1], strides=[1,8,8,1], padding=\"SAME\")\n",
    "\n",
    "    F = tf.contrib.layers.flatten(P4)\n",
    "\n",
    "    Z5 = tf.contrib.layers.fully_connected(F, 10, activation_fn=None)\n",
    "\n",
    "\n",
    "    return Z5\n",
    "    \n",
    "    "
   ]
  },
  {
   "cell_type": "code",
   "execution_count": 11,
   "metadata": {},
   "outputs": [
    {
     "name": "stdout",
     "output_type": "stream",
     "text": [
      "WARNING:tensorflow:From /Users/vikaspandey/miniconda2/envs/datascience/lib/python3.6/site-packages/tensorflow/contrib/layers/python/layers/layers.py:1624: flatten (from tensorflow.python.layers.core) is deprecated and will be removed in a future version.\n",
      "Instructions for updating:\n",
      "Use keras.layers.flatten instead.\n",
      "Z5 = [[-0.00265607  0.01272591 -0.00488362  0.007249   -0.00557353  0.02499341\n",
      "   0.02684057 -0.00011968  0.04606749 -0.01753299]\n",
      " [-0.00494749  0.0091344  -0.00634724  0.00917524 -0.00454434  0.01968112\n",
      "   0.02276072  0.00158876  0.04476874 -0.02016742]]\n"
     ]
    }
   ],
   "source": [
    "tf.reset_default_graph()\n",
    "\n",
    "with tf.Session() as sess:\n",
    "    np.random.seed(1)\n",
    "    X, Y = create_placeholders(28, 28, 1, 10)\n",
    "    parameters = initialize_parameters()\n",
    "    Z5 = forward_propagation(X, parameters)\n",
    "    init = tf.global_variables_initializer()\n",
    "    sess.run(init)\n",
    "    a = sess.run(Z5, {X: np.random.randn(2,28,28,1), Y: np.random.randn(2,10)})\n",
    "    print(\"Z5 = \" + str(a))"
   ]
  },
  {
   "cell_type": "code",
   "execution_count": 12,
   "metadata": {},
   "outputs": [],
   "source": [
    "def compute_cost(Z5, Y):\n",
    "    cost = tf.nn.softmax_cross_entropy_with_logits(logits = Z5, labels = Y)\n",
    "    cost = tf.reduce_mean(cost)\n",
    "    \n",
    "    return cost"
   ]
  },
  {
   "cell_type": "code",
   "execution_count": 13,
   "metadata": {},
   "outputs": [
    {
     "name": "stdout",
     "output_type": "stream",
     "text": [
      "WARNING:tensorflow:From <ipython-input-12-4d37cc57cbd7>:2: softmax_cross_entropy_with_logits (from tensorflow.python.ops.nn_ops) is deprecated and will be removed in a future version.\n",
      "Instructions for updating:\n",
      "\n",
      "Future major versions of TensorFlow will allow gradients to flow\n",
      "into the labels input on backprop by default.\n",
      "\n",
      "See `tf.nn.softmax_cross_entropy_with_logits_v2`.\n",
      "\n",
      "cost = 5.02672\n"
     ]
    }
   ],
   "source": [
    "tf.reset_default_graph()\n",
    "\n",
    "with tf.Session() as sess:\n",
    "    np.random.seed(1)\n",
    "    X, Y = create_placeholders(28, 28, 1, 10)\n",
    "    parameters = initialize_parameters()\n",
    "    Z5 = forward_propagation(X, parameters)\n",
    "    cost = compute_cost(Z5, Y)\n",
    "    init = tf.global_variables_initializer()\n",
    "    sess.run(init)\n",
    "    a = sess.run(cost, {X: np.random.randn(4,28,28,1), Y: np.random.randn(4,10)})\n",
    "    print(\"cost = \" + str(a))"
   ]
  },
  {
   "cell_type": "code",
   "execution_count": 19,
   "metadata": {},
   "outputs": [],
   "source": [
    "def plot_costs(costs, learning_rate):\n",
    "    plt.plot(np.squeeze(costs))\n",
    "    plt.ylabel('cost')\n",
    "    plt.xlabel('iterations (per tens)')\n",
    "    plt.title(\"Learning rate =\" + str(learning_rate))\n",
    "    plt.show()"
   ]
  },
  {
   "cell_type": "code",
   "execution_count": 20,
   "metadata": {},
   "outputs": [],
   "source": [
    "def model(X_train, Y_train, X_test, Y_test,learning_rate = 0.009,\n",
    "          num_epochs = 30, minibatch_size = 64, print_cost = True):\n",
    "    \n",
    "    ops.reset_default_graph()\n",
    "    tf.set_random_seed(1)\n",
    "    seed = 3\n",
    "    (m, n_H0, n_W0, n_C0) = X_train.shape\n",
    "    n_y = Y_train.shape[1]\n",
    "    costs = []                                        \n",
    "    \n",
    "    X, Y = create_placeholders(n_H0, n_W0,n_C0, n_y)\n",
    "    parameters = initialize_parameters()\n",
    "    Z3 = forward_propagation(X, parameters)\n",
    "    cost = compute_cost(Z3, Y)\n",
    "    optimizer = tf.train.AdamOptimizer(learning_rate=learning_rate).minimize(cost)\n",
    "\n",
    "    init = tf.global_variables_initializer()\n",
    "    \n",
    "    with tf.Session() as sess:\n",
    "        sess.run(init)\n",
    "        for epoch in range(num_epochs):\n",
    "            minibatch_cost = 0.\n",
    "            num_minibatches = int(m / minibatch_size) \n",
    "            seed = seed + 1\n",
    "            minibatches = random_mini_batches(X_train, Y_train, minibatch_size, seed)\n",
    "            for minibatch in minibatches:\n",
    "                (minibatch_X, minibatch_Y) = minibatch\n",
    "                _ , temp_cost = sess.run([optimizer, cost], feed_dict={X: minibatch_X, Y: minibatch_Y})\n",
    "                minibatch_cost += temp_cost / num_minibatches\n",
    "                \n",
    "            if print_cost == True and epoch % 5 == 0:\n",
    "                print (\"Cost after epoch %i: %f\" % (epoch, minibatch_cost))\n",
    "            if print_cost == True and epoch % 1 == 0:\n",
    "                costs.append(minibatch_cost)\n",
    "        plot_costs(costs, learning_rate)\n",
    "        predict_op = tf.argmax(Z3, 1)\n",
    "        correct_prediction = tf.equal(predict_op, tf.argmax(Y, 1))\n",
    "        accuracy = tf.reduce_mean(tf.cast(correct_prediction, \"float\"))\n",
    "        print(accuracy)\n",
    "        train_accuracy = accuracy.eval({X: X_train, Y: Y_train})\n",
    "        test_accuracy = accuracy.eval({X: X_test, Y: Y_test})\n",
    "        print(\"Train Accuracy:\", train_accuracy)\n",
    "        print(\"Test Accuracy:\", test_accuracy)\n",
    "        \n",
    "        return train_accuracy, test_accuracy, parameters"
   ]
  },
  {
   "cell_type": "code",
   "execution_count": 21,
   "metadata": {},
   "outputs": [
    {
     "name": "stdout",
     "output_type": "stream",
     "text": [
      "Cost after epoch 0: 0.375603\n",
      "Cost after epoch 5: 0.075479\n",
      "Cost after epoch 10: 0.063437\n",
      "Cost after epoch 15: 0.047860\n",
      "Cost after epoch 20: 0.046722\n",
      "Cost after epoch 25: 0.049995\n"
     ]
    },
    {
     "data": {
      "image/png": "[encoded data removed]",
      "text/plain": [
       "<Figure size 432x288 with 1 Axes>"
      ]
     },
     "metadata": {
      "needs_background": "light"
     },
     "output_type": "display_data"
    },
    {
     "name": "stdout",
     "output_type": "stream",
     "text": [
      "Tensor(\"Mean_1:0\", shape=(), dtype=float32)\n",
      "Train Accuracy: 0.9876455\n",
      "Test Accuracy: 0.9759524\n"
     ]
    }
   ],
   "source": [
    "test_data_orig = test_data_orig/255.\n",
    "test_data_orig = test_data_orig.reshape(-1, 28,28,1)\n",
    "_, _, parameters = model(X_train, Y_train, X_val, Y_val)"
   ]
  },
  {
   "cell_type": "code",
   "execution_count": 26,
   "metadata": {},
   "outputs": [
    {
     "name": "stdout",
     "output_type": "stream",
     "text": [
      "[0 8 1 ... 0 1 4]\n"
     ]
    }
   ],
   "source": [
    "graph = parameters['W1'].graph\n",
    "with tf.Session(graph=graph) as result:\n",
    "    X = tf.placeholder(tf.float32, shape=[None, 28, 28, 1])\n",
    "    Z5 = forward_propagation(X, parameters)\n",
    "    predicted_op = tf.argmax(Z5, 1)\n",
    "    init = tf.global_variables_initializer()\n",
    "    result.run(init)\n",
    "    value = result.run(predicted_op, feed_dict={X: test_data_orig})\n",
    "    print(value)"
   ]
  },
  {
   "cell_type": "code",
   "execution_count": 41,
   "metadata": {},
   "outputs": [],
   "source": [
    "answers = []\n",
    "i = 0\n",
    "for prediction in value:\n",
    "    i += 1\n",
    "    answers.append({'ImageId': i, 'Label': prediction})\n",
    "df = pd.DataFrame(answers)"
   ]
  },
  {
   "cell_type": "code",
   "execution_count": 43,
   "metadata": {},
   "outputs": [],
   "source": [
    "df.to_csv(\"result.csv\")"
   ]
  },
  {
   "cell_type": "code",
   "execution_count": null,
   "metadata": {},
   "outputs": [],
   "source": [
    "show_image(X_train[0][:,:,0])"
   ]
  },
  {
   "cell_type": "code",
   "execution_count": null,
   "metadata": {},
   "outputs": [],
   "source": []
  }
 ],
 "metadata": {
  "kernelspec": {
   "display_name": "Python 3",
   "language": "python",
   "name": "python3"
  },
  "language_info": {
   "codemirror_mode": {
    "name": "ipython",
    "version": 3
   },
   "file_extension": ".py",
   "mimetype": "text/x-python",
   "name": "python",
   "nbconvert_exporter": "python",
   "pygments_lexer": "ipython3",
   "version": "3.6.8"
  }
 },
 "nbformat": 4,
 "nbformat_minor": 2
}
