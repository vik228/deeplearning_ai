{
 "cells": [
  {
   "cell_type": "code",
   "execution_count": 3,
   "metadata": {},
   "outputs": [
    {
     "name": "stderr",
     "output_type": "stream",
     "text": [
      "Using TensorFlow backend.\n"
     ]
    }
   ],
   "source": [
    "import math\n",
    "import sys\n",
    "sys.path.append('/Users/vikaspandey/my_projects/deeplearning_ai')\n",
    "import numpy as np\n",
    "import pandas as pd\n",
    "import seaborn as sns\n",
    "from utils.utils import load_data_from_csv_as_np\n",
    "from data_visualisation.plot.utils import show_image\n",
    "\n",
    "from keras.utils.np_utils import to_categorical\n",
    "from sklearn.model_selection import train_test_split\n",
    "from keras.models import Sequential\n",
    "from keras.layers import Dense, Dropout, Flatten, Conv2D, MaxPool2D\n",
    "from keras.optimizers import RMSprop\n",
    "from keras.preprocessing.image import ImageDataGenerator\n",
    "from keras.callbacks import ReduceLROnPlateau\n",
    "\n",
    "%matplotlib inline\n",
    "\n",
    "np.random.seed(2)\n",
    "\n"
   ]
  },
  {
   "cell_type": "code",
   "execution_count": 2,
   "metadata": {},
   "outputs": [
    {
     "ename": "NameError",
     "evalue": "name 'pd' is not defined",
     "output_type": "error",
     "traceback": [
      "\u001b[0;31m---------------------------------------------------------------------------\u001b[0m",
      "\u001b[0;31mNameError\u001b[0m                                 Traceback (most recent call last)",
      "\u001b[0;32m<ipython-input-2-1a1540b940f0>\u001b[0m in \u001b[0;36m<module>\u001b[0;34m\u001b[0m\n\u001b[1;32m      1\u001b[0m \u001b[0;31m#train_X, train_Y, test_data = load_data_from_csv_as_np(1, dir=\"digit_recognizer\", dtype='int')\u001b[0m\u001b[0;34m\u001b[0m\u001b[0;34m\u001b[0m\u001b[0;34m\u001b[0m\u001b[0m\n\u001b[1;32m      2\u001b[0m \u001b[0;34m\u001b[0m\u001b[0m\n\u001b[0;32m----> 3\u001b[0;31m \u001b[0mdata\u001b[0m \u001b[0;34m=\u001b[0m \u001b[0mpd\u001b[0m\u001b[0;34m.\u001b[0m\u001b[0mread_csv\u001b[0m\u001b[0;34m(\u001b[0m\u001b[0;34m\"https://storage.googleapis.com/kagglesdsdata/datasets/494766/1082591/covid_19_clean_complete.csv?GoogleAccessId=web-data@kaggle-161607.iam.gserviceaccount.com&Expires=1587250271&Signature=ju4H%2Fvtdd%2FZu1SBgZ0P%2BZjxIE8oble%2B29QrzHnvRYkzWAmEABja%2BmKTlDwEHnJoDGO83ag1ukX6Y39b4Zr3m7lDM4tC5%2Bj7BAMB4dmHCo8%2F0wmAaq%2BrOj%2FnM0Zge5t7Dh6Fxi4Gtlu7%2B%2F8JWEt5%2FXgXOR2pLLpqOkGXpdlJUfCJSkDtep4g6y%2Fb%2BAhLmYEJNodJcZrouj6RnulzHMGO5RZrJdbs%2FCDQvOluh6ouhM%2BPl4RZRl2cAjwf311S9QevDufd%2FxAn%2B%2FUbmT1ZSBy57QXYI6T4Cho8kyWNvRpAQkgESuQ4C29ET9RteOavqf%2FVHd%2FN9CpFMt7ztKkgpCMizUw%3D%3D&response-content-disposition=attachment%3B+filename%3Dcovid_19_clean_complete.csv\"\u001b[0m\u001b[0;34m)\u001b[0m\u001b[0;34m\u001b[0m\u001b[0;34m\u001b[0m\u001b[0m\n\u001b[0m",
      "\u001b[0;31mNameError\u001b[0m: name 'pd' is not defined"
     ]
    }
   ],
   "source": [
    "#train_X, train_Y, test_data = load_data_from_csv_as_np(1, dir=\"digit_recognizer\", dtype='int')\n",
    "\n",
    "data = pd.read_csv(\"https://storage.googleapis.com/kagglesdsdata/datasets/494766/1082591/covid_19_clean_complete.csv?GoogleAccessId=web-data@kaggle-161607.iam.gserviceaccount.com&Expires=1587250271&Signature=ju4H%2Fvtdd%2FZu1SBgZ0P%2BZjxIE8oble%2B29QrzHnvRYkzWAmEABja%2BmKTlDwEHnJoDGO83ag1ukX6Y39b4Zr3m7lDM4tC5%2Bj7BAMB4dmHCo8%2F0wmAaq%2BrOj%2FnM0Zge5t7Dh6Fxi4Gtlu7%2B%2F8JWEt5%2FXgXOR2pLLpqOkGXpdlJUfCJSkDtep4g6y%2Fb%2BAhLmYEJNodJcZrouj6RnulzHMGO5RZrJdbs%2FCDQvOluh6ouhM%2BPl4RZRl2cAjwf311S9QevDufd%2FxAn%2B%2FUbmT1ZSBy57QXYI6T4Cho8kyWNvRpAQkgESuQ4C29ET9RteOavqf%2FVHd%2FN9CpFMt7ztKkgpCMizUw%3D%3D&response-content-disposition=attachment%3B+filename%3Dcovid_19_clean_complete.csv\")"
   ]
  },
  {
   "cell_type": "code",
   "execution_count": 18,
   "metadata": {},
   "outputs": [],
   "source": [
    "train_X = train_X/255.\n",
    "test = test_data/255."
   ]
  },
  {
   "cell_type": "code",
   "execution_count": 20,
   "metadata": {},
   "outputs": [],
   "source": [
    "train_X = train_X.reshape(-1, 28, 28, 1)\n",
    "test = test.reshape(-1, 28, 28, 1)"
   ]
  },
  {
   "cell_type": "code",
   "execution_count": 29,
   "metadata": {},
   "outputs": [
    {
     "data": {
      "image/png": "[encoded data removed]",
      "text/plain": [
       "<Figure size 432x288 with 1 Axes>"
      ]
     },
     "metadata": {
      "needs_background": "light"
     },
     "output_type": "display_data"
    }
   ],
   "source": [
    "show_image(train_X[3][:, :, 0])"
   ]
  },
  {
   "cell_type": "code",
   "execution_count": 31,
   "metadata": {},
   "outputs": [],
   "source": [
    "train_Y = to_categorical(train_Y, num_classes=10)"
   ]
  },
  {
   "cell_type": "code",
   "execution_count": 33,
   "metadata": {},
   "outputs": [
    {
     "data": {
      "text/plain": [
       "array([[0., 1., 0., ..., 0., 0., 0.],\n",
       "       [1., 0., 0., ..., 0., 0., 0.],\n",
       "       [0., 1., 0., ..., 0., 0., 0.],\n",
       "       ...,\n",
       "       [0., 0., 0., ..., 1., 0., 0.],\n",
       "       [0., 0., 0., ..., 0., 0., 0.],\n",
       "       [0., 0., 0., ..., 0., 0., 1.]], dtype=float32)"
      ]
     },
     "execution_count": 33,
     "metadata": {},
     "output_type": "execute_result"
    }
   ],
   "source": [
    "train_Y"
   ]
  },
  {
   "cell_type": "code",
   "execution_count": 46,
   "metadata": {},
   "outputs": [],
   "source": [
    "random_seed = 2\n",
    "train_X, val_X, train_Y, val_Y = train_test_split(train_X, train_Y, test_size=0.1, random_state=random_seed)"
   ]
  },
  {
   "cell_type": "code",
   "execution_count": 47,
   "metadata": {},
   "outputs": [
    {
     "data": {
      "image/png": "[encoded data removed]",
      "text/plain": [
       "<Figure size 432x288 with 1 Axes>"
      ]
     },
     "metadata": {
      "needs_background": "light"
     },
     "output_type": "display_data"
    }
   ],
   "source": [
    "show_image(train_X[0][:,:,0])"
   ]
  },
  {
   "cell_type": "code",
   "execution_count": 54,
   "metadata": {},
   "outputs": [],
   "source": [
    "model = Sequential()\n",
    "\n",
    "model.add(Conv2D(filters=32, kernel_size=(5,5), activation='relu', padding='same', input_shape=(28,28,1)))\n",
    "model.add(Conv2D(filters=32, kernel_size=(5,5), activation='relu', padding='same'))\n",
    "model.add(MaxPool2D(pool_size=(2,2)))\n",
    "model.add(Dropout(0.25))\n",
    "\n",
    "model.add(Conv2D(filters=64, kernel_size=(3,3), activation='relu', padding='same'))\n",
    "model.add(Conv2D(filters=64, kernel_size=(3,3), activation='relu', padding='same'))"
   ]
  },
  {
   "cell_type": "code",
   "execution_count": null,
   "metadata": {},
   "outputs": [],
   "source": []
  }
 ],
 "metadata": {
  "kernelspec": {
   "display_name": "Python 3",
   "language": "python",
   "name": "python3"
  },
  "language_info": {
   "codemirror_mode": {
    "name": "ipython",
    "version": 3
   },
   "file_extension": ".py",
   "mimetype": "text/x-python",
   "name": "python",
   "nbconvert_exporter": "python",
   "pygments_lexer": "ipython3",
   "version": "3.6.8"
  }
 },
 "nbformat": 4,
 "nbformat_minor": 2
}
