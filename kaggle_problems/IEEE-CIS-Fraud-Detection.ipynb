{
 "cells": [
  {
   "cell_type": "code",
   "execution_count": 27,
   "metadata": {},
   "outputs": [],
   "source": [
    "import sys\n",
    "sys.path.append('/Users/vikaspandey/my_projects/deeplearning_ai')\n",
    "import numpy as np\n",
    "import pandas as pd\n",
    "import matplotlib.pyplot as plt\n",
    "from utils.utils import read_csv_in_pd\n"
   ]
  },
  {
   "cell_type": "code",
   "execution_count": 3,
   "metadata": {},
   "outputs": [],
   "source": [
    "tr_train = read_csv_in_pd(\"IEEE-CIS-Fraud-Detection/transaction\", \"train.csv\")\n",
    "tr_test = read_csv_in_pd(\"IEEE-CIS-Fraud-Detection/transaction\", \"test.csv\")"
   ]
  },
  {
   "cell_type": "code",
   "execution_count": 4,
   "metadata": {},
   "outputs": [],
   "source": [
    "id_train = read_csv_in_pd(\"IEEE-CIS-Fraud-Detection/identity\", \"train.csv\")\n",
    "id_test = read_csv_in_pd(\"IEEE-CIS-Fraud-Detection/identity\", \"test.csv\")"
   ]
  },
  {
   "cell_type": "code",
   "execution_count": 6,
   "metadata": {},
   "outputs": [],
   "source": [
    "train = pd.merge(tr_train, id_train, on='TransactionID', how='left')\n",
    "test = pd.merge(tr_test, tr_test, on='TransactionID', how='left')"
   ]
  },
  {
   "cell_type": "code",
   "execution_count": 9,
   "metadata": {},
   "outputs": [
    {
     "data": {
      "text/html": [
       "<div>\n",
       "<style scoped>\n",
       "    .dataframe tbody tr th:only-of-type {\n",
       "        vertical-align: middle;\n",
       "    }\n",
       "\n",
       "    .dataframe tbody tr th {\n",
       "        vertical-align: top;\n",
       "    }\n",
       "\n",
       "    .dataframe thead th {\n",
       "        text-align: right;\n",
       "    }\n",
       "</style>\n",
       "<table border=\"1\" class=\"dataframe\">\n",
       "  <thead>\n",
       "    <tr style=\"text-align: right;\">\n",
       "      <th></th>\n",
       "      <th>TransactionID</th>\n",
       "      <th>TransactionDT</th>\n",
       "      <th>TransactionAmt</th>\n",
       "      <th>ProductCD</th>\n",
       "      <th>card1</th>\n",
       "      <th>card2</th>\n",
       "      <th>card3</th>\n",
       "      <th>card4</th>\n",
       "      <th>card5</th>\n",
       "      <th>card6</th>\n",
       "      <th>...</th>\n",
       "      <th>id_31</th>\n",
       "      <th>id_32</th>\n",
       "      <th>id_33</th>\n",
       "      <th>id_34</th>\n",
       "      <th>id_35</th>\n",
       "      <th>id_36</th>\n",
       "      <th>id_37</th>\n",
       "      <th>id_38</th>\n",
       "      <th>DeviceType</th>\n",
       "      <th>DeviceInfo</th>\n",
       "    </tr>\n",
       "  </thead>\n",
       "  <tbody>\n",
       "    <tr>\n",
       "      <th>0</th>\n",
       "      <td>2987000</td>\n",
       "      <td>86400</td>\n",
       "      <td>68.5</td>\n",
       "      <td>W</td>\n",
       "      <td>13926</td>\n",
       "      <td>NaN</td>\n",
       "      <td>150.0</td>\n",
       "      <td>discover</td>\n",
       "      <td>142.0</td>\n",
       "      <td>credit</td>\n",
       "      <td>...</td>\n",
       "      <td>NaN</td>\n",
       "      <td>NaN</td>\n",
       "      <td>NaN</td>\n",
       "      <td>NaN</td>\n",
       "      <td>NaN</td>\n",
       "      <td>NaN</td>\n",
       "      <td>NaN</td>\n",
       "      <td>NaN</td>\n",
       "      <td>NaN</td>\n",
       "      <td>NaN</td>\n",
       "    </tr>\n",
       "    <tr>\n",
       "      <th>1</th>\n",
       "      <td>2987001</td>\n",
       "      <td>86401</td>\n",
       "      <td>29.0</td>\n",
       "      <td>W</td>\n",
       "      <td>2755</td>\n",
       "      <td>404.0</td>\n",
       "      <td>150.0</td>\n",
       "      <td>mastercard</td>\n",
       "      <td>102.0</td>\n",
       "      <td>credit</td>\n",
       "      <td>...</td>\n",
       "      <td>NaN</td>\n",
       "      <td>NaN</td>\n",
       "      <td>NaN</td>\n",
       "      <td>NaN</td>\n",
       "      <td>NaN</td>\n",
       "      <td>NaN</td>\n",
       "      <td>NaN</td>\n",
       "      <td>NaN</td>\n",
       "      <td>NaN</td>\n",
       "      <td>NaN</td>\n",
       "    </tr>\n",
       "    <tr>\n",
       "      <th>2</th>\n",
       "      <td>2987002</td>\n",
       "      <td>86469</td>\n",
       "      <td>59.0</td>\n",
       "      <td>W</td>\n",
       "      <td>4663</td>\n",
       "      <td>490.0</td>\n",
       "      <td>150.0</td>\n",
       "      <td>visa</td>\n",
       "      <td>166.0</td>\n",
       "      <td>debit</td>\n",
       "      <td>...</td>\n",
       "      <td>NaN</td>\n",
       "      <td>NaN</td>\n",
       "      <td>NaN</td>\n",
       "      <td>NaN</td>\n",
       "      <td>NaN</td>\n",
       "      <td>NaN</td>\n",
       "      <td>NaN</td>\n",
       "      <td>NaN</td>\n",
       "      <td>NaN</td>\n",
       "      <td>NaN</td>\n",
       "    </tr>\n",
       "    <tr>\n",
       "      <th>3</th>\n",
       "      <td>2987003</td>\n",
       "      <td>86499</td>\n",
       "      <td>50.0</td>\n",
       "      <td>W</td>\n",
       "      <td>18132</td>\n",
       "      <td>567.0</td>\n",
       "      <td>150.0</td>\n",
       "      <td>mastercard</td>\n",
       "      <td>117.0</td>\n",
       "      <td>debit</td>\n",
       "      <td>...</td>\n",
       "      <td>NaN</td>\n",
       "      <td>NaN</td>\n",
       "      <td>NaN</td>\n",
       "      <td>NaN</td>\n",
       "      <td>NaN</td>\n",
       "      <td>NaN</td>\n",
       "      <td>NaN</td>\n",
       "      <td>NaN</td>\n",
       "      <td>NaN</td>\n",
       "      <td>NaN</td>\n",
       "    </tr>\n",
       "    <tr>\n",
       "      <th>4</th>\n",
       "      <td>2987004</td>\n",
       "      <td>86506</td>\n",
       "      <td>50.0</td>\n",
       "      <td>H</td>\n",
       "      <td>4497</td>\n",
       "      <td>514.0</td>\n",
       "      <td>150.0</td>\n",
       "      <td>mastercard</td>\n",
       "      <td>102.0</td>\n",
       "      <td>credit</td>\n",
       "      <td>...</td>\n",
       "      <td>samsung browser 6.2</td>\n",
       "      <td>32.0</td>\n",
       "      <td>2220x1080</td>\n",
       "      <td>match_status:2</td>\n",
       "      <td>T</td>\n",
       "      <td>F</td>\n",
       "      <td>T</td>\n",
       "      <td>T</td>\n",
       "      <td>mobile</td>\n",
       "      <td>SAMSUNG SM-G892A Build/NRD90M</td>\n",
       "    </tr>\n",
       "  </tbody>\n",
       "</table>\n",
       "<p>5 rows × 433 columns</p>\n",
       "</div>"
      ],
      "text/plain": [
       "   TransactionID  TransactionDT  TransactionAmt ProductCD  card1  card2  \\\n",
       "0        2987000          86400            68.5         W  13926    NaN   \n",
       "1        2987001          86401            29.0         W   2755  404.0   \n",
       "2        2987002          86469            59.0         W   4663  490.0   \n",
       "3        2987003          86499            50.0         W  18132  567.0   \n",
       "4        2987004          86506            50.0         H   4497  514.0   \n",
       "\n",
       "   card3       card4  card5   card6  ...                id_31  id_32  \\\n",
       "0  150.0    discover  142.0  credit  ...                  NaN    NaN   \n",
       "1  150.0  mastercard  102.0  credit  ...                  NaN    NaN   \n",
       "2  150.0        visa  166.0   debit  ...                  NaN    NaN   \n",
       "3  150.0  mastercard  117.0   debit  ...                  NaN    NaN   \n",
       "4  150.0  mastercard  102.0  credit  ...  samsung browser 6.2   32.0   \n",
       "\n",
       "       id_33           id_34 id_35 id_36  id_37  id_38  DeviceType  \\\n",
       "0        NaN             NaN   NaN   NaN    NaN    NaN         NaN   \n",
       "1        NaN             NaN   NaN   NaN    NaN    NaN         NaN   \n",
       "2        NaN             NaN   NaN   NaN    NaN    NaN         NaN   \n",
       "3        NaN             NaN   NaN   NaN    NaN    NaN         NaN   \n",
       "4  2220x1080  match_status:2     T     F      T      T      mobile   \n",
       "\n",
       "                      DeviceInfo  \n",
       "0                            NaN  \n",
       "1                            NaN  \n",
       "2                            NaN  \n",
       "3                            NaN  \n",
       "4  SAMSUNG SM-G892A Build/NRD90M  \n",
       "\n",
       "[5 rows x 433 columns]"
      ]
     },
     "execution_count": 9,
     "metadata": {},
     "output_type": "execute_result"
    }
   ],
   "source": [
    "train_X = train.loc[:, train.columns != 'isFraud']\n",
    "train_Y = train.loc[:, ['isFraud']]"
   ]
  },
  {
   "cell_type": "code",
   "execution_count": 10,
   "metadata": {},
   "outputs": [],
   "source": [
    "del tr_train, tr_test, id_train, id_test"
   ]
  },
  {
   "cell_type": "code",
   "execution_count": 22,
   "metadata": {},
   "outputs": [
    {
     "data": {
      "text/plain": [
       "414"
      ]
     },
     "execution_count": 22,
     "metadata": {},
     "output_type": "execute_result"
    }
   ],
   "source": [
    "# check for null values\n",
    "\n",
    "train.isnull().any().sum()"
   ]
  },
  {
   "cell_type": "code",
   "execution_count": 50,
   "metadata": {},
   "outputs": [
    {
     "data": {
      "text/plain": [
       "-100.0"
      ]
     },
     "execution_count": 50,
     "metadata": {},
     "output_type": "execute_result"
    }
   ],
   "source": [
    "train['id_01'].min()"
   ]
  },
  {
   "cell_type": "code",
   "execution_count": 35,
   "metadata": {},
   "outputs": [
    {
     "data": {
      "text/plain": [
       "(array([1.0140e+03, 0.0000e+00, 0.0000e+00, 4.3100e+02, 1.0000e+00,\n",
       "        1.0000e+00, 1.0000e+00, 2.1400e+02, 1.0000e+00, 2.0000e+00,\n",
       "        6.0000e+00, 8.7000e+01, 0.0000e+00, 1.0000e+00, 0.0000e+00,\n",
       "        2.2000e+02, 0.0000e+00, 0.0000e+00, 1.0000e+00, 8.3000e+01,\n",
       "        0.0000e+00, 1.0000e+00, 2.0000e+00, 9.7000e+01, 0.0000e+00,\n",
       "        0.0000e+00, 9.3000e+01, 2.0000e+00, 1.0000e+00, 4.0000e+00,\n",
       "        4.1200e+02, 0.0000e+00, 1.0000e+00, 3.0000e+00, 3.2000e+02,\n",
       "        1.0000e+00, 3.0000e+00, 1.0000e+00, 7.0900e+02, 0.0000e+00,\n",
       "        2.0000e+00, 2.0000e+00, 2.1430e+03, 4.0000e+00, 1.0000e+00,\n",
       "        0.0000e+00, 1.3850e+03, 3.0000e+00, 5.0000e+00, 0.0000e+00,\n",
       "        1.6230e+03, 1.0000e+00, 1.0000e+00, 6.9100e+02, 2.0000e+00,\n",
       "        1.0000e+00, 1.4000e+01, 4.6230e+03, 1.0000e+00, 5.0000e+00,\n",
       "        1.7000e+01, 1.1211e+04, 9.0000e+00, 3.2000e+01, 1.3000e+01,\n",
       "        5.6740e+03, 1.4000e+01, 1.5000e+01, 1.5000e+01, 1.1257e+04,\n",
       "        6.0000e+00, 1.0000e+01, 1.5000e+01, 8.2170e+04, 0.0000e+00,\n",
       "        0.0000e+00, 1.9555e+04]),\n",
       " array([-100.        ,  -98.7012987 ,  -97.4025974 ,  -96.1038961 ,\n",
       "         -94.80519481,  -93.50649351,  -92.20779221,  -90.90909091,\n",
       "         -89.61038961,  -88.31168831,  -87.01298701,  -85.71428571,\n",
       "         -84.41558442,  -83.11688312,  -81.81818182,  -80.51948052,\n",
       "         -79.22077922,  -77.92207792,  -76.62337662,  -75.32467532,\n",
       "         -74.02597403,  -72.72727273,  -71.42857143,  -70.12987013,\n",
       "         -68.83116883,  -67.53246753,  -66.23376623,  -64.93506494,\n",
       "         -63.63636364,  -62.33766234,  -61.03896104,  -59.74025974,\n",
       "         -58.44155844,  -57.14285714,  -55.84415584,  -54.54545455,\n",
       "         -53.24675325,  -51.94805195,  -50.64935065,  -49.35064935,\n",
       "         -48.05194805,  -46.75324675,  -45.45454545,  -44.15584416,\n",
       "         -42.85714286,  -41.55844156,  -40.25974026,  -38.96103896,\n",
       "         -37.66233766,  -36.36363636,  -35.06493506,  -33.76623377,\n",
       "         -32.46753247,  -31.16883117,  -29.87012987,  -28.57142857,\n",
       "         -27.27272727,  -25.97402597,  -24.67532468,  -23.37662338,\n",
       "         -22.07792208,  -20.77922078,  -19.48051948,  -18.18181818,\n",
       "         -16.88311688,  -15.58441558,  -14.28571429,  -12.98701299,\n",
       "         -11.68831169,  -10.38961039,   -9.09090909,   -7.79220779,\n",
       "          -6.49350649,   -5.19480519,   -3.8961039 ,   -2.5974026 ,\n",
       "          -1.2987013 ,    0.        ]),\n",
       " <a list of 77 Patch objects>)"
      ]
     },
     "execution_count": 35,
     "metadata": {},
     "output_type": "execute_result"
    },
    {
     "data": {
      "image/png": "[encoded data removed]",
      "text/plain": [
       "<Figure size 432x288 with 1 Axes>"
      ]
     },
     "metadata": {
      "needs_background": "light"
     },
     "output_type": "display_data"
    }
   ],
   "source": [
    "plt.hist(train['id_01'], bins=77)"
   ]
  },
  {
   "cell_type": "code",
   "execution_count": 73,
   "metadata": {},
   "outputs": [
    {
     "data": {
      "text/plain": [
       "NaN           0.761273\n",
       "100.000000    0.225492\n",
       "95.080002     0.002085\n",
       "95.160004     0.001277\n",
       "97.120003     0.000745\n",
       "Name: id_11, dtype: float64"
      ]
     },
     "execution_count": 73,
     "metadata": {},
     "output_type": "execute_result"
    }
   ],
   "source": [
    "train['id_11'].value_counts(dropna=False, normalize=True).head()\n",
    "#plt.hist(train['id_11'], bins=77)"
   ]
  },
  {
   "cell_type": "code",
   "execution_count": 53,
   "metadata": {},
   "outputs": [
    {
     "data": {
      "text/plain": [
       "NaN           0.761273\n",
       "100.000000    0.225492\n",
       "95.080002     0.002085\n",
       "95.160004     0.001277\n",
       "97.120003     0.000745\n",
       "Name: id_11, dtype: float64"
      ]
     },
     "execution_count": 53,
     "metadata": {},
     "output_type": "execute_result"
    }
   ],
   "source": [
    "train['id_11'].value_counts(dropna=False, normalize=True).head()"
   ]
  },
  {
   "cell_type": "code",
   "execution_count": null,
   "metadata": {},
   "outputs": [],
   "source": []
  },
  {
   "cell_type": "code",
   "execution_count": null,
   "metadata": {},
   "outputs": [],
   "source": []
  }
 ],
 "metadata": {
  "kernelspec": {
   "display_name": "Python 3",
   "language": "python",
   "name": "python3"
  },
  "language_info": {
   "codemirror_mode": {
    "name": "ipython",
    "version": 3
   },
   "file_extension": ".py",
   "mimetype": "text/x-python",
   "name": "python",
   "nbconvert_exporter": "python",
   "pygments_lexer": "ipython3",
   "version": "3.6.8"
  }
 },
 "nbformat": 4,
 "nbformat_minor": 2
}
