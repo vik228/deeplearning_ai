{
 "cells": [
  {
   "cell_type": "code",
   "execution_count": 2,
   "metadata": {},
   "outputs": [
    {
     "name": "stdout",
     "output_type": "stream",
     "text": [
      "The nb_black extension is already loaded. To reload it, use:\n",
      "  %reload_ext nb_black\n"
     ]
    },
    {
     "data": {
      "application/javascript": [
       "\n",
       "            setTimeout(function() {\n",
       "                var nbb_cell_id = 2;\n",
       "                var nbb_unformatted_code = \"%load_ext nb_black\\nimport sys\\n\\nsys.path.append(\\\"/Users/vikaspandey/my_projects/deeplearning_ai\\\")\\nimport numpy as np\\nimport pandas as pd\\nimport seaborn as sns\\nimport matplotlib.pyplot as plt\\nfrom sklearn.datasets import load_wine\\nfrom optimizers.gradient_descent import GradientDescent\\nfrom data_visualisation.plot import Plot\\nfrom algorithms.lda import LDA\";\n",
       "                var nbb_formatted_code = \"%load_ext nb_black\\nimport sys\\n\\nsys.path.append(\\\"/Users/vikaspandey/my_projects/deeplearning_ai\\\")\\nimport numpy as np\\nimport pandas as pd\\nimport seaborn as sns\\nimport matplotlib.pyplot as plt\\nfrom sklearn.datasets import load_wine\\nfrom optimizers.gradient_descent import GradientDescent\\nfrom data_visualisation.plot import Plot\\nfrom algorithms.lda import LDA\";\n",
       "                var nbb_cells = Jupyter.notebook.get_cells();\n",
       "                for (var i = 0; i < nbb_cells.length; ++i) {\n",
       "                    if (nbb_cells[i].input_prompt_number == nbb_cell_id) {\n",
       "                        if (nbb_cells[i].get_text() == nbb_unformatted_code) {\n",
       "                             nbb_cells[i].set_text(nbb_formatted_code);\n",
       "                        }\n",
       "                        break;\n",
       "                    }\n",
       "                }\n",
       "            }, 500);\n",
       "            "
      ],
      "text/plain": [
       "<IPython.core.display.Javascript object>"
      ]
     },
     "metadata": {},
     "output_type": "display_data"
    }
   ],
   "source": [
    "%load_ext nb_black\n",
    "import sys\n",
    "\n",
    "sys.path.append(\"/Users/vikaspandey/my_projects/deeplearning_ai\")\n",
    "import numpy as np\n",
    "import pandas as pd\n",
    "import seaborn as sns\n",
    "import matplotlib.pyplot as plt\n",
    "from sklearn.datasets import load_wine\n",
    "from optimizers.gradient_descent import GradientDescent\n",
    "from data_visualisation.plot import Plot\n",
    "from algorithms.lda import LDA"
   ]
  },
  {
   "cell_type": "code",
   "execution_count": 2,
   "metadata": {},
   "outputs": [
    {
     "data": {
      "application/javascript": [
       "\n",
       "            setTimeout(function() {\n",
       "                var nbb_cell_id = 2;\n",
       "                var nbb_unformatted_code = \"X = 2 * np.random.rand(100, 1)\\nY = 4 + 3 * X + np.random.randn(100, 1)\";\n",
       "                var nbb_formatted_code = \"X = 2 * np.random.rand(100, 1)\\nY = 4 + 3 * X + np.random.randn(100, 1)\";\n",
       "                var nbb_cells = Jupyter.notebook.get_cells();\n",
       "                for (var i = 0; i < nbb_cells.length; ++i) {\n",
       "                    if (nbb_cells[i].input_prompt_number == nbb_cell_id) {\n",
       "                        if (nbb_cells[i].get_text() == nbb_unformatted_code) {\n",
       "                             nbb_cells[i].set_text(nbb_formatted_code);\n",
       "                        }\n",
       "                        break;\n",
       "                    }\n",
       "                }\n",
       "            }, 500);\n",
       "            "
      ],
      "text/plain": [
       "<IPython.core.display.Javascript object>"
      ]
     },
     "metadata": {},
     "output_type": "display_data"
    }
   ],
   "source": [
    "X = 2 * np.random.rand(100, 1)\n",
    "Y = 4 + 3 * X + np.random.randn(100, 1)"
   ]
  },
  {
   "cell_type": "code",
   "execution_count": 3,
   "metadata": {},
   "outputs": [
    {
     "data": {
      "application/javascript": [
       "\n",
       "            setTimeout(function() {\n",
       "                var nbb_cell_id = 3;\n",
       "                var nbb_unformatted_code = \"def plot():\\n    plots = [\\n        {\\n            \\\"type\\\": \\\"scatter\\\",\\n            \\\"params\\\": (\\n                \\\"X\\\",\\n                \\\"Y\\\",\\n                {\\n                    \\\"axes_settings\\\": {\\n                        \\\"xlabel\\\": \\\"X\\\",\\n                        \\\"ylabel\\\": \\\"Y\\\",\\n                        \\\"title\\\": \\\"This is scatter plot\\\",\\n                    }\\n                },\\n            ),\\n        },\\n        {\\n            \\\"type\\\": \\\"scatter\\\",\\n            \\\"params\\\": (\\n                \\\"X\\\",\\n                \\\"predicted_y\\\",\\n                {\\n                    \\\"axes_settings\\\": {\\n                        \\\"xlabel\\\": \\\"X\\\",\\n                        \\\"ylabel\\\": \\\"Y\\\",\\n                        \\\"title\\\": \\\"This is scatter plot\\\",\\n                    }\\n                },\\n            ),\\n        },\\n    ]\\n    p.plot_bulk(plots, single_figure=True, single_axes=True, figsize=(5, 3))\\n\\n\\ndef callback(*argv):\\n    predictions, cost_history = argv\\n    df = pd.DataFrame(\\n        {\\\"X\\\": X.flatten(), \\\"Y\\\": Y.flatten(), \\\"predicted_y\\\": predictions.flatten()}\\n    )\\n    p.data = df\\n    plot()\";\n",
       "                var nbb_formatted_code = \"def plot():\\n    plots = [\\n        {\\n            \\\"type\\\": \\\"scatter\\\",\\n            \\\"params\\\": (\\n                \\\"X\\\",\\n                \\\"Y\\\",\\n                {\\n                    \\\"axes_settings\\\": {\\n                        \\\"xlabel\\\": \\\"X\\\",\\n                        \\\"ylabel\\\": \\\"Y\\\",\\n                        \\\"title\\\": \\\"This is scatter plot\\\",\\n                    }\\n                },\\n            ),\\n        },\\n        {\\n            \\\"type\\\": \\\"scatter\\\",\\n            \\\"params\\\": (\\n                \\\"X\\\",\\n                \\\"predicted_y\\\",\\n                {\\n                    \\\"axes_settings\\\": {\\n                        \\\"xlabel\\\": \\\"X\\\",\\n                        \\\"ylabel\\\": \\\"Y\\\",\\n                        \\\"title\\\": \\\"This is scatter plot\\\",\\n                    }\\n                },\\n            ),\\n        },\\n    ]\\n    p.plot_bulk(plots, single_figure=True, single_axes=True, figsize=(5, 3))\\n\\n\\ndef callback(*argv):\\n    predictions, cost_history = argv\\n    df = pd.DataFrame(\\n        {\\\"X\\\": X.flatten(), \\\"Y\\\": Y.flatten(), \\\"predicted_y\\\": predictions.flatten()}\\n    )\\n    p.data = df\\n    plot()\";\n",
       "                var nbb_cells = Jupyter.notebook.get_cells();\n",
       "                for (var i = 0; i < nbb_cells.length; ++i) {\n",
       "                    if (nbb_cells[i].input_prompt_number == nbb_cell_id) {\n",
       "                        if (nbb_cells[i].get_text() == nbb_unformatted_code) {\n",
       "                             nbb_cells[i].set_text(nbb_formatted_code);\n",
       "                        }\n",
       "                        break;\n",
       "                    }\n",
       "                }\n",
       "            }, 500);\n",
       "            "
      ],
      "text/plain": [
       "<IPython.core.display.Javascript object>"
      ]
     },
     "metadata": {},
     "output_type": "display_data"
    }
   ],
   "source": [
    "def plot():\n",
    "    plots = [\n",
    "        {\n",
    "            \"type\": \"scatter\",\n",
    "            \"params\": (\n",
    "                \"X\",\n",
    "                \"Y\",\n",
    "                {\n",
    "                    \"axes_settings\": {\n",
    "                        \"xlabel\": \"X\",\n",
    "                        \"ylabel\": \"Y\",\n",
    "                        \"title\": \"This is scatter plot\",\n",
    "                    }\n",
    "                },\n",
    "            ),\n",
    "        },\n",
    "        {\n",
    "            \"type\": \"scatter\",\n",
    "            \"params\": (\n",
    "                \"X\",\n",
    "                \"predicted_y\",\n",
    "                {\n",
    "                    \"axes_settings\": {\n",
    "                        \"xlabel\": \"X\",\n",
    "                        \"ylabel\": \"Y\",\n",
    "                        \"title\": \"This is scatter plot\",\n",
    "                    }\n",
    "                },\n",
    "            ),\n",
    "        },\n",
    "    ]\n",
    "    p.plot_bulk(plots, single_figure=True, single_axes=True, figsize=(5, 3))\n",
    "\n",
    "\n",
    "def callback(*argv):\n",
    "    predictions, cost_history = argv\n",
    "    df = pd.DataFrame(\n",
    "        {\"X\": X.flatten(), \"Y\": Y.flatten(), \"predicted_y\": predictions.flatten()}\n",
    "    )\n",
    "    p.data = df\n",
    "    plot()"
   ]
  },
  {
   "cell_type": "code",
   "execution_count": 4,
   "metadata": {
    "scrolled": false
   },
   "outputs": [
    {
     "data": {
      "image/png": "[encoded data removed]",
      "text/plain": [
       "<Figure size 360x216 with 1 Axes>"
      ]
     },
     "metadata": {
      "needs_background": "light"
     },
     "output_type": "display_data"
    },
    {
     "data": {
      "image/png": "[encoded data removed]",
      "text/plain": [
       "<Figure size 360x216 with 1 Axes>"
      ]
     },
     "metadata": {
      "needs_background": "light"
     },
     "output_type": "display_data"
    },
    {
     "data": {
      "application/javascript": [
       "\n",
       "            setTimeout(function() {\n",
       "                var nbb_cell_id = 4;\n",
       "                var nbb_unformatted_code = \"p = Plot(None)\\nX_b = np.c_[np.ones((len(X), 1)), X]\\ngd = GradientDescent(0.1, X_b, Y)\\ngd.iterations = 10\\ngd.theta = np.zeros((X_b.shape[1], 1))\\ngd.callback = callback\\ngd.optimise()\\n\\ndata = pd.DataFrame(\\n    {\\\"iterations\\\": range(gd.iterations), \\\"cost_history\\\": gd.cost_history}\\n)\\np = Plot(data)\\np.scatter(\\n    \\\"iterations\\\",\\n    \\\"cost_history\\\",\\n    axes_settings={\\n        \\\"xlabel\\\": \\\"Iterations\\\",\\n        \\\"ylabel\\\": \\\"J(Theta)\\\",\\n        \\\"title\\\": \\\"Cost vs Iterations\\\",\\n    },\\n    figure_size=(5, 3),\\n)\";\n",
       "                var nbb_formatted_code = \"p = Plot(None)\\nX_b = np.c_[np.ones((len(X), 1)), X]\\ngd = GradientDescent(0.1, X_b, Y)\\ngd.iterations = 10\\ngd.theta = np.zeros((X_b.shape[1], 1))\\ngd.callback = callback\\ngd.optimise()\\n\\ndata = pd.DataFrame(\\n    {\\\"iterations\\\": range(gd.iterations), \\\"cost_history\\\": gd.cost_history}\\n)\\np = Plot(data)\\np.scatter(\\n    \\\"iterations\\\",\\n    \\\"cost_history\\\",\\n    axes_settings={\\n        \\\"xlabel\\\": \\\"Iterations\\\",\\n        \\\"ylabel\\\": \\\"J(Theta)\\\",\\n        \\\"title\\\": \\\"Cost vs Iterations\\\",\\n    },\\n    figure_size=(5, 3),\\n)\";\n",
       "                var nbb_cells = Jupyter.notebook.get_cells();\n",
       "                for (var i = 0; i < nbb_cells.length; ++i) {\n",
       "                    if (nbb_cells[i].input_prompt_number == nbb_cell_id) {\n",
       "                        if (nbb_cells[i].get_text() == nbb_unformatted_code) {\n",
       "                             nbb_cells[i].set_text(nbb_formatted_code);\n",
       "                        }\n",
       "                        break;\n",
       "                    }\n",
       "                }\n",
       "            }, 500);\n",
       "            "
      ],
      "text/plain": [
       "<IPython.core.display.Javascript object>"
      ]
     },
     "metadata": {},
     "output_type": "display_data"
    }
   ],
   "source": [
    "p = Plot(None)\n",
    "X_b = np.c_[np.ones((len(X), 1)), X]\n",
    "gd = GradientDescent(0.1, X_b, Y)\n",
    "gd.iterations = 10\n",
    "gd.theta = np.zeros((X_b.shape[1], 1))\n",
    "gd.callback = callback\n",
    "gd.optimise()\n",
    "\n",
    "data = pd.DataFrame(\n",
    "    {\"iterations\": range(gd.iterations), \"cost_history\": gd.cost_history}\n",
    ")\n",
    "p = Plot(data)\n",
    "p.scatter(\n",
    "    \"iterations\",\n",
    "    \"cost_history\",\n",
    "    axes_settings={\n",
    "        \"xlabel\": \"Iterations\",\n",
    "        \"ylabel\": \"J(Theta)\",\n",
    "        \"title\": \"Cost vs Iterations\",\n",
    "    },\n",
    "    figure_size=(5, 3),\n",
    ")"
   ]
  },
  {
   "cell_type": "code",
   "execution_count": 5,
   "metadata": {},
   "outputs": [
    {
     "data": {
      "image/png": "[encoded data removed]",
      "text/plain": [
       "<Figure size 720x720 with 1 Axes>"
      ]
     },
     "metadata": {
      "needs_background": "light"
     },
     "output_type": "display_data"
    },
    {
     "data": {
      "image/png": "[encoded data removed]",
      "text/plain": [
       "<Figure size 360x216 with 1 Axes>"
      ]
     },
     "metadata": {
      "needs_background": "light"
     },
     "output_type": "display_data"
    },
    {
     "data": {
      "application/javascript": [
       "\n",
       "            setTimeout(function() {\n",
       "                var nbb_cell_id = 5;\n",
       "                var nbb_unformatted_code = \"p = Plot(None)\\nX_b = np.c_[np.ones((len(X), 1)), X]\\ngd = GradientDescent(0.5, X_b, Y)\\ngd.iterations = 50\\ngd.theta = np.zeros((X_b.shape[1], 1))\\ngd.callback = callback\\ngd.optimise_sgd()\\npredictions = gd.predict()\\ndf = pd.DataFrame(\\n        {\\\"X\\\": X.flatten(), \\\"Y\\\": Y.flatten(), \\\"predicted_y\\\": predictions.flatten()}\\n    )\\np1 = Plot(df)\\nplots = [\\n    {\\n        \\\"type\\\": \\\"scatter\\\",\\n        \\\"params\\\": (\\n            \\\"X\\\",\\n            \\\"Y\\\",\\n            {\\n                \\\"axes_settings\\\": {\\n                    \\\"xlabel\\\": \\\"X\\\",\\n                    \\\"ylabel\\\": \\\"Y\\\",\\n                    \\\"title\\\": \\\"This is scatter plot\\\",\\n                }\\n            },\\n        ),\\n    },\\n    {\\n        \\\"type\\\": \\\"scatter\\\",\\n        \\\"params\\\": (\\n            \\\"X\\\",\\n            \\\"predicted_y\\\",\\n            {\\n                \\\"axes_settings\\\": {\\n                    \\\"xlabel\\\": \\\"X\\\",\\n                    \\\"ylabel\\\": \\\"Y\\\",\\n                    \\\"title\\\": \\\"This is scatter plot\\\",\\n                }\\n            },\\n        ),\\n    },\\n]\\np1.plot_bulk(plots, single_axes=True)\\ndata = pd.DataFrame(\\n    {\\\"iterations\\\": range(gd.iterations), \\\"cost_history\\\": gd.cost_history}\\n)\\np2 = Plot(data)\\np2.scatter(\\n    \\\"iterations\\\",\\n    \\\"cost_history\\\",\\n    axes_settings={\\n        \\\"xlabel\\\": \\\"Iterations\\\",\\n        \\\"ylabel\\\": \\\"J(Theta)\\\",\\n        \\\"title\\\": \\\"Cost vs Iterations\\\",\\n    },\\n    figure_size=(5, 3),\\n)\";\n",
       "                var nbb_formatted_code = \"p = Plot(None)\\nX_b = np.c_[np.ones((len(X), 1)), X]\\ngd = GradientDescent(0.5, X_b, Y)\\ngd.iterations = 50\\ngd.theta = np.zeros((X_b.shape[1], 1))\\ngd.callback = callback\\ngd.optimise_sgd()\\npredictions = gd.predict()\\ndf = pd.DataFrame(\\n    {\\\"X\\\": X.flatten(), \\\"Y\\\": Y.flatten(), \\\"predicted_y\\\": predictions.flatten()}\\n)\\np1 = Plot(df)\\nplots = [\\n    {\\n        \\\"type\\\": \\\"scatter\\\",\\n        \\\"params\\\": (\\n            \\\"X\\\",\\n            \\\"Y\\\",\\n            {\\n                \\\"axes_settings\\\": {\\n                    \\\"xlabel\\\": \\\"X\\\",\\n                    \\\"ylabel\\\": \\\"Y\\\",\\n                    \\\"title\\\": \\\"This is scatter plot\\\",\\n                }\\n            },\\n        ),\\n    },\\n    {\\n        \\\"type\\\": \\\"scatter\\\",\\n        \\\"params\\\": (\\n            \\\"X\\\",\\n            \\\"predicted_y\\\",\\n            {\\n                \\\"axes_settings\\\": {\\n                    \\\"xlabel\\\": \\\"X\\\",\\n                    \\\"ylabel\\\": \\\"Y\\\",\\n                    \\\"title\\\": \\\"This is scatter plot\\\",\\n                }\\n            },\\n        ),\\n    },\\n]\\np1.plot_bulk(plots, single_axes=True)\\ndata = pd.DataFrame(\\n    {\\\"iterations\\\": range(gd.iterations), \\\"cost_history\\\": gd.cost_history}\\n)\\np2 = Plot(data)\\np2.scatter(\\n    \\\"iterations\\\",\\n    \\\"cost_history\\\",\\n    axes_settings={\\n        \\\"xlabel\\\": \\\"Iterations\\\",\\n        \\\"ylabel\\\": \\\"J(Theta)\\\",\\n        \\\"title\\\": \\\"Cost vs Iterations\\\",\\n    },\\n    figure_size=(5, 3),\\n)\";\n",
       "                var nbb_cells = Jupyter.notebook.get_cells();\n",
       "                for (var i = 0; i < nbb_cells.length; ++i) {\n",
       "                    if (nbb_cells[i].input_prompt_number == nbb_cell_id) {\n",
       "                        if (nbb_cells[i].get_text() == nbb_unformatted_code) {\n",
       "                             nbb_cells[i].set_text(nbb_formatted_code);\n",
       "                        }\n",
       "                        break;\n",
       "                    }\n",
       "                }\n",
       "            }, 500);\n",
       "            "
      ],
      "text/plain": [
       "<IPython.core.display.Javascript object>"
      ]
     },
     "metadata": {},
     "output_type": "display_data"
    }
   ],
   "source": [
    "p = Plot(None)\n",
    "X_b = np.c_[np.ones((len(X), 1)), X]\n",
    "gd = GradientDescent(0.5, X_b, Y)\n",
    "gd.iterations = 50\n",
    "gd.theta = np.zeros((X_b.shape[1], 1))\n",
    "gd.callback = callback\n",
    "gd.optimise_sgd()\n",
    "predictions = gd.predict()\n",
    "df = pd.DataFrame(\n",
    "        {\"X\": X.flatten(), \"Y\": Y.flatten(), \"predicted_y\": predictions.flatten()}\n",
    "    )\n",
    "p1 = Plot(df)\n",
    "plots = [\n",
    "    {\n",
    "        \"type\": \"scatter\",\n",
    "        \"params\": (\n",
    "            \"X\",\n",
    "            \"Y\",\n",
    "            {\n",
    "                \"axes_settings\": {\n",
    "                    \"xlabel\": \"X\",\n",
    "                    \"ylabel\": \"Y\",\n",
    "                    \"title\": \"This is scatter plot\",\n",
    "                }\n",
    "            },\n",
    "        ),\n",
    "    },\n",
    "    {\n",
    "        \"type\": \"scatter\",\n",
    "        \"params\": (\n",
    "            \"X\",\n",
    "            \"predicted_y\",\n",
    "            {\n",
    "                \"axes_settings\": {\n",
    "                    \"xlabel\": \"X\",\n",
    "                    \"ylabel\": \"Y\",\n",
    "                    \"title\": \"This is scatter plot\",\n",
    "                }\n",
    "            },\n",
    "        ),\n",
    "    },\n",
    "]\n",
    "p1.plot_bulk(plots, single_axes=True)\n",
    "data = pd.DataFrame(\n",
    "    {\"iterations\": range(gd.iterations), \"cost_history\": gd.cost_history}\n",
    ")\n",
    "p2 = Plot(data)\n",
    "p2.scatter(\n",
    "    \"iterations\",\n",
    "    \"cost_history\",\n",
    "    axes_settings={\n",
    "        \"xlabel\": \"Iterations\",\n",
    "        \"ylabel\": \"J(Theta)\",\n",
    "        \"title\": \"Cost vs Iterations\",\n",
    "    },\n",
    "    figure_size=(5, 3),\n",
    ")\n"
   ]
  },
  {
   "cell_type": "code",
   "execution_count": 6,
   "metadata": {},
   "outputs": [
    {
     "data": {
      "text/plain": [
       "['iterations', 'cost_history']"
      ]
     },
     "execution_count": 6,
     "metadata": {},
     "output_type": "execute_result"
    },
    {
     "data": {
      "image/png": "[encoded data removed]",
      "text/plain": [
       "<Figure size 720x720 with 1 Axes>"
      ]
     },
     "metadata": {
      "needs_background": "light"
     },
     "output_type": "display_data"
    },
    {
     "data": {
      "application/javascript": [
       "\n",
       "            setTimeout(function() {\n",
       "                var nbb_cell_id = 6;\n",
       "                var nbb_unformatted_code = \"def cal_cost(theta, X, Y):\\n    m = len(Y)\\n    predictions = np.dot(X, theta)\\n    cost = (1 / 2 * m) * np.sum(np.square(predictions - Y))\\n    return cost\\n\\n\\ndef gradient(theta, X, Y):\\n    m = len(Y)\\n    return (1 / m) * (np.dot(X.T, np.dot(X, theta) - Y))\\n\\n\\np1 = Plot(None)\\nX_b = np.c_[np.ones((len(X), 1)), X]\\ngd = GradientDescent(0.5, X_b, Y)\\ngd.iterations = 5\\ngd.theta = np.zeros((X_b.shape[1], 1))\\ngd.callback = callback\\ngd.optimise_mini_batch_gd(func=cal_cost, gradient=gradient)\\npredictions = gd.predict()\\ndf_1 = pd.DataFrame(\\n    {\\\"X\\\": X.flatten(), \\\"Y\\\": Y.flatten(), \\\"predicted_y\\\": predictions.flatten()}\\n)\\np2 = Plot(df_1)\\nplots = [\\n    {\\n        \\\"type\\\": \\\"scatter\\\",\\n        \\\"params\\\": (\\n            \\\"X\\\",\\n            \\\"Y\\\",\\n            {\\n                \\\"axes_settings\\\": {\\n                    \\\"xlabel\\\": \\\"X\\\",\\n                    \\\"ylabel\\\": \\\"Y\\\",\\n                    \\\"title\\\": \\\"This is scatter plot\\\",\\n                }\\n            },\\n        ),\\n    },\\n    {\\n        \\\"type\\\": \\\"scatter\\\",\\n        \\\"params\\\": (\\n            \\\"X\\\",\\n            \\\"predicted_y\\\",\\n            {\\n                \\\"axes_settings\\\": {\\n                    \\\"xlabel\\\": \\\"X\\\",\\n                    \\\"ylabel\\\": \\\"Y\\\",\\n                    \\\"title\\\": \\\"This is scatter plot\\\",\\n                }\\n            },\\n        ),\\n    },\\n]\\np2.plot_bulk(plots, single_axes=True)\\ndata_1 = pd.DataFrame(\\n    {\\\"iterations\\\": range(gd.iterations), \\\"cost_history\\\": gd.cost_history}\\n)\\ndata_1[\\\"cost_history\\\"][0]\\n\\nlist(data_1.columns)\\n# p3 = Plot(data_1)\\n# p3.scatter(\\n#     \\\"iterations\\\",\\n#     \\\"cost_history\\\",\\n#     axes_settings={\\n#         \\\"xlabel\\\": \\\"Iterations\\\",\\n#         \\\"ylabel\\\": \\\"J(Theta)\\\",\\n#         \\\"title\\\": \\\"Cost vs Iterations\\\",\\n#     },\\n#     figure_size=(5, 3),\\n# )\";\n",
       "                var nbb_formatted_code = \"def cal_cost(theta, X, Y):\\n    m = len(Y)\\n    predictions = np.dot(X, theta)\\n    cost = (1 / 2 * m) * np.sum(np.square(predictions - Y))\\n    return cost\\n\\n\\ndef gradient(theta, X, Y):\\n    m = len(Y)\\n    return (1 / m) * (np.dot(X.T, np.dot(X, theta) - Y))\\n\\n\\np1 = Plot(None)\\nX_b = np.c_[np.ones((len(X), 1)), X]\\ngd = GradientDescent(0.5, X_b, Y)\\ngd.iterations = 5\\ngd.theta = np.zeros((X_b.shape[1], 1))\\ngd.callback = callback\\ngd.optimise_mini_batch_gd(func=cal_cost, gradient=gradient)\\npredictions = gd.predict()\\ndf_1 = pd.DataFrame(\\n    {\\\"X\\\": X.flatten(), \\\"Y\\\": Y.flatten(), \\\"predicted_y\\\": predictions.flatten()}\\n)\\np2 = Plot(df_1)\\nplots = [\\n    {\\n        \\\"type\\\": \\\"scatter\\\",\\n        \\\"params\\\": (\\n            \\\"X\\\",\\n            \\\"Y\\\",\\n            {\\n                \\\"axes_settings\\\": {\\n                    \\\"xlabel\\\": \\\"X\\\",\\n                    \\\"ylabel\\\": \\\"Y\\\",\\n                    \\\"title\\\": \\\"This is scatter plot\\\",\\n                }\\n            },\\n        ),\\n    },\\n    {\\n        \\\"type\\\": \\\"scatter\\\",\\n        \\\"params\\\": (\\n            \\\"X\\\",\\n            \\\"predicted_y\\\",\\n            {\\n                \\\"axes_settings\\\": {\\n                    \\\"xlabel\\\": \\\"X\\\",\\n                    \\\"ylabel\\\": \\\"Y\\\",\\n                    \\\"title\\\": \\\"This is scatter plot\\\",\\n                }\\n            },\\n        ),\\n    },\\n]\\np2.plot_bulk(plots, single_axes=True)\\ndata_1 = pd.DataFrame(\\n    {\\\"iterations\\\": range(gd.iterations), \\\"cost_history\\\": gd.cost_history}\\n)\\ndata_1[\\\"cost_history\\\"][0]\\n\\nlist(data_1.columns)\\n# p3 = Plot(data_1)\\n# p3.scatter(\\n#     \\\"iterations\\\",\\n#     \\\"cost_history\\\",\\n#     axes_settings={\\n#         \\\"xlabel\\\": \\\"Iterations\\\",\\n#         \\\"ylabel\\\": \\\"J(Theta)\\\",\\n#         \\\"title\\\": \\\"Cost vs Iterations\\\",\\n#     },\\n#     figure_size=(5, 3),\\n# )\";\n",
       "                var nbb_cells = Jupyter.notebook.get_cells();\n",
       "                for (var i = 0; i < nbb_cells.length; ++i) {\n",
       "                    if (nbb_cells[i].input_prompt_number == nbb_cell_id) {\n",
       "                        if (nbb_cells[i].get_text() == nbb_unformatted_code) {\n",
       "                             nbb_cells[i].set_text(nbb_formatted_code);\n",
       "                        }\n",
       "                        break;\n",
       "                    }\n",
       "                }\n",
       "            }, 500);\n",
       "            "
      ],
      "text/plain": [
       "<IPython.core.display.Javascript object>"
      ]
     },
     "metadata": {},
     "output_type": "display_data"
    }
   ],
   "source": [
    "def cal_cost(theta, X, Y):\n",
    "    m = len(Y)\n",
    "    predictions = np.dot(X, theta)\n",
    "    cost = (1 / 2 * m) * np.sum(np.square(predictions - Y))\n",
    "    return cost\n",
    "\n",
    "\n",
    "def gradient(theta, X, Y):\n",
    "    m = len(Y)\n",
    "    return (1 / m) * (np.dot(X.T, np.dot(X, theta) - Y))\n",
    "\n",
    "\n",
    "p1 = Plot(None)\n",
    "X_b = np.c_[np.ones((len(X), 1)), X]\n",
    "gd = GradientDescent(0.5, X_b, Y)\n",
    "gd.iterations = 5\n",
    "gd.theta = np.zeros((X_b.shape[1], 1))\n",
    "gd.callback = callback\n",
    "gd.optimise_mini_batch_gd(func=cal_cost, gradient=gradient)\n",
    "predictions = gd.predict()\n",
    "df_1 = pd.DataFrame(\n",
    "    {\"X\": X.flatten(), \"Y\": Y.flatten(), \"predicted_y\": predictions.flatten()}\n",
    ")\n",
    "p2 = Plot(df_1)\n",
    "plots = [\n",
    "    {\n",
    "        \"type\": \"scatter\",\n",
    "        \"params\": (\n",
    "            \"X\",\n",
    "            \"Y\",\n",
    "            {\n",
    "                \"axes_settings\": {\n",
    "                    \"xlabel\": \"X\",\n",
    "                    \"ylabel\": \"Y\",\n",
    "                    \"title\": \"This is scatter plot\",\n",
    "                }\n",
    "            },\n",
    "        ),\n",
    "    },\n",
    "    {\n",
    "        \"type\": \"scatter\",\n",
    "        \"params\": (\n",
    "            \"X\",\n",
    "            \"predicted_y\",\n",
    "            {\n",
    "                \"axes_settings\": {\n",
    "                    \"xlabel\": \"X\",\n",
    "                    \"ylabel\": \"Y\",\n",
    "                    \"title\": \"This is scatter plot\",\n",
    "                }\n",
    "            },\n",
    "        ),\n",
    "    },\n",
    "]\n",
    "p2.plot_bulk(plots, single_axes=True)\n",
    "data_1 = pd.DataFrame(\n",
    "    {\"iterations\": range(gd.iterations), \"cost_history\": gd.cost_history}\n",
    ")\n",
    "data_1[\"cost_history\"][0]\n",
    "\n",
    "list(data_1.columns)\n",
    "# p3 = Plot(data_1)\n",
    "# p3.scatter(\n",
    "#     \"iterations\",\n",
    "#     \"cost_history\",\n",
    "#     axes_settings={\n",
    "#         \"xlabel\": \"Iterations\",\n",
    "#         \"ylabel\": \"J(Theta)\",\n",
    "#         \"title\": \"Cost vs Iterations\",\n",
    "#     },\n",
    "#     figure_size=(5, 3),\n",
    "# )"
   ]
  },
  {
   "cell_type": "code",
   "execution_count": 24,
   "metadata": {},
   "outputs": [
    {
     "data": {
      "application/javascript": [
       "\n",
       "            setTimeout(function() {\n",
       "                var nbb_cell_id = 24;\n",
       "                var nbb_unformatted_code = \"data = np.zeros([0 for x in range(5)])\";\n",
       "                var nbb_formatted_code = \"data = np.zeros([0 for x in range(5)])\";\n",
       "                var nbb_cells = Jupyter.notebook.get_cells();\n",
       "                for (var i = 0; i < nbb_cells.length; ++i) {\n",
       "                    if (nbb_cells[i].input_prompt_number == nbb_cell_id) {\n",
       "                        if (nbb_cells[i].get_text() == nbb_unformatted_code) {\n",
       "                             nbb_cells[i].set_text(nbb_formatted_code);\n",
       "                        }\n",
       "                        break;\n",
       "                    }\n",
       "                }\n",
       "            }, 500);\n",
       "            "
      ],
      "text/plain": [
       "<IPython.core.display.Javascript object>"
      ]
     },
     "metadata": {},
     "output_type": "display_data"
    }
   ],
   "source": [
    "data = np.zeros([0 for x in range(5)])"
   ]
  },
  {
   "cell_type": "code",
   "execution_count": 25,
   "metadata": {},
   "outputs": [
    {
     "data": {
      "text/plain": [
       "array([], shape=(0, 0, 0, 0, 0), dtype=float64)"
      ]
     },
     "execution_count": 25,
     "metadata": {},
     "output_type": "execute_result"
    },
    {
     "data": {
      "application/javascript": [
       "\n",
       "            setTimeout(function() {\n",
       "                var nbb_cell_id = 25;\n",
       "                var nbb_unformatted_code = \"data\";\n",
       "                var nbb_formatted_code = \"data\";\n",
       "                var nbb_cells = Jupyter.notebook.get_cells();\n",
       "                for (var i = 0; i < nbb_cells.length; ++i) {\n",
       "                    if (nbb_cells[i].input_prompt_number == nbb_cell_id) {\n",
       "                        if (nbb_cells[i].get_text() == nbb_unformatted_code) {\n",
       "                             nbb_cells[i].set_text(nbb_formatted_code);\n",
       "                        }\n",
       "                        break;\n",
       "                    }\n",
       "                }\n",
       "            }, 500);\n",
       "            "
      ],
      "text/plain": [
       "<IPython.core.display.Javascript object>"
      ]
     },
     "metadata": {},
     "output_type": "display_data"
    }
   ],
   "source": [
    "data"
   ]
  },
  {
   "cell_type": "code",
   "execution_count": 31,
   "metadata": {},
   "outputs": [
    {
     "ename": "AttributeError",
     "evalue": "'numpy.ndarray' object has no attribute 'add'",
     "output_type": "error",
     "traceback": [
      "\u001b[0;31m---------------------------------------------------------------------------\u001b[0m",
      "\u001b[0;31mAttributeError\u001b[0m                            Traceback (most recent call last)",
      "\u001b[0;32m<ipython-input-31-a39a82574b9e>\u001b[0m in \u001b[0;36m<module>\u001b[0;34m\u001b[0m\n\u001b[1;32m      1\u001b[0m \u001b[0mnp1\u001b[0m \u001b[0;34m=\u001b[0m \u001b[0mnp\u001b[0m\u001b[0;34m.\u001b[0m\u001b[0mones\u001b[0m\u001b[0;34m(\u001b[0m\u001b[0;34m(\u001b[0m\u001b[0;36m3\u001b[0m\u001b[0;34m,\u001b[0m \u001b[0;36m4\u001b[0m\u001b[0;34m)\u001b[0m\u001b[0;34m)\u001b[0m\u001b[0;34m\u001b[0m\u001b[0;34m\u001b[0m\u001b[0m\n\u001b[1;32m      2\u001b[0m \u001b[0mnp2\u001b[0m \u001b[0;34m=\u001b[0m \u001b[0mnp\u001b[0m\u001b[0;34m.\u001b[0m\u001b[0mones\u001b[0m\u001b[0;34m(\u001b[0m\u001b[0;34m(\u001b[0m\u001b[0;36m2\u001b[0m\u001b[0;34m,\u001b[0m \u001b[0;36m4\u001b[0m\u001b[0;34m)\u001b[0m\u001b[0;34m)\u001b[0m\u001b[0;34m\u001b[0m\u001b[0;34m\u001b[0m\u001b[0m\n\u001b[0;32m----> 3\u001b[0;31m \u001b[0mnp1\u001b[0m\u001b[0;34m.\u001b[0m\u001b[0madd\u001b[0m\u001b[0;34m(\u001b[0m\u001b[0mnp2\u001b[0m\u001b[0;34m)\u001b[0m\u001b[0;34m\u001b[0m\u001b[0;34m\u001b[0m\u001b[0m\n\u001b[0m",
      "\u001b[0;31mAttributeError\u001b[0m: 'numpy.ndarray' object has no attribute 'add'"
     ]
    },
    {
     "data": {
      "application/javascript": [
       "\n",
       "            setTimeout(function() {\n",
       "                var nbb_cell_id = 31;\n",
       "                var nbb_unformatted_code = \"np1 = np.ones((3, 4))\\nnp2 = np.ones((2, 4))\\nnp1.add(np2)\";\n",
       "                var nbb_formatted_code = \"np1 = np.ones((3, 4))\\nnp2 = np.ones((2, 4))\\nnp1.add(np2)\";\n",
       "                var nbb_cells = Jupyter.notebook.get_cells();\n",
       "                for (var i = 0; i < nbb_cells.length; ++i) {\n",
       "                    if (nbb_cells[i].input_prompt_number == nbb_cell_id) {\n",
       "                        if (nbb_cells[i].get_text() == nbb_unformatted_code) {\n",
       "                             nbb_cells[i].set_text(nbb_formatted_code);\n",
       "                        }\n",
       "                        break;\n",
       "                    }\n",
       "                }\n",
       "            }, 500);\n",
       "            "
      ],
      "text/plain": [
       "<IPython.core.display.Javascript object>"
      ]
     },
     "metadata": {},
     "output_type": "display_data"
    }
   ],
   "source": [
    "np1 = np.ones((3, 4))\n",
    "np2 = np.ones((2, 4))\n",
    "np1.add(np2)"
   ]
  },
  {
   "cell_type": "code",
   "execution_count": 2,
   "metadata": {},
   "outputs": [
    {
     "data": {
      "application/javascript": [
       "\n",
       "            setTimeout(function() {\n",
       "                var nbb_cell_id = 2;\n",
       "                var nbb_unformatted_code = \"wine = load_wine()\";\n",
       "                var nbb_formatted_code = \"wine = load_wine()\";\n",
       "                var nbb_cells = Jupyter.notebook.get_cells();\n",
       "                for (var i = 0; i < nbb_cells.length; ++i) {\n",
       "                    if (nbb_cells[i].input_prompt_number == nbb_cell_id) {\n",
       "                        if (nbb_cells[i].get_text() == nbb_unformatted_code) {\n",
       "                             nbb_cells[i].set_text(nbb_formatted_code);\n",
       "                        }\n",
       "                        break;\n",
       "                    }\n",
       "                }\n",
       "            }, 500);\n",
       "            "
      ],
      "text/plain": [
       "<IPython.core.display.Javascript object>"
      ]
     },
     "metadata": {},
     "output_type": "display_data"
    }
   ],
   "source": [
    "wine = load_wine()"
   ]
  },
  {
   "cell_type": "code",
   "execution_count": null,
   "metadata": {},
   "outputs": [
    {
     "name": "stderr",
     "output_type": "stream",
     "text": [
      "/Users/vikaspandey/miniconda2/envs/datascience/lib/python3.6/site-packages/pandas/core/frame.py:3940: SettingWithCopyWarning: \n",
      "A value is trying to be set on a copy of a slice from a DataFrame\n",
      "\n",
      "See the caveats in the documentation: http://pandas.pydata.org/pandas-docs/stable/indexing.html#indexing-view-versus-copy\n",
      "  errors=errors)\n"
     ]
    },
    {
     "name": "stdout",
     "output_type": "stream",
     "text": [
      "--Return--\n",
      "> /Users/vikaspandey/my_projects/deeplearning_ai/algorithms/lda.py(35)calculate_eigen_values()->None\n",
      "-> pdb.set_trace()\n",
      "(Pdb) eigvals.shape\n",
      "(13,)\n",
      "(Pdb) eigvals\n",
      "array([ 6.78400287e+00+0.00000000e+00j, -7.70461169e-18+0.00000000e+00j,\n",
      "        4.20352404e-01+0.00000000e+00j, -6.48411748e-17+1.14897766e-16j,\n",
      "       -6.48411748e-17-1.14897766e-16j,  7.85185651e-17+0.00000000e+00j,\n",
      "       -4.03172606e-17+0.00000000e+00j, -3.77313421e-18+0.00000000e+00j,\n",
      "        2.33258034e-18+2.41067568e-18j,  2.33258034e-18-2.41067568e-18j,\n",
      "       -1.62821451e-18+0.00000000e+00j,  4.32694010e-19+0.00000000e+00j,\n",
      "        1.07935521e-19+0.00000000e+00j])\n",
      "(Pdb) eigvec.shape\n",
      "(13, 13)\n"
     ]
    }
   ],
   "source": [
    "X = pd.DataFrame(wine.data, columns=wine.feature_names)\n",
    "y = pd.DataFrame({\"label\": wine.target})\n",
    "\n",
    "lda = LDA(X, y)\n",
    "lda.fit()\n"
   ]
  },
  {
   "cell_type": "code",
   "execution_count": 12,
   "metadata": {},
   "outputs": [
    {
     "data": {
      "application/javascript": [
       "\n",
       "            setTimeout(function() {\n",
       "                var nbb_cell_id = 12;\n",
       "                var nbb_unformatted_code = \"class_feature_means = pd.DataFrame(columns=wine.target_names)\";\n",
       "                var nbb_formatted_code = \"class_feature_means = pd.DataFrame(columns=wine.target_names)\";\n",
       "                var nbb_cells = Jupyter.notebook.get_cells();\n",
       "                for (var i = 0; i < nbb_cells.length; ++i) {\n",
       "                    if (nbb_cells[i].input_prompt_number == nbb_cell_id) {\n",
       "                        if (nbb_cells[i].get_text() == nbb_unformatted_code) {\n",
       "                             nbb_cells[i].set_text(nbb_formatted_code);\n",
       "                        }\n",
       "                        break;\n",
       "                    }\n",
       "                }\n",
       "            }, 500);\n",
       "            "
      ],
      "text/plain": [
       "<IPython.core.display.Javascript object>"
      ]
     },
     "metadata": {},
     "output_type": "display_data"
    }
   ],
   "source": [
    "class_feature_means = pd.DataFrame(columns=wine.target_names)"
   ]
  },
  {
   "cell_type": "code",
   "execution_count": 13,
   "metadata": {},
   "outputs": [
    {
     "data": {
      "text/html": [
       "<div>\n",
       "<style scoped>\n",
       "    .dataframe tbody tr th:only-of-type {\n",
       "        vertical-align: middle;\n",
       "    }\n",
       "\n",
       "    .dataframe tbody tr th {\n",
       "        vertical-align: top;\n",
       "    }\n",
       "\n",
       "    .dataframe thead th {\n",
       "        text-align: right;\n",
       "    }\n",
       "</style>\n",
       "<table border=\"1\" class=\"dataframe\">\n",
       "  <thead>\n",
       "    <tr style=\"text-align: right;\">\n",
       "      <th></th>\n",
       "      <th>class_0</th>\n",
       "      <th>class_1</th>\n",
       "      <th>class_2</th>\n",
       "    </tr>\n",
       "  </thead>\n",
       "  <tbody>\n",
       "  </tbody>\n",
       "</table>\n",
       "</div>"
      ],
      "text/plain": [
       "Empty DataFrame\n",
       "Columns: [class_0, class_1, class_2]\n",
       "Index: []"
      ]
     },
     "execution_count": 13,
     "metadata": {},
     "output_type": "execute_result"
    },
    {
     "data": {
      "application/javascript": [
       "\n",
       "            setTimeout(function() {\n",
       "                var nbb_cell_id = 13;\n",
       "                var nbb_unformatted_code = \"class_feature_means\";\n",
       "                var nbb_formatted_code = \"class_feature_means\";\n",
       "                var nbb_cells = Jupyter.notebook.get_cells();\n",
       "                for (var i = 0; i < nbb_cells.length; ++i) {\n",
       "                    if (nbb_cells[i].input_prompt_number == nbb_cell_id) {\n",
       "                        if (nbb_cells[i].get_text() == nbb_unformatted_code) {\n",
       "                             nbb_cells[i].set_text(nbb_formatted_code);\n",
       "                        }\n",
       "                        break;\n",
       "                    }\n",
       "                }\n",
       "            }, 500);\n",
       "            "
      ],
      "text/plain": [
       "<IPython.core.display.Javascript object>"
      ]
     },
     "metadata": {},
     "output_type": "display_data"
    }
   ],
   "source": [
    "class_feature_means"
   ]
  },
  {
   "cell_type": "code",
   "execution_count": 16,
   "metadata": {},
   "outputs": [
    {
     "data": {
      "application/javascript": [
       "\n",
       "            setTimeout(function() {\n",
       "                var nbb_cell_id = 16;\n",
       "                var nbb_unformatted_code = \"for c, rows in df.groupby(\\\"class\\\"):\\n    class_feature_means[c] = rows.mean()\";\n",
       "                var nbb_formatted_code = \"for c, rows in df.groupby(\\\"class\\\"):\\n    class_feature_means[c] = rows.mean()\";\n",
       "                var nbb_cells = Jupyter.notebook.get_cells();\n",
       "                for (var i = 0; i < nbb_cells.length; ++i) {\n",
       "                    if (nbb_cells[i].input_prompt_number == nbb_cell_id) {\n",
       "                        if (nbb_cells[i].get_text() == nbb_unformatted_code) {\n",
       "                             nbb_cells[i].set_text(nbb_formatted_code);\n",
       "                        }\n",
       "                        break;\n",
       "                    }\n",
       "                }\n",
       "            }, 500);\n",
       "            "
      ],
      "text/plain": [
       "<IPython.core.display.Javascript object>"
      ]
     },
     "metadata": {},
     "output_type": "display_data"
    }
   ],
   "source": [
    "for c, rows in df.groupby(\"class\"):\n",
    "    class_feature_means[c] = rows.mean()"
   ]
  },
  {
   "cell_type": "code",
   "execution_count": 18,
   "metadata": {},
   "outputs": [
    {
     "data": {
      "text/plain": [
       "(13, 3)"
      ]
     },
     "execution_count": 18,
     "metadata": {},
     "output_type": "execute_result"
    },
    {
     "data": {
      "application/javascript": [
       "\n",
       "            setTimeout(function() {\n",
       "                var nbb_cell_id = 18;\n",
       "                var nbb_unformatted_code = \"class_feature_means.shape\";\n",
       "                var nbb_formatted_code = \"class_feature_means.shape\";\n",
       "                var nbb_cells = Jupyter.notebook.get_cells();\n",
       "                for (var i = 0; i < nbb_cells.length; ++i) {\n",
       "                    if (nbb_cells[i].input_prompt_number == nbb_cell_id) {\n",
       "                        if (nbb_cells[i].get_text() == nbb_unformatted_code) {\n",
       "                             nbb_cells[i].set_text(nbb_formatted_code);\n",
       "                        }\n",
       "                        break;\n",
       "                    }\n",
       "                }\n",
       "            }, 500);\n",
       "            "
      ],
      "text/plain": [
       "<IPython.core.display.Javascript object>"
      ]
     },
     "metadata": {},
     "output_type": "display_data"
    }
   ],
   "source": [
    "class_feature_means.shape"
   ]
  },
  {
   "cell_type": "code",
   "execution_count": null,
   "metadata": {},
   "outputs": [
    {
     "name": "stdout",
     "output_type": "stream",
     "text": [
      "> <ipython-input-22-ff2762c37a25>(9)<module>()\n",
      "-> s += (x - mc).dot((x - mc).T)\n",
      "(Pdb) x\n",
      "array([[1.286e+01],\n",
      "       [1.350e+00],\n",
      "       [2.320e+00],\n",
      "       [1.800e+01],\n",
      "       [1.220e+02],\n",
      "       [1.510e+00],\n",
      "       [1.250e+00],\n",
      "       [2.100e-01],\n",
      "       [9.400e-01],\n",
      "       [4.100e+00],\n",
      "       [7.600e-01],\n",
      "       [1.290e+00],\n",
      "       [6.300e+02]])\n",
      "(Pdb) x.shape\n",
      "(13, 1)\n",
      "(Pdb) mc\n",
      "array([[1.31537500e+01],\n",
      "       [3.33375000e+00],\n",
      "       [2.43708333e+00],\n",
      "       [2.14166667e+01],\n",
      "       [9.93125000e+01],\n",
      "       [1.67875000e+00],\n",
      "       [7.81458333e-01],\n",
      "       [4.47500000e-01],\n",
      "       [1.15354167e+00],\n",
      "       [7.39624998e+00],\n",
      "       [6.82708333e-01],\n",
      "       [1.68354167e+00],\n",
      "       [6.29895833e+02]])\n",
      "(Pdb) mc.shape\n",
      "(13, 1)\n"
     ]
    }
   ],
   "source": [
    "within_class_scatter_matrix = np.zeros((13,13))\n",
    "for c, rows in df.groupby('class'):\n",
    "    rows = rows.drop(['class'], axis=1)\n",
    "    s = np.zeros((13,13))\n",
    "for index, row in rows.iterrows():\n",
    "    x, mc = row.values.reshape(13,1), class_feature_means[c].values.reshape(13,1)\n",
    "    import pdb\n",
    "    pdb.set_trace()\n",
    "    s += (x - mc).dot((x - mc).T)\n",
    "    within_class_scatter_matrix += s\n",
    "within_class_scatter_matrix.shape"
   ]
  },
  {
   "cell_type": "code",
   "execution_count": 2,
   "metadata": {},
   "outputs": [
    {
     "ename": "IndexError",
     "evalue": "arrays used as indices must be of integer (or boolean) type",
     "output_type": "error",
     "traceback": [
      "\u001b[0;31m---------------------------------------------------------------------------\u001b[0m",
      "\u001b[0;31mIndexError\u001b[0m                                Traceback (most recent call last)",
      "\u001b[0;32m<ipython-input-2-9cbf0096574e>\u001b[0m in \u001b[0;36m<module>\u001b[0;34m\u001b[0m\n\u001b[1;32m      9\u001b[0m \u001b[0;34m\u001b[0m\u001b[0m\n\u001b[1;32m     10\u001b[0m \u001b[0mclf\u001b[0m \u001b[0;34m=\u001b[0m \u001b[0mDecisionTreeClassifier\u001b[0m\u001b[0;34m(\u001b[0m\u001b[0;36m7\u001b[0m\u001b[0;34m)\u001b[0m\u001b[0;34m\u001b[0m\u001b[0;34m\u001b[0m\u001b[0m\n\u001b[0;32m---> 11\u001b[0;31m \u001b[0mtree\u001b[0m \u001b[0;34m=\u001b[0m \u001b[0mclf\u001b[0m\u001b[0;34m.\u001b[0m\u001b[0mfit\u001b[0m\u001b[0;34m(\u001b[0m\u001b[0mx\u001b[0m\u001b[0;34m,\u001b[0m \u001b[0my\u001b[0m\u001b[0;34m)\u001b[0m\u001b[0;34m\u001b[0m\u001b[0;34m\u001b[0m\u001b[0m\n\u001b[0m\u001b[1;32m     12\u001b[0m \u001b[0mpprint\u001b[0m\u001b[0;34m(\u001b[0m\u001b[0mtree\u001b[0m\u001b[0;34m)\u001b[0m\u001b[0;34m\u001b[0m\u001b[0;34m\u001b[0m\u001b[0m\n",
      "\u001b[0;32m~/my_projects/deeplearning_ai/algorithms/decision_tree_classifier.py\u001b[0m in \u001b[0;36mfit\u001b[0;34m(self, x, y, node, height)\u001b[0m\n\u001b[1;32m     83\u001b[0m         \u001b[0;32melse\u001b[0m\u001b[0;34m:\u001b[0m\u001b[0;34m\u001b[0m\u001b[0;34m\u001b[0m\u001b[0m\n\u001b[1;32m     84\u001b[0m             \u001b[0mcol\u001b[0m\u001b[0;34m,\u001b[0m \u001b[0mcutoff\u001b[0m\u001b[0;34m,\u001b[0m \u001b[0mentropy\u001b[0m \u001b[0;34m=\u001b[0m \u001b[0mDecisionTreeClassifier\u001b[0m\u001b[0;34m.\u001b[0m\u001b[0mfind_best_split_of_all\u001b[0m\u001b[0;34m(\u001b[0m\u001b[0mx\u001b[0m\u001b[0;34m,\u001b[0m \u001b[0my\u001b[0m\u001b[0;34m)\u001b[0m\u001b[0;34m\u001b[0m\u001b[0;34m\u001b[0m\u001b[0m\n\u001b[0;32m---> 85\u001b[0;31m             \u001b[0my_left\u001b[0m \u001b[0;34m=\u001b[0m \u001b[0my\u001b[0m\u001b[0;34m[\u001b[0m\u001b[0mx\u001b[0m\u001b[0;34m[\u001b[0m\u001b[0;34m:\u001b[0m\u001b[0;34m,\u001b[0m \u001b[0mcol\u001b[0m\u001b[0;34m]\u001b[0m \u001b[0;34m<\u001b[0m \u001b[0mcutoff\u001b[0m\u001b[0;34m]\u001b[0m\u001b[0;34m\u001b[0m\u001b[0;34m\u001b[0m\u001b[0m\n\u001b[0m\u001b[1;32m     86\u001b[0m             \u001b[0my_right\u001b[0m \u001b[0;34m=\u001b[0m \u001b[0my\u001b[0m\u001b[0;34m[\u001b[0m\u001b[0mx\u001b[0m\u001b[0;34m[\u001b[0m\u001b[0;34m:\u001b[0m\u001b[0;34m,\u001b[0m \u001b[0mcol\u001b[0m\u001b[0;34m]\u001b[0m \u001b[0;34m>=\u001b[0m \u001b[0mcutoff\u001b[0m\u001b[0;34m]\u001b[0m\u001b[0;34m\u001b[0m\u001b[0;34m\u001b[0m\u001b[0m\n\u001b[1;32m     87\u001b[0m             node = {'col': col, 'cutoff': cutoff, 'val': np.round(np.mean()),\n",
      "\u001b[0;31mIndexError\u001b[0m: arrays used as indices must be of integer (or boolean) type"
     ]
    },
    {
     "data": {
      "application/javascript": [
       "\n",
       "            setTimeout(function() {\n",
       "                var nbb_cell_id = 2;\n",
       "                var nbb_unformatted_code = \"from algorithms.decision_tree_classifier import DecisionTreeClassifier\\nfrom sklearn.datasets import load_iris\\nfrom pprint import pprint\\n\\niris = load_iris()\\n\\nx = iris.data\\ny = iris.target\\n\\nclf = DecisionTreeClassifier(7)\\ntree = clf.fit(x, y)\\npprint(tree)\";\n",
       "                var nbb_formatted_code = \"from algorithms.decision_tree_classifier import DecisionTreeClassifier\\nfrom sklearn.datasets import load_iris\\nfrom pprint import pprint\\n\\niris = load_iris()\\n\\nx = iris.data\\ny = iris.target\\n\\nclf = DecisionTreeClassifier(7)\\ntree = clf.fit(x, y)\\npprint(tree)\";\n",
       "                var nbb_cells = Jupyter.notebook.get_cells();\n",
       "                for (var i = 0; i < nbb_cells.length; ++i) {\n",
       "                    if (nbb_cells[i].input_prompt_number == nbb_cell_id) {\n",
       "                        if (nbb_cells[i].get_text() == nbb_unformatted_code) {\n",
       "                             nbb_cells[i].set_text(nbb_formatted_code);\n",
       "                        }\n",
       "                        break;\n",
       "                    }\n",
       "                }\n",
       "            }, 500);\n",
       "            "
      ],
      "text/plain": [
       "<IPython.core.display.Javascript object>"
      ]
     },
     "metadata": {},
     "output_type": "display_data"
    }
   ],
   "source": [
    "from algorithms.decision_tree_classifier import DecisionTreeClassifier\n",
    "from sklearn.datasets import load_iris\n",
    "from pprint import pprint\n",
    "\n",
    "iris = load_iris()\n",
    "\n",
    "x = iris.data\n",
    "y = iris.target\n",
    "\n",
    "clf = DecisionTreeClassifier(7)\n",
    "tree = clf.fit(x, y)\n",
    "pprint(tree)"
   ]
  },
  {
   "cell_type": "code",
   "execution_count": 3,
   "metadata": {},
   "outputs": [
    {
     "name": "stdout",
     "output_type": "stream",
     "text": [
      "0.39124356362925566\n"
     ]
    }
   ],
   "source": [
    "print (get_entropy_of_a_single_node([1, 1, 1, 1, 1, 1, 1, 1, 1, 1, 1, 1, 2]))"
   ]
  },
  {
   "cell_type": "code",
   "execution_count": 1,
   "metadata": {},
   "outputs": [
    {
     "data": {
      "text/plain": [
       "0.3076923076923077"
      ]
     },
     "execution_count": 1,
     "metadata": {},
     "output_type": "execute_result"
    }
   ],
   "source": [
    "4/13"
   ]
  },
  {
   "cell_type": "code",
   "execution_count": null,
   "metadata": {},
   "outputs": [],
   "source": []
  }
 ],
 "metadata": {
  "kernelspec": {
   "display_name": "datascience",
   "language": "python",
   "name": "datascience"
  },
  "language_info": {
   "codemirror_mode": {
    "name": "ipython",
    "version": 3
   },
   "file_extension": ".py",
   "mimetype": "text/x-python",
   "name": "python",
   "nbconvert_exporter": "python",
   "pygments_lexer": "ipython3",
   "version": "3.8.3"
  }
 },
 "nbformat": 4,
 "nbformat_minor": 2
}
