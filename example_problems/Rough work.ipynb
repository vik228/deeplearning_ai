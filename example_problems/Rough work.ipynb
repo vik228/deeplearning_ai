{
 "cells": [
  {
   "cell_type": "code",
   "execution_count": 1,
   "metadata": {},
   "outputs": [
    {
     "data": {
      "application/javascript": [
       "\n",
       "            setTimeout(function() {\n",
       "                var nbb_cell_id = 1;\n",
       "                var nbb_unformatted_code = \"%load_ext nb_black\\nimport sys\\n\\nsys.path.append(\\\"/Users/vikaspandey/projects/deeplearning_ai\\\")\\nimport numpy as np\\nimport pandas as pd\\nimport seaborn as sns\\nimport matplotlib.pyplot as plt\\nfrom sklearn.datasets import load_wine\\nfrom optimizers.gradient_descent import GradientDescent\\nfrom data_visualisation.plot import Plot\\nfrom algorithms.lda import LDA\\n\\n# from youtube_courses.Projects.AQI.data_collection import fetch_and_save_data\\nfrom hashing_algorithms.consistent_hashing import ConsistentHashing\\nfrom hashing_algorithms.implementation.storage_node import StorageNode\\nfrom algorithms.tree.decision_tree import DecisionTree\\nfrom sklearn import datasets\";\n",
       "                var nbb_formatted_code = \"%load_ext nb_black\\nimport sys\\n\\nsys.path.append(\\\"/Users/vikaspandey/projects/deeplearning_ai\\\")\\nimport numpy as np\\nimport pandas as pd\\nimport seaborn as sns\\nimport matplotlib.pyplot as plt\\nfrom sklearn.datasets import load_wine\\nfrom optimizers.gradient_descent import GradientDescent\\nfrom data_visualisation.plot import Plot\\nfrom algorithms.lda import LDA\\n\\n# from youtube_courses.Projects.AQI.data_collection import fetch_and_save_data\\nfrom hashing_algorithms.consistent_hashing import ConsistentHashing\\nfrom hashing_algorithms.implementation.storage_node import StorageNode\\nfrom algorithms.tree.decision_tree import DecisionTree\\nfrom sklearn import datasets\";\n",
       "                var nbb_cells = Jupyter.notebook.get_cells();\n",
       "                for (var i = 0; i < nbb_cells.length; ++i) {\n",
       "                    if (nbb_cells[i].input_prompt_number == nbb_cell_id) {\n",
       "                        if (nbb_cells[i].get_text() == nbb_unformatted_code) {\n",
       "                             nbb_cells[i].set_text(nbb_formatted_code);\n",
       "                        }\n",
       "                        break;\n",
       "                    }\n",
       "                }\n",
       "            }, 500);\n",
       "            "
      ],
      "text/plain": [
       "<IPython.core.display.Javascript object>"
      ]
     },
     "metadata": {},
     "output_type": "display_data"
    }
   ],
   "source": [
    "%load_ext nb_black\n",
    "import sys\n",
    "\n",
    "sys.path.append(\"/Users/vikaspandey/projects/deeplearning_ai\")\n",
    "import numpy as np\n",
    "import pandas as pd\n",
    "import seaborn as sns\n",
    "import matplotlib.pyplot as plt\n",
    "from sklearn.datasets import load_wine\n",
    "from optimizers.gradient_descent import GradientDescent\n",
    "from data_visualisation.plot import Plot\n",
    "from algorithms.lda import LDA\n",
    "\n",
    "# from youtube_courses.Projects.AQI.data_collection import fetch_and_save_data\n",
    "from hashing_algorithms.consistent_hashing import ConsistentHashing\n",
    "from hashing_algorithms.implementation.storage_node import StorageNode\n",
    "from algorithms.tree.decision_tree import DecisionTree\n",
    "from sklearn import datasets\n"
   ]
  },
  {
   "cell_type": "code",
   "execution_count": 6,
   "metadata": {},
   "outputs": [
    {
     "data": {
      "application/javascript": [
       "\n",
       "            setTimeout(function() {\n",
       "                var nbb_cell_id = 6;\n",
       "                var nbb_unformatted_code = \"def plot():\\n    plots = [\\n        {\\n            \\\"type\\\": \\\"scatter\\\",\\n            \\\"params\\\": (\\n                \\\"X\\\",\\n                \\\"Y\\\",\\n                {\\n                    \\\"axes_settings\\\": {\\n                        \\\"xlabel\\\": \\\"X\\\",\\n                        \\\"ylabel\\\": \\\"Y\\\",\\n                        \\\"title\\\": \\\"This is scatter plot\\\",\\n                    }\\n                },\\n            ),\\n        },\\n        {\\n            \\\"type\\\": \\\"scatter\\\",\\n            \\\"params\\\": (\\n                \\\"X\\\",\\n                \\\"predicted_y\\\",\\n                {\\n                    \\\"axes_settings\\\": {\\n                        \\\"xlabel\\\": \\\"X\\\",\\n                        \\\"ylabel\\\": \\\"Y\\\",\\n                        \\\"title\\\": \\\"This is scatter plot\\\",\\n                    }\\n                },\\n            ),\\n        },\\n    ]\\n    p.plot_bulk(plots, single_figure=True, single_axes=True, figsize=(5, 3))\\n\\n\\ndef callback(*argv):\\n    predictions, cost_history = argv\\n    df = pd.DataFrame(\\n        {\\\"X\\\": X.flatten(), \\\"Y\\\": Y.flatten(), \\\"predicted_y\\\": predictions.flatten()}\\n    )\\n    p.data = df\\n    plot()\";\n",
       "                var nbb_formatted_code = \"def plot():\\n    plots = [\\n        {\\n            \\\"type\\\": \\\"scatter\\\",\\n            \\\"params\\\": (\\n                \\\"X\\\",\\n                \\\"Y\\\",\\n                {\\n                    \\\"axes_settings\\\": {\\n                        \\\"xlabel\\\": \\\"X\\\",\\n                        \\\"ylabel\\\": \\\"Y\\\",\\n                        \\\"title\\\": \\\"This is scatter plot\\\",\\n                    }\\n                },\\n            ),\\n        },\\n        {\\n            \\\"type\\\": \\\"scatter\\\",\\n            \\\"params\\\": (\\n                \\\"X\\\",\\n                \\\"predicted_y\\\",\\n                {\\n                    \\\"axes_settings\\\": {\\n                        \\\"xlabel\\\": \\\"X\\\",\\n                        \\\"ylabel\\\": \\\"Y\\\",\\n                        \\\"title\\\": \\\"This is scatter plot\\\",\\n                    }\\n                },\\n            ),\\n        },\\n    ]\\n    p.plot_bulk(plots, single_figure=True, single_axes=True, figsize=(5, 3))\\n\\n\\ndef callback(*argv):\\n    predictions, cost_history = argv\\n    df = pd.DataFrame(\\n        {\\\"X\\\": X.flatten(), \\\"Y\\\": Y.flatten(), \\\"predicted_y\\\": predictions.flatten()}\\n    )\\n    p.data = df\\n    plot()\";\n",
       "                var nbb_cells = Jupyter.notebook.get_cells();\n",
       "                for (var i = 0; i < nbb_cells.length; ++i) {\n",
       "                    if (nbb_cells[i].input_prompt_number == nbb_cell_id) {\n",
       "                        if (nbb_cells[i].get_text() == nbb_unformatted_code) {\n",
       "                             nbb_cells[i].set_text(nbb_formatted_code);\n",
       "                        }\n",
       "                        break;\n",
       "                    }\n",
       "                }\n",
       "            }, 500);\n",
       "            "
      ],
      "text/plain": [
       "<IPython.core.display.Javascript object>"
      ]
     },
     "metadata": {},
     "output_type": "display_data"
    }
   ],
   "source": [
    "def plot():\n",
    "    plots = [\n",
    "        {\n",
    "            \"type\": \"scatter\",\n",
    "            \"params\": (\n",
    "                \"X\",\n",
    "                \"Y\",\n",
    "                {\n",
    "                    \"axes_settings\": {\n",
    "                        \"xlabel\": \"X\",\n",
    "                        \"ylabel\": \"Y\",\n",
    "                        \"title\": \"This is scatter plot\",\n",
    "                    }\n",
    "                },\n",
    "            ),\n",
    "        },\n",
    "        {\n",
    "            \"type\": \"scatter\",\n",
    "            \"params\": (\n",
    "                \"X\",\n",
    "                \"predicted_y\",\n",
    "                {\n",
    "                    \"axes_settings\": {\n",
    "                        \"xlabel\": \"X\",\n",
    "                        \"ylabel\": \"Y\",\n",
    "                        \"title\": \"This is scatter plot\",\n",
    "                    }\n",
    "                },\n",
    "            ),\n",
    "        },\n",
    "    ]\n",
    "    p.plot_bulk(plots, single_figure=True, single_axes=True, figsize=(5, 3))\n",
    "\n",
    "\n",
    "def callback(*argv):\n",
    "    predictions, cost_history = argv\n",
    "    df = pd.DataFrame(\n",
    "        {\"X\": X.flatten(), \"Y\": Y.flatten(), \"predicted_y\": predictions.flatten()}\n",
    "    )\n",
    "    p.data = df\n",
    "    plot()"
   ]
  },
  {
   "cell_type": "code",
   "execution_count": 8,
   "metadata": {},
   "outputs": [
    {
     "data": {
      "application/javascript": [
       "\n",
       "            setTimeout(function() {\n",
       "                var nbb_cell_id = 8;\n",
       "                var nbb_unformatted_code = \"# p = Plot(None)\\n# X_b = np.c_[np.ones((len(X), 1)), X]\\n# gd = GradientDescent(0.1, X_b, Y)\\n# gd.iterations = 10\\n# gd.theta = np.zeros((X_b.shape[1], 1))\\n# gd.callback = callback\\n# gd.optimise()\\n\\n# data = pd.DataFrame(\\n#     {\\\"iterations\\\": range(gd.iterations), \\\"cost_history\\\": gd.cost_history}\\n# )\\n# p = Plot(data)\\n# p.scatter(\\n#     \\\"iterations\\\",\\n#     \\\"cost_history\\\",\\n#     axes_settings={\\n#         \\\"xlabel\\\": \\\"Iterations\\\",\\n#         \\\"ylabel\\\": \\\"J(Theta)\\\",\\n#         \\\"title\\\": \\\"Cost vs Iterations\\\",\\n#     },\\n#     figure_size=(5, 3),\\n# )\";\n",
       "                var nbb_formatted_code = \"# p = Plot(None)\\n# X_b = np.c_[np.ones((len(X), 1)), X]\\n# gd = GradientDescent(0.1, X_b, Y)\\n# gd.iterations = 10\\n# gd.theta = np.zeros((X_b.shape[1], 1))\\n# gd.callback = callback\\n# gd.optimise()\\n\\n# data = pd.DataFrame(\\n#     {\\\"iterations\\\": range(gd.iterations), \\\"cost_history\\\": gd.cost_history}\\n# )\\n# p = Plot(data)\\n# p.scatter(\\n#     \\\"iterations\\\",\\n#     \\\"cost_history\\\",\\n#     axes_settings={\\n#         \\\"xlabel\\\": \\\"Iterations\\\",\\n#         \\\"ylabel\\\": \\\"J(Theta)\\\",\\n#         \\\"title\\\": \\\"Cost vs Iterations\\\",\\n#     },\\n#     figure_size=(5, 3),\\n# )\";\n",
       "                var nbb_cells = Jupyter.notebook.get_cells();\n",
       "                for (var i = 0; i < nbb_cells.length; ++i) {\n",
       "                    if (nbb_cells[i].input_prompt_number == nbb_cell_id) {\n",
       "                        if (nbb_cells[i].get_text() == nbb_unformatted_code) {\n",
       "                             nbb_cells[i].set_text(nbb_formatted_code);\n",
       "                        }\n",
       "                        break;\n",
       "                    }\n",
       "                }\n",
       "            }, 500);\n",
       "            "
      ],
      "text/plain": [
       "<IPython.core.display.Javascript object>"
      ]
     },
     "metadata": {},
     "output_type": "display_data"
    }
   ],
   "source": [
    "# p = Plot(None)\n",
    "# X_b = np.c_[np.ones((len(X), 1)), X]\n",
    "# gd = GradientDescent(0.1, X_b, Y)\n",
    "# gd.iterations = 10\n",
    "# gd.theta = np.zeros((X_b.shape[1], 1))\n",
    "# gd.callback = callback\n",
    "# gd.optimise()\n",
    "\n",
    "# data = pd.DataFrame(\n",
    "#     {\"iterations\": range(gd.iterations), \"cost_history\": gd.cost_history}\n",
    "# )\n",
    "# p = Plot(data)\n",
    "# p.scatter(\n",
    "#     \"iterations\",\n",
    "#     \"cost_history\",\n",
    "#     axes_settings={\n",
    "#         \"xlabel\": \"Iterations\",\n",
    "#         \"ylabel\": \"J(Theta)\",\n",
    "#         \"title\": \"Cost vs Iterations\",\n",
    "#     },\n",
    "#     figure_size=(5, 3),\n",
    "# )"
   ]
  },
  {
   "cell_type": "code",
   "execution_count": 9,
   "metadata": {},
   "outputs": [
    {
     "data": {
      "application/javascript": [
       "\n",
       "            setTimeout(function() {\n",
       "                var nbb_cell_id = 9;\n",
       "                var nbb_unformatted_code = \"# p = Plot(None)\\n# X_b = np.c_[np.ones((len(X), 1)), X]\\n# gd = GradientDescent(0.5, X_b, Y)\\n# gd.iterations = 50\\n# gd.theta = np.zeros((X_b.shape[1], 1))\\n# gd.callback = callback\\n# gd.optimise_sgd()\\n# predictions = gd.predict()\\n# df = pd.DataFrame(\\n#         {\\\"X\\\": X.flatten(), \\\"Y\\\": Y.flatten(), \\\"predicted_y\\\": predictions.flatten()}\\n#     )\\n# p1 = Plot(df)\\n# plots = [\\n#     {\\n#         \\\"type\\\": \\\"scatter\\\",\\n#         \\\"params\\\": (\\n#             \\\"X\\\",\\n#             \\\"Y\\\",\\n#             {\\n#                 \\\"axes_settings\\\": {\\n#                     \\\"xlabel\\\": \\\"X\\\",\\n#                     \\\"ylabel\\\": \\\"Y\\\",\\n#                     \\\"title\\\": \\\"This is scatter plot\\\",\\n#                 }\\n#             },\\n#         ),\\n#     },\\n#     {\\n#         \\\"type\\\": \\\"scatter\\\",\\n#         \\\"params\\\": (\\n#             \\\"X\\\",\\n#             \\\"predicted_y\\\",\\n#             {\\n#                 \\\"axes_settings\\\": {\\n#                     \\\"xlabel\\\": \\\"X\\\",\\n#                     \\\"ylabel\\\": \\\"Y\\\",\\n#                     \\\"title\\\": \\\"This is scatter plot\\\",\\n#                 }\\n#             },\\n#         ),\\n#     },\\n# ]\\n# p1.plot_bulk(plots, single_axes=True)\\n# data = pd.DataFrame(\\n#     {\\\"iterations\\\": range(gd.iterations), \\\"cost_history\\\": gd.cost_history}\\n# )\\n# p2 = Plot(data)\\n# p2.scatter(\\n#     \\\"iterations\\\",\\n#     \\\"cost_history\\\",\\n#     axes_settings={\\n#         \\\"xlabel\\\": \\\"Iterations\\\",\\n#         \\\"ylabel\\\": \\\"J(Theta)\\\",\\n#         \\\"title\\\": \\\"Cost vs Iterations\\\",\\n#     },\\n#     figure_size=(5, 3),\\n# )\";\n",
       "                var nbb_formatted_code = \"# p = Plot(None)\\n# X_b = np.c_[np.ones((len(X), 1)), X]\\n# gd = GradientDescent(0.5, X_b, Y)\\n# gd.iterations = 50\\n# gd.theta = np.zeros((X_b.shape[1], 1))\\n# gd.callback = callback\\n# gd.optimise_sgd()\\n# predictions = gd.predict()\\n# df = pd.DataFrame(\\n#         {\\\"X\\\": X.flatten(), \\\"Y\\\": Y.flatten(), \\\"predicted_y\\\": predictions.flatten()}\\n#     )\\n# p1 = Plot(df)\\n# plots = [\\n#     {\\n#         \\\"type\\\": \\\"scatter\\\",\\n#         \\\"params\\\": (\\n#             \\\"X\\\",\\n#             \\\"Y\\\",\\n#             {\\n#                 \\\"axes_settings\\\": {\\n#                     \\\"xlabel\\\": \\\"X\\\",\\n#                     \\\"ylabel\\\": \\\"Y\\\",\\n#                     \\\"title\\\": \\\"This is scatter plot\\\",\\n#                 }\\n#             },\\n#         ),\\n#     },\\n#     {\\n#         \\\"type\\\": \\\"scatter\\\",\\n#         \\\"params\\\": (\\n#             \\\"X\\\",\\n#             \\\"predicted_y\\\",\\n#             {\\n#                 \\\"axes_settings\\\": {\\n#                     \\\"xlabel\\\": \\\"X\\\",\\n#                     \\\"ylabel\\\": \\\"Y\\\",\\n#                     \\\"title\\\": \\\"This is scatter plot\\\",\\n#                 }\\n#             },\\n#         ),\\n#     },\\n# ]\\n# p1.plot_bulk(plots, single_axes=True)\\n# data = pd.DataFrame(\\n#     {\\\"iterations\\\": range(gd.iterations), \\\"cost_history\\\": gd.cost_history}\\n# )\\n# p2 = Plot(data)\\n# p2.scatter(\\n#     \\\"iterations\\\",\\n#     \\\"cost_history\\\",\\n#     axes_settings={\\n#         \\\"xlabel\\\": \\\"Iterations\\\",\\n#         \\\"ylabel\\\": \\\"J(Theta)\\\",\\n#         \\\"title\\\": \\\"Cost vs Iterations\\\",\\n#     },\\n#     figure_size=(5, 3),\\n# )\";\n",
       "                var nbb_cells = Jupyter.notebook.get_cells();\n",
       "                for (var i = 0; i < nbb_cells.length; ++i) {\n",
       "                    if (nbb_cells[i].input_prompt_number == nbb_cell_id) {\n",
       "                        if (nbb_cells[i].get_text() == nbb_unformatted_code) {\n",
       "                             nbb_cells[i].set_text(nbb_formatted_code);\n",
       "                        }\n",
       "                        break;\n",
       "                    }\n",
       "                }\n",
       "            }, 500);\n",
       "            "
      ],
      "text/plain": [
       "<IPython.core.display.Javascript object>"
      ]
     },
     "metadata": {},
     "output_type": "display_data"
    }
   ],
   "source": [
    "# p = Plot(None)\n",
    "# X_b = np.c_[np.ones((len(X), 1)), X]\n",
    "# gd = GradientDescent(0.5, X_b, Y)\n",
    "# gd.iterations = 50\n",
    "# gd.theta = np.zeros((X_b.shape[1], 1))\n",
    "# gd.callback = callback\n",
    "# gd.optimise_sgd()\n",
    "# predictions = gd.predict()\n",
    "# df = pd.DataFrame(\n",
    "#         {\"X\": X.flatten(), \"Y\": Y.flatten(), \"predicted_y\": predictions.flatten()}\n",
    "#     )\n",
    "# p1 = Plot(df)\n",
    "# plots = [\n",
    "#     {\n",
    "#         \"type\": \"scatter\",\n",
    "#         \"params\": (\n",
    "#             \"X\",\n",
    "#             \"Y\",\n",
    "#             {\n",
    "#                 \"axes_settings\": {\n",
    "#                     \"xlabel\": \"X\",\n",
    "#                     \"ylabel\": \"Y\",\n",
    "#                     \"title\": \"This is scatter plot\",\n",
    "#                 }\n",
    "#             },\n",
    "#         ),\n",
    "#     },\n",
    "#     {\n",
    "#         \"type\": \"scatter\",\n",
    "#         \"params\": (\n",
    "#             \"X\",\n",
    "#             \"predicted_y\",\n",
    "#             {\n",
    "#                 \"axes_settings\": {\n",
    "#                     \"xlabel\": \"X\",\n",
    "#                     \"ylabel\": \"Y\",\n",
    "#                     \"title\": \"This is scatter plot\",\n",
    "#                 }\n",
    "#             },\n",
    "#         ),\n",
    "#     },\n",
    "# ]\n",
    "# p1.plot_bulk(plots, single_axes=True)\n",
    "# data = pd.DataFrame(\n",
    "#     {\"iterations\": range(gd.iterations), \"cost_history\": gd.cost_history}\n",
    "# )\n",
    "# p2 = Plot(data)\n",
    "# p2.scatter(\n",
    "#     \"iterations\",\n",
    "#     \"cost_history\",\n",
    "#     axes_settings={\n",
    "#         \"xlabel\": \"Iterations\",\n",
    "#         \"ylabel\": \"J(Theta)\",\n",
    "#         \"title\": \"Cost vs Iterations\",\n",
    "#     },\n",
    "#     figure_size=(5, 3),\n",
    "# )\n"
   ]
  },
  {
   "cell_type": "code",
   "execution_count": 10,
   "metadata": {},
   "outputs": [
    {
     "data": {
      "application/javascript": [
       "\n",
       "            setTimeout(function() {\n",
       "                var nbb_cell_id = 10;\n",
       "                var nbb_unformatted_code = \"# def cal_cost(theta, X, Y):\\n#     m = len(Y)\\n#     predictions = np.dot(X, theta)\\n#     cost = (1 / 2 * m) * np.sum(np.square(predictions - Y))\\n#     return cost\\n\\n\\n# def gradient(theta, X, Y):\\n#     m = len(Y)\\n#     return (1 / m) * (np.dot(X.T, np.dot(X, theta) - Y))\\n\\n\\n# p1 = Plot(None)\\n# X_b = np.c_[np.ones((len(X), 1)), X]\\n# gd = GradientDescent(0.5, X_b, Y)\\n# gd.iterations = 5\\n# gd.theta = np.zeros((X_b.shape[1], 1))\\n# gd.callback = callback\\n# gd.optimise_mini_batch_gd(func=cal_cost, gradient=gradient)\\n# predictions = gd.predict()\\n# df_1 = pd.DataFrame(\\n#     {\\\"X\\\": X.flatten(), \\\"Y\\\": Y.flatten(), \\\"predicted_y\\\": predictions.flatten()}\\n# )\\n# p2 = Plot(df_1)\\n# plots = [\\n#     {\\n#         \\\"type\\\": \\\"scatter\\\",\\n#         \\\"params\\\": (\\n#             \\\"X\\\",\\n#             \\\"Y\\\",\\n#             {\\n#                 \\\"axes_settings\\\": {\\n#                     \\\"xlabel\\\": \\\"X\\\",\\n#                     \\\"ylabel\\\": \\\"Y\\\",\\n#                     \\\"title\\\": \\\"This is scatter plot\\\",\\n#                 }\\n#             },\\n#         ),\\n#     },\\n#     {\\n#         \\\"type\\\": \\\"scatter\\\",\\n#         \\\"params\\\": (\\n#             \\\"X\\\",\\n#             \\\"predicted_y\\\",\\n#             {\\n#                 \\\"axes_settings\\\": {\\n#                     \\\"xlabel\\\": \\\"X\\\",\\n#                     \\\"ylabel\\\": \\\"Y\\\",\\n#                     \\\"title\\\": \\\"This is scatter plot\\\",\\n#                 }\\n#             },\\n#         ),\\n#     },\\n# ]\\n# p2.plot_bulk(plots, single_axes=True)\\n# data_1 = pd.DataFrame(\\n#     {\\\"iterations\\\": range(gd.iterations), \\\"cost_history\\\": gd.cost_history}\\n# )\\n# data_1[\\\"cost_history\\\"][0]\\n\\n# list(data_1.columns)\\n# # p3 = Plot(data_1)\\n# # p3.scatter(\\n# #     \\\"iterations\\\",\\n# #     \\\"cost_history\\\",\\n# #     axes_settings={\\n# #         \\\"xlabel\\\": \\\"Iterations\\\",\\n# #         \\\"ylabel\\\": \\\"J(Theta)\\\",\\n# #         \\\"title\\\": \\\"Cost vs Iterations\\\",\\n# #     },\\n# #     figure_size=(5, 3),\\n# # )\";\n",
       "                var nbb_formatted_code = \"# def cal_cost(theta, X, Y):\\n#     m = len(Y)\\n#     predictions = np.dot(X, theta)\\n#     cost = (1 / 2 * m) * np.sum(np.square(predictions - Y))\\n#     return cost\\n\\n\\n# def gradient(theta, X, Y):\\n#     m = len(Y)\\n#     return (1 / m) * (np.dot(X.T, np.dot(X, theta) - Y))\\n\\n\\n# p1 = Plot(None)\\n# X_b = np.c_[np.ones((len(X), 1)), X]\\n# gd = GradientDescent(0.5, X_b, Y)\\n# gd.iterations = 5\\n# gd.theta = np.zeros((X_b.shape[1], 1))\\n# gd.callback = callback\\n# gd.optimise_mini_batch_gd(func=cal_cost, gradient=gradient)\\n# predictions = gd.predict()\\n# df_1 = pd.DataFrame(\\n#     {\\\"X\\\": X.flatten(), \\\"Y\\\": Y.flatten(), \\\"predicted_y\\\": predictions.flatten()}\\n# )\\n# p2 = Plot(df_1)\\n# plots = [\\n#     {\\n#         \\\"type\\\": \\\"scatter\\\",\\n#         \\\"params\\\": (\\n#             \\\"X\\\",\\n#             \\\"Y\\\",\\n#             {\\n#                 \\\"axes_settings\\\": {\\n#                     \\\"xlabel\\\": \\\"X\\\",\\n#                     \\\"ylabel\\\": \\\"Y\\\",\\n#                     \\\"title\\\": \\\"This is scatter plot\\\",\\n#                 }\\n#             },\\n#         ),\\n#     },\\n#     {\\n#         \\\"type\\\": \\\"scatter\\\",\\n#         \\\"params\\\": (\\n#             \\\"X\\\",\\n#             \\\"predicted_y\\\",\\n#             {\\n#                 \\\"axes_settings\\\": {\\n#                     \\\"xlabel\\\": \\\"X\\\",\\n#                     \\\"ylabel\\\": \\\"Y\\\",\\n#                     \\\"title\\\": \\\"This is scatter plot\\\",\\n#                 }\\n#             },\\n#         ),\\n#     },\\n# ]\\n# p2.plot_bulk(plots, single_axes=True)\\n# data_1 = pd.DataFrame(\\n#     {\\\"iterations\\\": range(gd.iterations), \\\"cost_history\\\": gd.cost_history}\\n# )\\n# data_1[\\\"cost_history\\\"][0]\\n\\n# list(data_1.columns)\\n# # p3 = Plot(data_1)\\n# # p3.scatter(\\n# #     \\\"iterations\\\",\\n# #     \\\"cost_history\\\",\\n# #     axes_settings={\\n# #         \\\"xlabel\\\": \\\"Iterations\\\",\\n# #         \\\"ylabel\\\": \\\"J(Theta)\\\",\\n# #         \\\"title\\\": \\\"Cost vs Iterations\\\",\\n# #     },\\n# #     figure_size=(5, 3),\\n# # )\";\n",
       "                var nbb_cells = Jupyter.notebook.get_cells();\n",
       "                for (var i = 0; i < nbb_cells.length; ++i) {\n",
       "                    if (nbb_cells[i].input_prompt_number == nbb_cell_id) {\n",
       "                        if (nbb_cells[i].get_text() == nbb_unformatted_code) {\n",
       "                             nbb_cells[i].set_text(nbb_formatted_code);\n",
       "                        }\n",
       "                        break;\n",
       "                    }\n",
       "                }\n",
       "            }, 500);\n",
       "            "
      ],
      "text/plain": [
       "<IPython.core.display.Javascript object>"
      ]
     },
     "metadata": {},
     "output_type": "display_data"
    }
   ],
   "source": [
    "# def cal_cost(theta, X, Y):\n",
    "#     m = len(Y)\n",
    "#     predictions = np.dot(X, theta)\n",
    "#     cost = (1 / 2 * m) * np.sum(np.square(predictions - Y))\n",
    "#     return cost\n",
    "\n",
    "\n",
    "# def gradient(theta, X, Y):\n",
    "#     m = len(Y)\n",
    "#     return (1 / m) * (np.dot(X.T, np.dot(X, theta) - Y))\n",
    "\n",
    "\n",
    "# p1 = Plot(None)\n",
    "# X_b = np.c_[np.ones((len(X), 1)), X]\n",
    "# gd = GradientDescent(0.5, X_b, Y)\n",
    "# gd.iterations = 5\n",
    "# gd.theta = np.zeros((X_b.shape[1], 1))\n",
    "# gd.callback = callback\n",
    "# gd.optimise_mini_batch_gd(func=cal_cost, gradient=gradient)\n",
    "# predictions = gd.predict()\n",
    "# df_1 = pd.DataFrame(\n",
    "#     {\"X\": X.flatten(), \"Y\": Y.flatten(), \"predicted_y\": predictions.flatten()}\n",
    "# )\n",
    "# p2 = Plot(df_1)\n",
    "# plots = [\n",
    "#     {\n",
    "#         \"type\": \"scatter\",\n",
    "#         \"params\": (\n",
    "#             \"X\",\n",
    "#             \"Y\",\n",
    "#             {\n",
    "#                 \"axes_settings\": {\n",
    "#                     \"xlabel\": \"X\",\n",
    "#                     \"ylabel\": \"Y\",\n",
    "#                     \"title\": \"This is scatter plot\",\n",
    "#                 }\n",
    "#             },\n",
    "#         ),\n",
    "#     },\n",
    "#     {\n",
    "#         \"type\": \"scatter\",\n",
    "#         \"params\": (\n",
    "#             \"X\",\n",
    "#             \"predicted_y\",\n",
    "#             {\n",
    "#                 \"axes_settings\": {\n",
    "#                     \"xlabel\": \"X\",\n",
    "#                     \"ylabel\": \"Y\",\n",
    "#                     \"title\": \"This is scatter plot\",\n",
    "#                 }\n",
    "#             },\n",
    "#         ),\n",
    "#     },\n",
    "# ]\n",
    "# p2.plot_bulk(plots, single_axes=True)\n",
    "# data_1 = pd.DataFrame(\n",
    "#     {\"iterations\": range(gd.iterations), \"cost_history\": gd.cost_history}\n",
    "# )\n",
    "# data_1[\"cost_history\"][0]\n",
    "\n",
    "# list(data_1.columns)\n",
    "# # p3 = Plot(data_1)\n",
    "# # p3.scatter(\n",
    "# #     \"iterations\",\n",
    "# #     \"cost_history\",\n",
    "# #     axes_settings={\n",
    "# #         \"xlabel\": \"Iterations\",\n",
    "# #         \"ylabel\": \"J(Theta)\",\n",
    "# #         \"title\": \"Cost vs Iterations\",\n",
    "# #     },\n",
    "# #     figure_size=(5, 3),\n",
    "# # )"
   ]
  },
  {
   "cell_type": "code",
   "execution_count": 11,
   "metadata": {},
   "outputs": [
    {
     "data": {
      "application/javascript": [
       "\n",
       "            setTimeout(function() {\n",
       "                var nbb_cell_id = 11;\n",
       "                var nbb_unformatted_code = \"crime_data = pd.read_csv(\\\"crime.csv\\\")\";\n",
       "                var nbb_formatted_code = \"crime_data = pd.read_csv(\\\"crime.csv\\\")\";\n",
       "                var nbb_cells = Jupyter.notebook.get_cells();\n",
       "                for (var i = 0; i < nbb_cells.length; ++i) {\n",
       "                    if (nbb_cells[i].input_prompt_number == nbb_cell_id) {\n",
       "                        if (nbb_cells[i].get_text() == nbb_unformatted_code) {\n",
       "                             nbb_cells[i].set_text(nbb_formatted_code);\n",
       "                        }\n",
       "                        break;\n",
       "                    }\n",
       "                }\n",
       "            }, 500);\n",
       "            "
      ],
      "text/plain": [
       "<IPython.core.display.Javascript object>"
      ]
     },
     "metadata": {},
     "output_type": "display_data"
    }
   ],
   "source": [
    "crime_data = pd.read_csv(\"crime.csv\")"
   ]
  },
  {
   "cell_type": "code",
   "execution_count": 12,
   "metadata": {},
   "outputs": [
    {
     "data": {
      "text/html": [
       "<div>\n",
       "<style scoped>\n",
       "    .dataframe tbody tr th:only-of-type {\n",
       "        vertical-align: middle;\n",
       "    }\n",
       "\n",
       "    .dataframe tbody tr th {\n",
       "        vertical-align: top;\n",
       "    }\n",
       "\n",
       "    .dataframe thead th {\n",
       "        text-align: right;\n",
       "    }\n",
       "</style>\n",
       "<table border=\"1\" class=\"dataframe\">\n",
       "  <thead>\n",
       "    <tr style=\"text-align: right;\">\n",
       "      <th></th>\n",
       "      <th>key</th>\n",
       "      <th>state</th>\n",
       "      <th>ccode</th>\n",
       "      <th>scode</th>\n",
       "      <th>year</th>\n",
       "      <th>vcrime90</th>\n",
       "      <th>vcrime00</th>\n",
       "      <th>pcrime90</th>\n",
       "      <th>pcrime00</th>\n",
       "      <th>waea90</th>\n",
       "      <th>...</th>\n",
       "      <th>census4</th>\n",
       "      <th>census9</th>\n",
       "      <th>domPolCulture</th>\n",
       "      <th>lowhsREP</th>\n",
       "      <th>upphsREP</th>\n",
       "      <th>govrnREP</th>\n",
       "      <th>unifGOVT</th>\n",
       "      <th>profleg</th>\n",
       "      <th>conserve</th>\n",
       "      <th>repub</th>\n",
       "    </tr>\n",
       "  </thead>\n",
       "  <tbody>\n",
       "    <tr>\n",
       "      <th>0</th>\n",
       "      <td>112000</td>\n",
       "      <td>Maine</td>\n",
       "      <td>11</td>\n",
       "      <td>ME</td>\n",
       "      <td>2000</td>\n",
       "      <td>736.3</td>\n",
       "      <td>476.1</td>\n",
       "      <td>4561.5</td>\n",
       "      <td>2550.0</td>\n",
       "      <td>63.80</td>\n",
       "      <td>...</td>\n",
       "      <td>Northeast</td>\n",
       "      <td>New England</td>\n",
       "      <td>Moralistic</td>\n",
       "      <td>0.0</td>\n",
       "      <td>0.2</td>\n",
       "      <td>0.6</td>\n",
       "      <td>0.0</td>\n",
       "      <td>0.16</td>\n",
       "      <td>-0.02</td>\n",
       "      <td>0.15</td>\n",
       "    </tr>\n",
       "    <tr>\n",
       "      <th>1</th>\n",
       "      <td>122000</td>\n",
       "      <td>New Hampshire</td>\n",
       "      <td>12</td>\n",
       "      <td>NH</td>\n",
       "      <td>2000</td>\n",
       "      <td>330.0</td>\n",
       "      <td>327.6</td>\n",
       "      <td>3883.1</td>\n",
       "      <td>3767.9</td>\n",
       "      <td>67.75</td>\n",
       "      <td>...</td>\n",
       "      <td>Northeast</td>\n",
       "      <td>New England</td>\n",
       "      <td>Moralistic</td>\n",
       "      <td>1.0</td>\n",
       "      <td>1.0</td>\n",
       "      <td>0.6</td>\n",
       "      <td>0.6</td>\n",
       "      <td>0.04</td>\n",
       "      <td>0.01</td>\n",
       "      <td>0.23</td>\n",
       "    </tr>\n",
       "    <tr>\n",
       "      <th>2</th>\n",
       "      <td>132000</td>\n",
       "      <td>Vermont</td>\n",
       "      <td>13</td>\n",
       "      <td>VT</td>\n",
       "      <td>2000</td>\n",
       "      <td>350.6</td>\n",
       "      <td>281.7</td>\n",
       "      <td>4090.0</td>\n",
       "      <td>2746.4</td>\n",
       "      <td>66.68</td>\n",
       "      <td>...</td>\n",
       "      <td>Northeast</td>\n",
       "      <td>New England</td>\n",
       "      <td>Moralistic</td>\n",
       "      <td>0.1</td>\n",
       "      <td>0.5</td>\n",
       "      <td>0.2</td>\n",
       "      <td>1.0</td>\n",
       "      <td>0.15</td>\n",
       "      <td>-0.12</td>\n",
       "      <td>0.13</td>\n",
       "    </tr>\n",
       "    <tr>\n",
       "      <th>3</th>\n",
       "      <td>142000</td>\n",
       "      <td>Massachusetts</td>\n",
       "      <td>14</td>\n",
       "      <td>MA</td>\n",
       "      <td>2000</td>\n",
       "      <td>143.2</td>\n",
       "      <td>109.6</td>\n",
       "      <td>3554.5</td>\n",
       "      <td>2510.2</td>\n",
       "      <td>66.80</td>\n",
       "      <td>...</td>\n",
       "      <td>Northeast</td>\n",
       "      <td>New England</td>\n",
       "      <td>Individualistic</td>\n",
       "      <td>0.0</td>\n",
       "      <td>0.0</td>\n",
       "      <td>1.0</td>\n",
       "      <td>0.0</td>\n",
       "      <td>0.61</td>\n",
       "      <td>-0.11</td>\n",
       "      <td>-0.02</td>\n",
       "    </tr>\n",
       "    <tr>\n",
       "      <th>4</th>\n",
       "      <td>152000</td>\n",
       "      <td>Rhode Island</td>\n",
       "      <td>15</td>\n",
       "      <td>RI</td>\n",
       "      <td>2000</td>\n",
       "      <td>431.9</td>\n",
       "      <td>297.7</td>\n",
       "      <td>4920.8</td>\n",
       "      <td>3178.7</td>\n",
       "      <td>59.33</td>\n",
       "      <td>...</td>\n",
       "      <td>Northeast</td>\n",
       "      <td>New England</td>\n",
       "      <td>Individualistic</td>\n",
       "      <td>0.0</td>\n",
       "      <td>0.0</td>\n",
       "      <td>0.6</td>\n",
       "      <td>0.4</td>\n",
       "      <td>0.15</td>\n",
       "      <td>-0.08</td>\n",
       "      <td>0.03</td>\n",
       "    </tr>\n",
       "  </tbody>\n",
       "</table>\n",
       "<p>5 rows × 36 columns</p>\n",
       "</div>"
      ],
      "text/plain": [
       "      key          state  ccode scode  year  vcrime90  vcrime00  pcrime90  \\\n",
       "0  112000          Maine     11    ME  2000     736.3     476.1    4561.5   \n",
       "1  122000  New Hampshire     12    NH  2000     330.0     327.6    3883.1   \n",
       "2  132000        Vermont     13    VT  2000     350.6     281.7    4090.0   \n",
       "3  142000  Massachusetts     14    MA  2000     143.2     109.6    3554.5   \n",
       "4  152000   Rhode Island     15    RI  2000     431.9     297.7    4920.8   \n",
       "\n",
       "   pcrime00  waea90  ...    census4      census9    domPolCulture  lowhsREP  \\\n",
       "0    2550.0   63.80  ...  Northeast  New England       Moralistic       0.0   \n",
       "1    3767.9   67.75  ...  Northeast  New England       Moralistic       1.0   \n",
       "2    2746.4   66.68  ...  Northeast  New England       Moralistic       0.1   \n",
       "3    2510.2   66.80  ...  Northeast  New England  Individualistic       0.0   \n",
       "4    3178.7   59.33  ...  Northeast  New England  Individualistic       0.0   \n",
       "\n",
       "   upphsREP  govrnREP  unifGOVT  profleg  conserve  repub  \n",
       "0       0.2       0.6       0.0     0.16     -0.02   0.15  \n",
       "1       1.0       0.6       0.6     0.04      0.01   0.23  \n",
       "2       0.5       0.2       1.0     0.15     -0.12   0.13  \n",
       "3       0.0       1.0       0.0     0.61     -0.11  -0.02  \n",
       "4       0.0       0.6       0.4     0.15     -0.08   0.03  \n",
       "\n",
       "[5 rows x 36 columns]"
      ]
     },
     "execution_count": 12,
     "metadata": {},
     "output_type": "execute_result"
    },
    {
     "data": {
      "application/javascript": [
       "\n",
       "            setTimeout(function() {\n",
       "                var nbb_cell_id = 12;\n",
       "                var nbb_unformatted_code = \"crime_data.head()\";\n",
       "                var nbb_formatted_code = \"crime_data.head()\";\n",
       "                var nbb_cells = Jupyter.notebook.get_cells();\n",
       "                for (var i = 0; i < nbb_cells.length; ++i) {\n",
       "                    if (nbb_cells[i].input_prompt_number == nbb_cell_id) {\n",
       "                        if (nbb_cells[i].get_text() == nbb_unformatted_code) {\n",
       "                             nbb_cells[i].set_text(nbb_formatted_code);\n",
       "                        }\n",
       "                        break;\n",
       "                    }\n",
       "                }\n",
       "            }, 500);\n",
       "            "
      ],
      "text/plain": [
       "<IPython.core.display.Javascript object>"
      ]
     },
     "metadata": {},
     "output_type": "display_data"
    }
   ],
   "source": [
    "crime_data.head()"
   ]
  },
  {
   "cell_type": "code",
   "execution_count": 14,
   "metadata": {},
   "outputs": [
    {
     "data": {
      "application/javascript": [
       "\n",
       "            setTimeout(function() {\n",
       "                var nbb_cell_id = 14;\n",
       "                var nbb_unformatted_code = \"crime_data['count'] = 1\";\n",
       "                var nbb_formatted_code = \"crime_data[\\\"count\\\"] = 1\";\n",
       "                var nbb_cells = Jupyter.notebook.get_cells();\n",
       "                for (var i = 0; i < nbb_cells.length; ++i) {\n",
       "                    if (nbb_cells[i].input_prompt_number == nbb_cell_id) {\n",
       "                        if (nbb_cells[i].get_text() == nbb_unformatted_code) {\n",
       "                             nbb_cells[i].set_text(nbb_formatted_code);\n",
       "                        }\n",
       "                        break;\n",
       "                    }\n",
       "                }\n",
       "            }, 500);\n",
       "            "
      ],
      "text/plain": [
       "<IPython.core.display.Javascript object>"
      ]
     },
     "metadata": {},
     "output_type": "display_data"
    }
   ],
   "source": [
    "crime_data['count'] = 1"
   ]
  },
  {
   "cell_type": "code",
   "execution_count": 20,
   "metadata": {},
   "outputs": [
    {
     "data": {
      "text/plain": [
       "census4\n",
       "Midwest      AxesSubplot(0.260833,0.125;0.503333x0.755)\n",
       "Northeast    AxesSubplot(0.260833,0.125;0.503333x0.755)\n",
       "South        AxesSubplot(0.260833,0.125;0.503333x0.755)\n",
       "West         AxesSubplot(0.260833,0.125;0.503333x0.755)\n",
       "dtype: object"
      ]
     },
     "execution_count": 20,
     "metadata": {},
     "output_type": "execute_result"
    },
    {
     "data": {
      "image/png": "[encoded data removed]",
      "text/plain": [
       "<Figure size 432x288 with 1 Axes>"
      ]
     },
     "metadata": {},
     "output_type": "display_data"
    },
    {
     "data": {
      "image/png": "[encoded data removed]",
      "text/plain": [
       "<Figure size 432x288 with 1 Axes>"
      ]
     },
     "metadata": {},
     "output_type": "display_data"
    },
    {
     "data": {
      "image/png": "[encoded data removed]",
      "text/plain": [
       "<Figure size 432x288 with 1 Axes>"
      ]
     },
     "metadata": {},
     "output_type": "display_data"
    },
    {
     "data": {
      "image/png": "[encoded data removed]",
      "text/plain": [
       "<Figure size 432x288 with 1 Axes>"
      ]
     },
     "metadata": {},
     "output_type": "display_data"
    },
    {
     "data": {
      "application/javascript": [
       "\n",
       "            setTimeout(function() {\n",
       "                var nbb_cell_id = 20;\n",
       "                var nbb_unformatted_code = \"crime_data.groupby(\\\"census4\\\").plot(kind='pie', y='count')\";\n",
       "                var nbb_formatted_code = \"crime_data.groupby(\\\"census4\\\").plot(kind=\\\"pie\\\", y=\\\"count\\\")\";\n",
       "                var nbb_cells = Jupyter.notebook.get_cells();\n",
       "                for (var i = 0; i < nbb_cells.length; ++i) {\n",
       "                    if (nbb_cells[i].input_prompt_number == nbb_cell_id) {\n",
       "                        if (nbb_cells[i].get_text() == nbb_unformatted_code) {\n",
       "                             nbb_cells[i].set_text(nbb_formatted_code);\n",
       "                        }\n",
       "                        break;\n",
       "                    }\n",
       "                }\n",
       "            }, 500);\n",
       "            "
      ],
      "text/plain": [
       "<IPython.core.display.Javascript object>"
      ]
     },
     "metadata": {},
     "output_type": "display_data"
    }
   ],
   "source": [
    "crime_data.groupby(\"census4\").plot(kind='pie', y='count')"
   ]
  },
  {
   "cell_type": "code",
   "execution_count": null,
   "metadata": {},
   "outputs": [],
   "source": []
  }
 ],
 "metadata": {
  "kernelspec": {
   "display_name": "datascience",
   "language": "python",
   "name": "datascience"
  },
  "language_info": {
   "codemirror_mode": {
    "name": "ipython",
    "version": 3
   },
   "file_extension": ".py",
   "mimetype": "text/x-python",
   "name": "python",
   "nbconvert_exporter": "python",
   "pygments_lexer": "ipython3",
   "version": "3.8.3"
  }
 },
 "nbformat": 4,
 "nbformat_minor": 4
}
