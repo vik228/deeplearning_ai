{
 "cells": [
  {
   "cell_type": "code",
   "execution_count": 34,
   "metadata": {},
   "outputs": [
    {
     "name": "stdout",
     "output_type": "stream",
     "text": [
      "The nb_black extension is already loaded. To reload it, use:\n",
      "  %reload_ext nb_black\n"
     ]
    },
    {
     "data": {
      "application/javascript": [
       "\n",
       "            setTimeout(function() {\n",
       "                var nbb_cell_id = 34;\n",
       "                var nbb_unformatted_code = \"%load_ext nb_black\\n\\nimport pandas_datareader as pdr\";\n",
       "                var nbb_formatted_code = \"%load_ext nb_black\\n\\nimport pandas_datareader as pdr\";\n",
       "                var nbb_cells = Jupyter.notebook.get_cells();\n",
       "                for (var i = 0; i < nbb_cells.length; ++i) {\n",
       "                    if (nbb_cells[i].input_prompt_number == nbb_cell_id) {\n",
       "                        if (nbb_cells[i].get_text() == nbb_unformatted_code) {\n",
       "                             nbb_cells[i].set_text(nbb_formatted_code);\n",
       "                        }\n",
       "                        break;\n",
       "                    }\n",
       "                }\n",
       "            }, 500);\n",
       "            "
      ],
      "text/plain": [
       "<IPython.core.display.Javascript object>"
      ]
     },
     "metadata": {},
     "output_type": "display_data"
    }
   ],
   "source": [
    "%load_ext nb_black\n",
    "\n",
    "import pandas_datareader as pdr"
   ]
  },
  {
   "cell_type": "code",
   "execution_count": 35,
   "metadata": {},
   "outputs": [
    {
     "data": {
      "application/javascript": [
       "\n",
       "            setTimeout(function() {\n",
       "                var nbb_cell_id = 35;\n",
       "                var nbb_unformatted_code = \"stock_data = pdr.get_data_tiingo(\\\"AAPL\\\", api_key=\\\"f9e621c4e809f1d36aeeb0cf4930bf42b4168281\\\")\";\n",
       "                var nbb_formatted_code = \"stock_data = pdr.get_data_tiingo(\\n    \\\"AAPL\\\", api_key=\\\"f9e621c4e809f1d36aeeb0cf4930bf42b4168281\\\"\\n)\";\n",
       "                var nbb_cells = Jupyter.notebook.get_cells();\n",
       "                for (var i = 0; i < nbb_cells.length; ++i) {\n",
       "                    if (nbb_cells[i].input_prompt_number == nbb_cell_id) {\n",
       "                        if (nbb_cells[i].get_text() == nbb_unformatted_code) {\n",
       "                             nbb_cells[i].set_text(nbb_formatted_code);\n",
       "                        }\n",
       "                        break;\n",
       "                    }\n",
       "                }\n",
       "            }, 500);\n",
       "            "
      ],
      "text/plain": [
       "<IPython.core.display.Javascript object>"
      ]
     },
     "metadata": {},
     "output_type": "display_data"
    }
   ],
   "source": [
    "stock_data = pdr.get_data_tiingo(\n",
    "    \"AAPL\", api_key=\"f9e621c4e809f1d36aeeb0cf4930bf42b4168281\"\n",
    ")"
   ]
  },
  {
   "cell_type": "code",
   "execution_count": 36,
   "metadata": {},
   "outputs": [
    {
     "data": {
      "application/javascript": [
       "\n",
       "            setTimeout(function() {\n",
       "                var nbb_cell_id = 36;\n",
       "                var nbb_unformatted_code = \"stock_data.to_csv(\\\"AAPL.csv\\\")\";\n",
       "                var nbb_formatted_code = \"stock_data.to_csv(\\\"AAPL.csv\\\")\";\n",
       "                var nbb_cells = Jupyter.notebook.get_cells();\n",
       "                for (var i = 0; i < nbb_cells.length; ++i) {\n",
       "                    if (nbb_cells[i].input_prompt_number == nbb_cell_id) {\n",
       "                        if (nbb_cells[i].get_text() == nbb_unformatted_code) {\n",
       "                             nbb_cells[i].set_text(nbb_formatted_code);\n",
       "                        }\n",
       "                        break;\n",
       "                    }\n",
       "                }\n",
       "            }, 500);\n",
       "            "
      ],
      "text/plain": [
       "<IPython.core.display.Javascript object>"
      ]
     },
     "metadata": {},
     "output_type": "display_data"
    }
   ],
   "source": [
    "stock_data.to_csv(\"AAPL.csv\")"
   ]
  },
  {
   "cell_type": "code",
   "execution_count": 37,
   "metadata": {},
   "outputs": [
    {
     "data": {
      "application/javascript": [
       "\n",
       "            setTimeout(function() {\n",
       "                var nbb_cell_id = 37;\n",
       "                var nbb_unformatted_code = \"stock_data_close = stock_data.reset_index()[\\\"close\\\"]\";\n",
       "                var nbb_formatted_code = \"stock_data_close = stock_data.reset_index()[\\\"close\\\"]\";\n",
       "                var nbb_cells = Jupyter.notebook.get_cells();\n",
       "                for (var i = 0; i < nbb_cells.length; ++i) {\n",
       "                    if (nbb_cells[i].input_prompt_number == nbb_cell_id) {\n",
       "                        if (nbb_cells[i].get_text() == nbb_unformatted_code) {\n",
       "                             nbb_cells[i].set_text(nbb_formatted_code);\n",
       "                        }\n",
       "                        break;\n",
       "                    }\n",
       "                }\n",
       "            }, 500);\n",
       "            "
      ],
      "text/plain": [
       "<IPython.core.display.Javascript object>"
      ]
     },
     "metadata": {},
     "output_type": "display_data"
    }
   ],
   "source": [
    "stock_data_close = stock_data.reset_index()[\"close\"]"
   ]
  },
  {
   "cell_type": "code",
   "execution_count": 38,
   "metadata": {},
   "outputs": [
    {
     "data": {
      "text/plain": [
       "0    94.69\n",
       "1    96.10\n",
       "2    96.76\n",
       "3    96.91\n",
       "4    96.69\n",
       "Name: close, dtype: float64"
      ]
     },
     "execution_count": 38,
     "metadata": {},
     "output_type": "execute_result"
    },
    {
     "data": {
      "application/javascript": [
       "\n",
       "            setTimeout(function() {\n",
       "                var nbb_cell_id = 38;\n",
       "                var nbb_unformatted_code = \"stock_data_close.head()\";\n",
       "                var nbb_formatted_code = \"stock_data_close.head()\";\n",
       "                var nbb_cells = Jupyter.notebook.get_cells();\n",
       "                for (var i = 0; i < nbb_cells.length; ++i) {\n",
       "                    if (nbb_cells[i].input_prompt_number == nbb_cell_id) {\n",
       "                        if (nbb_cells[i].get_text() == nbb_unformatted_code) {\n",
       "                             nbb_cells[i].set_text(nbb_formatted_code);\n",
       "                        }\n",
       "                        break;\n",
       "                    }\n",
       "                }\n",
       "            }, 500);\n",
       "            "
      ],
      "text/plain": [
       "<IPython.core.display.Javascript object>"
      ]
     },
     "metadata": {},
     "output_type": "display_data"
    }
   ],
   "source": [
    "stock_data_close.head()"
   ]
  },
  {
   "cell_type": "code",
   "execution_count": 39,
   "metadata": {},
   "outputs": [
    {
     "data": {
      "text/plain": [
       "(1258,)"
      ]
     },
     "execution_count": 39,
     "metadata": {},
     "output_type": "execute_result"
    },
    {
     "data": {
      "application/javascript": [
       "\n",
       "            setTimeout(function() {\n",
       "                var nbb_cell_id = 39;\n",
       "                var nbb_unformatted_code = \"stock_data_close.shape\";\n",
       "                var nbb_formatted_code = \"stock_data_close.shape\";\n",
       "                var nbb_cells = Jupyter.notebook.get_cells();\n",
       "                for (var i = 0; i < nbb_cells.length; ++i) {\n",
       "                    if (nbb_cells[i].input_prompt_number == nbb_cell_id) {\n",
       "                        if (nbb_cells[i].get_text() == nbb_unformatted_code) {\n",
       "                             nbb_cells[i].set_text(nbb_formatted_code);\n",
       "                        }\n",
       "                        break;\n",
       "                    }\n",
       "                }\n",
       "            }, 500);\n",
       "            "
      ],
      "text/plain": [
       "<IPython.core.display.Javascript object>"
      ]
     },
     "metadata": {},
     "output_type": "display_data"
    }
   ],
   "source": [
    "stock_data_close.shape"
   ]
  },
  {
   "cell_type": "code",
   "execution_count": 40,
   "metadata": {},
   "outputs": [
    {
     "data": {
      "text/plain": [
       "[<matplotlib.lines.Line2D at 0x7fb13e92fd00>]"
      ]
     },
     "execution_count": 40,
     "metadata": {},
     "output_type": "execute_result"
    },
    {
     "data": {
      "image/png": "[encoded data removed]",
      "text/plain": [
       "<Figure size 432x288 with 1 Axes>"
      ]
     },
     "metadata": {
      "needs_background": "light"
     },
     "output_type": "display_data"
    },
    {
     "data": {
      "application/javascript": [
       "\n",
       "            setTimeout(function() {\n",
       "                var nbb_cell_id = 40;\n",
       "                var nbb_unformatted_code = \"import matplotlib.pyplot as plt\\n\\nplt.plot(stock_data_close)\";\n",
       "                var nbb_formatted_code = \"import matplotlib.pyplot as plt\\n\\nplt.plot(stock_data_close)\";\n",
       "                var nbb_cells = Jupyter.notebook.get_cells();\n",
       "                for (var i = 0; i < nbb_cells.length; ++i) {\n",
       "                    if (nbb_cells[i].input_prompt_number == nbb_cell_id) {\n",
       "                        if (nbb_cells[i].get_text() == nbb_unformatted_code) {\n",
       "                             nbb_cells[i].set_text(nbb_formatted_code);\n",
       "                        }\n",
       "                        break;\n",
       "                    }\n",
       "                }\n",
       "            }, 500);\n",
       "            "
      ],
      "text/plain": [
       "<IPython.core.display.Javascript object>"
      ]
     },
     "metadata": {},
     "output_type": "display_data"
    }
   ],
   "source": [
    "import matplotlib.pyplot as plt\n",
    "\n",
    "plt.plot(stock_data_close)"
   ]
  },
  {
   "cell_type": "markdown",
   "metadata": {},
   "source": [
    "- __LSTM are sensitive to the scale of the data, so we apply MinMax Scaler__"
   ]
  },
  {
   "cell_type": "code",
   "execution_count": 42,
   "metadata": {},
   "outputs": [
    {
     "data": {
      "application/javascript": [
       "\n",
       "            setTimeout(function() {\n",
       "                var nbb_cell_id = 42;\n",
       "                var nbb_unformatted_code = \"import numpy as np\";\n",
       "                var nbb_formatted_code = \"import numpy as np\";\n",
       "                var nbb_cells = Jupyter.notebook.get_cells();\n",
       "                for (var i = 0; i < nbb_cells.length; ++i) {\n",
       "                    if (nbb_cells[i].input_prompt_number == nbb_cell_id) {\n",
       "                        if (nbb_cells[i].get_text() == nbb_unformatted_code) {\n",
       "                             nbb_cells[i].set_text(nbb_formatted_code);\n",
       "                        }\n",
       "                        break;\n",
       "                    }\n",
       "                }\n",
       "            }, 500);\n",
       "            "
      ],
      "text/plain": [
       "<IPython.core.display.Javascript object>"
      ]
     },
     "metadata": {},
     "output_type": "display_data"
    }
   ],
   "source": [
    "import numpy as np"
   ]
  },
  {
   "cell_type": "code",
   "execution_count": 43,
   "metadata": {},
   "outputs": [
    {
     "data": {
      "application/javascript": [
       "\n",
       "            setTimeout(function() {\n",
       "                var nbb_cell_id = 43;\n",
       "                var nbb_unformatted_code = \"from sklearn.preprocessing import MinMaxScaler\";\n",
       "                var nbb_formatted_code = \"from sklearn.preprocessing import MinMaxScaler\";\n",
       "                var nbb_cells = Jupyter.notebook.get_cells();\n",
       "                for (var i = 0; i < nbb_cells.length; ++i) {\n",
       "                    if (nbb_cells[i].input_prompt_number == nbb_cell_id) {\n",
       "                        if (nbb_cells[i].get_text() == nbb_unformatted_code) {\n",
       "                             nbb_cells[i].set_text(nbb_formatted_code);\n",
       "                        }\n",
       "                        break;\n",
       "                    }\n",
       "                }\n",
       "            }, 500);\n",
       "            "
      ],
      "text/plain": [
       "<IPython.core.display.Javascript object>"
      ]
     },
     "metadata": {},
     "output_type": "display_data"
    }
   ],
   "source": [
    "from sklearn.preprocessing import MinMaxScaler"
   ]
  },
  {
   "cell_type": "code",
   "execution_count": 44,
   "metadata": {},
   "outputs": [
    {
     "data": {
      "application/javascript": [
       "\n",
       "            setTimeout(function() {\n",
       "                var nbb_cell_id = 44;\n",
       "                var nbb_unformatted_code = \"scaler = MinMaxScaler(feature_range=(0, 1))\\nstock_data_close_transformed = scaler.fit_transform(np.array(stock_data_close).reshape(-1, 1))\";\n",
       "                var nbb_formatted_code = \"scaler = MinMaxScaler(feature_range=(0, 1))\\nstock_data_close_transformed = scaler.fit_transform(\\n    np.array(stock_data_close).reshape(-1, 1)\\n)\";\n",
       "                var nbb_cells = Jupyter.notebook.get_cells();\n",
       "                for (var i = 0; i < nbb_cells.length; ++i) {\n",
       "                    if (nbb_cells[i].input_prompt_number == nbb_cell_id) {\n",
       "                        if (nbb_cells[i].get_text() == nbb_unformatted_code) {\n",
       "                             nbb_cells[i].set_text(nbb_formatted_code);\n",
       "                        }\n",
       "                        break;\n",
       "                    }\n",
       "                }\n",
       "            }, 500);\n",
       "            "
      ],
      "text/plain": [
       "<IPython.core.display.Javascript object>"
      ]
     },
     "metadata": {},
     "output_type": "display_data"
    }
   ],
   "source": [
    "scaler = MinMaxScaler(feature_range=(0, 1))\n",
    "stock_data_close_transformed = scaler.fit_transform(\n",
    "    np.array(stock_data_close).reshape(-1, 1)\n",
    ")"
   ]
  },
  {
   "cell_type": "code",
   "execution_count": 45,
   "metadata": {},
   "outputs": [
    {
     "data": {
      "text/plain": [
       "(1258, 1)"
      ]
     },
     "execution_count": 45,
     "metadata": {},
     "output_type": "execute_result"
    },
    {
     "data": {
      "application/javascript": [
       "\n",
       "            setTimeout(function() {\n",
       "                var nbb_cell_id = 45;\n",
       "                var nbb_unformatted_code = \"stock_data_close_transformed.shape\";\n",
       "                var nbb_formatted_code = \"stock_data_close_transformed.shape\";\n",
       "                var nbb_cells = Jupyter.notebook.get_cells();\n",
       "                for (var i = 0; i < nbb_cells.length; ++i) {\n",
       "                    if (nbb_cells[i].input_prompt_number == nbb_cell_id) {\n",
       "                        if (nbb_cells[i].get_text() == nbb_unformatted_code) {\n",
       "                             nbb_cells[i].set_text(nbb_formatted_code);\n",
       "                        }\n",
       "                        break;\n",
       "                    }\n",
       "                }\n",
       "            }, 500);\n",
       "            "
      ],
      "text/plain": [
       "<IPython.core.display.Javascript object>"
      ]
     },
     "metadata": {},
     "output_type": "display_data"
    }
   ],
   "source": [
    "stock_data_close_transformed.shape"
   ]
  },
  {
   "cell_type": "code",
   "execution_count": 46,
   "metadata": {},
   "outputs": [
    {
     "data": {
      "text/plain": [
       "array([[0.01046302],\n",
       "       [0.01385448],\n",
       "       [0.01544197],\n",
       "       ...,\n",
       "       [0.09741431],\n",
       "       [0.09469633],\n",
       "       [0.09508118]])"
      ]
     },
     "execution_count": 46,
     "metadata": {},
     "output_type": "execute_result"
    },
    {
     "data": {
      "application/javascript": [
       "\n",
       "            setTimeout(function() {\n",
       "                var nbb_cell_id = 46;\n",
       "                var nbb_unformatted_code = \"stock_data_close_transformed\";\n",
       "                var nbb_formatted_code = \"stock_data_close_transformed\";\n",
       "                var nbb_cells = Jupyter.notebook.get_cells();\n",
       "                for (var i = 0; i < nbb_cells.length; ++i) {\n",
       "                    if (nbb_cells[i].input_prompt_number == nbb_cell_id) {\n",
       "                        if (nbb_cells[i].get_text() == nbb_unformatted_code) {\n",
       "                             nbb_cells[i].set_text(nbb_formatted_code);\n",
       "                        }\n",
       "                        break;\n",
       "                    }\n",
       "                }\n",
       "            }, 500);\n",
       "            "
      ],
      "text/plain": [
       "<IPython.core.display.Javascript object>"
      ]
     },
     "metadata": {},
     "output_type": "display_data"
    }
   ],
   "source": [
    "stock_data_close_transformed"
   ]
  },
  {
   "cell_type": "code",
   "execution_count": 47,
   "metadata": {},
   "outputs": [
    {
     "data": {
      "application/javascript": [
       "\n",
       "            setTimeout(function() {\n",
       "                var nbb_cell_id = 47;\n",
       "                var nbb_unformatted_code = \"# splitting the data into train and test\\ntraining_size = int(len(stock_data_close_transformed) * 0.65)\\ntest_size = len(stock_data_close_transformed) - training_size\\ntrain_data, test_data = stock_data_close_transformed[0:training_size, :], stock_data_close_transformed[training_size : len(stock_data_close_transformed), :1]\";\n",
       "                var nbb_formatted_code = \"# splitting the data into train and test\\ntraining_size = int(len(stock_data_close_transformed) * 0.65)\\ntest_size = len(stock_data_close_transformed) - training_size\\ntrain_data, test_data = (\\n    stock_data_close_transformed[0:training_size, :],\\n    stock_data_close_transformed[training_size : len(stock_data_close_transformed), :1],\\n)\";\n",
       "                var nbb_cells = Jupyter.notebook.get_cells();\n",
       "                for (var i = 0; i < nbb_cells.length; ++i) {\n",
       "                    if (nbb_cells[i].input_prompt_number == nbb_cell_id) {\n",
       "                        if (nbb_cells[i].get_text() == nbb_unformatted_code) {\n",
       "                             nbb_cells[i].set_text(nbb_formatted_code);\n",
       "                        }\n",
       "                        break;\n",
       "                    }\n",
       "                }\n",
       "            }, 500);\n",
       "            "
      ],
      "text/plain": [
       "<IPython.core.display.Javascript object>"
      ]
     },
     "metadata": {},
     "output_type": "display_data"
    }
   ],
   "source": [
    "# splitting the data into train and test\n",
    "training_size = int(len(stock_data_close_transformed) * 0.65)\n",
    "test_size = len(stock_data_close_transformed) - training_size\n",
    "train_data, test_data = (\n",
    "    stock_data_close_transformed[0:training_size, :],\n",
    "    stock_data_close_transformed[training_size : len(stock_data_close_transformed), :1],\n",
    ")"
   ]
  },
  {
   "cell_type": "code",
   "execution_count": 48,
   "metadata": {},
   "outputs": [
    {
     "data": {
      "text/plain": [
       "817"
      ]
     },
     "execution_count": 48,
     "metadata": {},
     "output_type": "execute_result"
    },
    {
     "data": {
      "application/javascript": [
       "\n",
       "            setTimeout(function() {\n",
       "                var nbb_cell_id = 48;\n",
       "                var nbb_unformatted_code = \"len(train_data)\";\n",
       "                var nbb_formatted_code = \"len(train_data)\";\n",
       "                var nbb_cells = Jupyter.notebook.get_cells();\n",
       "                for (var i = 0; i < nbb_cells.length; ++i) {\n",
       "                    if (nbb_cells[i].input_prompt_number == nbb_cell_id) {\n",
       "                        if (nbb_cells[i].get_text() == nbb_unformatted_code) {\n",
       "                             nbb_cells[i].set_text(nbb_formatted_code);\n",
       "                        }\n",
       "                        break;\n",
       "                    }\n",
       "                }\n",
       "            }, 500);\n",
       "            "
      ],
      "text/plain": [
       "<IPython.core.display.Javascript object>"
      ]
     },
     "metadata": {},
     "output_type": "display_data"
    }
   ],
   "source": [
    "len(train_data)"
   ]
  },
  {
   "cell_type": "code",
   "execution_count": 51,
   "metadata": {},
   "outputs": [
    {
     "data": {
      "application/javascript": [
       "\n",
       "            setTimeout(function() {\n",
       "                var nbb_cell_id = 51;\n",
       "                var nbb_unformatted_code = \"import numpy\\ndef create_dataset(dataset, time_step=1):\\n    dataX, dataY = [], []\\n    for i in range(len(dataset) - time_step - 1):\\n        a = dataset[i : (i + time_step), 0]\\n        dataX.append(a)\\n        dataY.append(dataset[i + time_step, 0])\\n    return numpy.array(dataX), numpy.array(dataY)\";\n",
       "                var nbb_formatted_code = \"import numpy\\n\\n\\ndef create_dataset(dataset, time_step=1):\\n    dataX, dataY = [], []\\n    for i in range(len(dataset) - time_step - 1):\\n        a = dataset[i : (i + time_step), 0]\\n        dataX.append(a)\\n        dataY.append(dataset[i + time_step, 0])\\n    return numpy.array(dataX), numpy.array(dataY)\";\n",
       "                var nbb_cells = Jupyter.notebook.get_cells();\n",
       "                for (var i = 0; i < nbb_cells.length; ++i) {\n",
       "                    if (nbb_cells[i].input_prompt_number == nbb_cell_id) {\n",
       "                        if (nbb_cells[i].get_text() == nbb_unformatted_code) {\n",
       "                             nbb_cells[i].set_text(nbb_formatted_code);\n",
       "                        }\n",
       "                        break;\n",
       "                    }\n",
       "                }\n",
       "            }, 500);\n",
       "            "
      ],
      "text/plain": [
       "<IPython.core.display.Javascript object>"
      ]
     },
     "metadata": {},
     "output_type": "display_data"
    }
   ],
   "source": [
    "import numpy\n",
    "\n",
    "\n",
    "def create_dataset(dataset, time_step=1):\n",
    "    dataX, dataY = [], []\n",
    "    for i in range(len(dataset) - time_step - 1):\n",
    "        a = dataset[i : (i + time_step), 0]\n",
    "        dataX.append(a)\n",
    "        dataY.append(dataset[i + time_step, 0])\n",
    "    return numpy.array(dataX), numpy.array(dataY)"
   ]
  },
  {
   "cell_type": "code",
   "execution_count": 52,
   "metadata": {},
   "outputs": [
    {
     "data": {
      "application/javascript": [
       "\n",
       "            setTimeout(function() {\n",
       "                var nbb_cell_id = 52;\n",
       "                var nbb_unformatted_code = \"time_step = 100\\nX_train, y_train = create_dataset(train_data, time_step)\\nX_test, y_test = create_dataset(test_data, time_step)\";\n",
       "                var nbb_formatted_code = \"time_step = 100\\nX_train, y_train = create_dataset(train_data, time_step)\\nX_test, y_test = create_dataset(test_data, time_step)\";\n",
       "                var nbb_cells = Jupyter.notebook.get_cells();\n",
       "                for (var i = 0; i < nbb_cells.length; ++i) {\n",
       "                    if (nbb_cells[i].input_prompt_number == nbb_cell_id) {\n",
       "                        if (nbb_cells[i].get_text() == nbb_unformatted_code) {\n",
       "                             nbb_cells[i].set_text(nbb_formatted_code);\n",
       "                        }\n",
       "                        break;\n",
       "                    }\n",
       "                }\n",
       "            }, 500);\n",
       "            "
      ],
      "text/plain": [
       "<IPython.core.display.Javascript object>"
      ]
     },
     "metadata": {},
     "output_type": "display_data"
    }
   ],
   "source": [
    "time_step = 100\n",
    "X_train, y_train = create_dataset(train_data, time_step)\n",
    "X_test, y_test = create_dataset(test_data, time_step)"
   ]
  },
  {
   "cell_type": "code",
   "execution_count": 54,
   "metadata": {},
   "outputs": [
    {
     "data": {
      "application/javascript": [
       "\n",
       "            setTimeout(function() {\n",
       "                var nbb_cell_id = 54;\n",
       "                var nbb_unformatted_code = \"X_train = X_train.reshape(X_train.shape[0], X_train.shape[1], 1)\\nX_test = X_test.reshape(X_test.shape[0], X_test.shape[1], 1)\";\n",
       "                var nbb_formatted_code = \"X_train = X_train.reshape(X_train.shape[0], X_train.shape[1], 1)\\nX_test = X_test.reshape(X_test.shape[0], X_test.shape[1], 1)\";\n",
       "                var nbb_cells = Jupyter.notebook.get_cells();\n",
       "                for (var i = 0; i < nbb_cells.length; ++i) {\n",
       "                    if (nbb_cells[i].input_prompt_number == nbb_cell_id) {\n",
       "                        if (nbb_cells[i].get_text() == nbb_unformatted_code) {\n",
       "                             nbb_cells[i].set_text(nbb_formatted_code);\n",
       "                        }\n",
       "                        break;\n",
       "                    }\n",
       "                }\n",
       "            }, 500);\n",
       "            "
      ],
      "text/plain": [
       "<IPython.core.display.Javascript object>"
      ]
     },
     "metadata": {},
     "output_type": "display_data"
    }
   ],
   "source": [
    "X_train = X_train.reshape(X_train.shape[0], X_train.shape[1], 1)\n",
    "X_test = X_test.reshape(X_test.shape[0], X_test.shape[1], 1)"
   ]
  },
  {
   "cell_type": "code",
   "execution_count": 55,
   "metadata": {},
   "outputs": [
    {
     "data": {
      "text/plain": [
       "(716, 100, 1)"
      ]
     },
     "execution_count": 55,
     "metadata": {},
     "output_type": "execute_result"
    },
    {
     "data": {
      "application/javascript": [
       "\n",
       "            setTimeout(function() {\n",
       "                var nbb_cell_id = 55;\n",
       "                var nbb_unformatted_code = \"X_train.shape\";\n",
       "                var nbb_formatted_code = \"X_train.shape\";\n",
       "                var nbb_cells = Jupyter.notebook.get_cells();\n",
       "                for (var i = 0; i < nbb_cells.length; ++i) {\n",
       "                    if (nbb_cells[i].input_prompt_number == nbb_cell_id) {\n",
       "                        if (nbb_cells[i].get_text() == nbb_unformatted_code) {\n",
       "                             nbb_cells[i].set_text(nbb_formatted_code);\n",
       "                        }\n",
       "                        break;\n",
       "                    }\n",
       "                }\n",
       "            }, 500);\n",
       "            "
      ],
      "text/plain": [
       "<IPython.core.display.Javascript object>"
      ]
     },
     "metadata": {},
     "output_type": "display_data"
    }
   ],
   "source": [
    "X_train.shape"
   ]
  },
  {
   "cell_type": "code",
   "execution_count": 56,
   "metadata": {},
   "outputs": [
    {
     "data": {
      "text/plain": [
       "(340, 100, 1)"
      ]
     },
     "execution_count": 56,
     "metadata": {},
     "output_type": "execute_result"
    },
    {
     "data": {
      "application/javascript": [
       "\n",
       "            setTimeout(function() {\n",
       "                var nbb_cell_id = 56;\n",
       "                var nbb_unformatted_code = \"X_test.shape\";\n",
       "                var nbb_formatted_code = \"X_test.shape\";\n",
       "                var nbb_cells = Jupyter.notebook.get_cells();\n",
       "                for (var i = 0; i < nbb_cells.length; ++i) {\n",
       "                    if (nbb_cells[i].input_prompt_number == nbb_cell_id) {\n",
       "                        if (nbb_cells[i].get_text() == nbb_unformatted_code) {\n",
       "                             nbb_cells[i].set_text(nbb_formatted_code);\n",
       "                        }\n",
       "                        break;\n",
       "                    }\n",
       "                }\n",
       "            }, 500);\n",
       "            "
      ],
      "text/plain": [
       "<IPython.core.display.Javascript object>"
      ]
     },
     "metadata": {},
     "output_type": "display_data"
    }
   ],
   "source": [
    "X_test.shape"
   ]
  },
  {
   "cell_type": "code",
   "execution_count": 57,
   "metadata": {},
   "outputs": [
    {
     "data": {
      "application/javascript": [
       "\n",
       "            setTimeout(function() {\n",
       "                var nbb_cell_id = 57;\n",
       "                var nbb_unformatted_code = \"# create LSTM Model\\nfrom tensorflow.keras.models import Sequential\\nfrom tensorflow.keras.layers import Dense\\nfrom tensorflow.keras.layers import LSTM\";\n",
       "                var nbb_formatted_code = \"# create LSTM Model\\nfrom tensorflow.keras.models import Sequential\\nfrom tensorflow.keras.layers import Dense\\nfrom tensorflow.keras.layers import LSTM\";\n",
       "                var nbb_cells = Jupyter.notebook.get_cells();\n",
       "                for (var i = 0; i < nbb_cells.length; ++i) {\n",
       "                    if (nbb_cells[i].input_prompt_number == nbb_cell_id) {\n",
       "                        if (nbb_cells[i].get_text() == nbb_unformatted_code) {\n",
       "                             nbb_cells[i].set_text(nbb_formatted_code);\n",
       "                        }\n",
       "                        break;\n",
       "                    }\n",
       "                }\n",
       "            }, 500);\n",
       "            "
      ],
      "text/plain": [
       "<IPython.core.display.Javascript object>"
      ]
     },
     "metadata": {},
     "output_type": "display_data"
    }
   ],
   "source": [
    "# create LSTM Model\n",
    "from tensorflow.keras.models import Sequential\n",
    "from tensorflow.keras.layers import Dense\n",
    "from tensorflow.keras.layers import LSTM"
   ]
  },
  {
   "cell_type": "code",
   "execution_count": 60,
   "metadata": {},
   "outputs": [
    {
     "data": {
      "application/javascript": [
       "\n",
       "            setTimeout(function() {\n",
       "                var nbb_cell_id = 60;\n",
       "                var nbb_unformatted_code = \"model = Sequential()\\nmodel.add(LSTM(50, return_sequences=True, input_shape=(100, 1)))\\nmodel.add(LSTM(50, return_sequences=True))\\nmodel.add(LSTM(50))\\nmodel.add(Dense(1))\\nmodel.compile(loss='mean_squared_error', optimizer='adam')\";\n",
       "                var nbb_formatted_code = \"model = Sequential()\\nmodel.add(LSTM(50, return_sequences=True, input_shape=(100, 1)))\\nmodel.add(LSTM(50, return_sequences=True))\\nmodel.add(LSTM(50))\\nmodel.add(Dense(1))\\nmodel.compile(loss=\\\"mean_squared_error\\\", optimizer=\\\"adam\\\")\";\n",
       "                var nbb_cells = Jupyter.notebook.get_cells();\n",
       "                for (var i = 0; i < nbb_cells.length; ++i) {\n",
       "                    if (nbb_cells[i].input_prompt_number == nbb_cell_id) {\n",
       "                        if (nbb_cells[i].get_text() == nbb_unformatted_code) {\n",
       "                             nbb_cells[i].set_text(nbb_formatted_code);\n",
       "                        }\n",
       "                        break;\n",
       "                    }\n",
       "                }\n",
       "            }, 500);\n",
       "            "
      ],
      "text/plain": [
       "<IPython.core.display.Javascript object>"
      ]
     },
     "metadata": {},
     "output_type": "display_data"
    }
   ],
   "source": [
    "model = Sequential()\n",
    "model.add(LSTM(50, return_sequences=True, input_shape=(100, 1)))\n",
    "model.add(LSTM(50, return_sequences=True))\n",
    "model.add(LSTM(50))\n",
    "model.add(Dense(1))\n",
    "model.compile(loss='mean_squared_error', optimizer='adam')\n"
   ]
  },
  {
   "cell_type": "code",
   "execution_count": 62,
   "metadata": {},
   "outputs": [
    {
     "name": "stdout",
     "output_type": "stream",
     "text": [
      "Model: \"sequential_2\"\n",
      "_________________________________________________________________\n",
      "Layer (type)                 Output Shape              Param #   \n",
      "=================================================================\n",
      "lstm_4 (LSTM)                (None, 100, 50)           10400     \n",
      "_________________________________________________________________\n",
      "lstm_5 (LSTM)                (None, 100, 50)           20200     \n",
      "_________________________________________________________________\n",
      "lstm_6 (LSTM)                (None, 50)                20200     \n",
      "_________________________________________________________________\n",
      "dense_1 (Dense)              (None, 1)                 51        \n",
      "=================================================================\n",
      "Total params: 50,851\n",
      "Trainable params: 50,851\n",
      "Non-trainable params: 0\n",
      "_________________________________________________________________\n"
     ]
    },
    {
     "data": {
      "application/javascript": [
       "\n",
       "            setTimeout(function() {\n",
       "                var nbb_cell_id = 62;\n",
       "                var nbb_unformatted_code = \"model.summary()\";\n",
       "                var nbb_formatted_code = \"model.summary()\";\n",
       "                var nbb_cells = Jupyter.notebook.get_cells();\n",
       "                for (var i = 0; i < nbb_cells.length; ++i) {\n",
       "                    if (nbb_cells[i].input_prompt_number == nbb_cell_id) {\n",
       "                        if (nbb_cells[i].get_text() == nbb_unformatted_code) {\n",
       "                             nbb_cells[i].set_text(nbb_formatted_code);\n",
       "                        }\n",
       "                        break;\n",
       "                    }\n",
       "                }\n",
       "            }, 500);\n",
       "            "
      ],
      "text/plain": [
       "<IPython.core.display.Javascript object>"
      ]
     },
     "metadata": {},
     "output_type": "display_data"
    }
   ],
   "source": [
    "model.summary()"
   ]
  },
  {
   "cell_type": "code",
   "execution_count": 63,
   "metadata": {},
   "outputs": [
    {
     "name": "stdout",
     "output_type": "stream",
     "text": [
      "Epoch 1/100\n",
      "12/12 [==============================] - 4s 342ms/step - loss: 0.0092 - val_loss: 0.0482\n",
      "Epoch 2/100\n",
      "12/12 [==============================] - 2s 187ms/step - loss: 0.0019 - val_loss: 0.0231\n",
      "Epoch 3/100\n",
      "12/12 [==============================] - 2s 199ms/step - loss: 8.3599e-04 - val_loss: 0.0209\n",
      "Epoch 4/100\n",
      "12/12 [==============================] - 2s 185ms/step - loss: 4.3048e-04 - val_loss: 0.0211\n",
      "Epoch 5/100\n",
      "12/12 [==============================] - 2s 187ms/step - loss: 3.9304e-04 - val_loss: 0.0197\n",
      "Epoch 6/100\n",
      "12/12 [==============================] - 2s 185ms/step - loss: 3.5948e-04 - val_loss: 0.0193\n",
      "Epoch 7/100\n",
      "12/12 [==============================] - 3s 209ms/step - loss: 3.5484e-04 - val_loss: 0.0188\n",
      "Epoch 8/100\n",
      "12/12 [==============================] - 2s 208ms/step - loss: 3.7119e-04 - val_loss: 0.0184\n",
      "Epoch 9/100\n",
      "12/12 [==============================] - 3s 216ms/step - loss: 3.2793e-04 - val_loss: 0.0178\n",
      "Epoch 10/100\n",
      "12/12 [==============================] - 2s 207ms/step - loss: 3.0991e-04 - val_loss: 0.0173\n",
      "Epoch 11/100\n",
      "12/12 [==============================] - 2s 199ms/step - loss: 2.9948e-04 - val_loss: 0.0168\n",
      "Epoch 12/100\n",
      "12/12 [==============================] - 2s 189ms/step - loss: 2.8868e-04 - val_loss: 0.0164\n",
      "Epoch 13/100\n",
      "12/12 [==============================] - 2s 184ms/step - loss: 3.2791e-04 - val_loss: 0.0158\n",
      "Epoch 14/100\n",
      "12/12 [==============================] - 2s 186ms/step - loss: 2.6567e-04 - val_loss: 0.0152\n",
      "Epoch 15/100\n",
      "12/12 [==============================] - 2s 186ms/step - loss: 2.4708e-04 - val_loss: 0.0149\n",
      "Epoch 16/100\n",
      "12/12 [==============================] - 2s 185ms/step - loss: 2.4177e-04 - val_loss: 0.0142\n",
      "Epoch 17/100\n",
      "12/12 [==============================] - 3s 262ms/step - loss: 2.3508e-04 - val_loss: 0.0139\n",
      "Epoch 18/100\n",
      "12/12 [==============================] - 3s 213ms/step - loss: 2.3391e-04 - val_loss: 0.0145\n",
      "Epoch 19/100\n",
      "12/12 [==============================] - 2s 182ms/step - loss: 2.2647e-04 - val_loss: 0.0135\n",
      "Epoch 20/100\n",
      "12/12 [==============================] - 2s 184ms/step - loss: 2.0552e-04 - val_loss: 0.0147\n",
      "Epoch 21/100\n",
      "12/12 [==============================] - 2s 185ms/step - loss: 2.0002e-04 - val_loss: 0.0145\n",
      "Epoch 22/100\n",
      "12/12 [==============================] - 2s 189ms/step - loss: 1.9784e-04 - val_loss: 0.0144\n",
      "Epoch 23/100\n",
      "12/12 [==============================] - 2s 191ms/step - loss: 1.9293e-04 - val_loss: 0.0152\n",
      "Epoch 24/100\n",
      "12/12 [==============================] - 2s 190ms/step - loss: 2.0455e-04 - val_loss: 0.0143\n",
      "Epoch 25/100\n",
      "12/12 [==============================] - 2s 197ms/step - loss: 2.2749e-04 - val_loss: 0.0129\n",
      "Epoch 26/100\n",
      "12/12 [==============================] - 2s 193ms/step - loss: 2.0018e-04 - val_loss: 0.0134\n",
      "Epoch 27/100\n",
      "12/12 [==============================] - 2s 188ms/step - loss: 1.9623e-04 - val_loss: 0.0140\n",
      "Epoch 28/100\n",
      "12/12 [==============================] - 2s 193ms/step - loss: 1.9309e-04 - val_loss: 0.0126\n",
      "Epoch 29/100\n",
      "12/12 [==============================] - 3s 227ms/step - loss: 1.8689e-04 - val_loss: 0.0136\n",
      "Epoch 30/100\n",
      "12/12 [==============================] - 2s 195ms/step - loss: 1.8929e-04 - val_loss: 0.0137\n",
      "Epoch 31/100\n",
      "12/12 [==============================] - 2s 186ms/step - loss: 1.7621e-04 - val_loss: 0.0135\n",
      "Epoch 32/100\n",
      "12/12 [==============================] - 2s 202ms/step - loss: 1.7838e-04 - val_loss: 0.0126\n",
      "Epoch 33/100\n",
      "12/12 [==============================] - 2s 198ms/step - loss: 1.8183e-04 - val_loss: 0.0132\n",
      "Epoch 34/100\n",
      "12/12 [==============================] - 2s 195ms/step - loss: 1.7912e-04 - val_loss: 0.0125\n",
      "Epoch 35/100\n",
      "12/12 [==============================] - 3s 244ms/step - loss: 1.8469e-04 - val_loss: 0.0116\n",
      "Epoch 36/100\n",
      "12/12 [==============================] - 3s 243ms/step - loss: 1.8313e-04 - val_loss: 0.0121\n",
      "Epoch 37/100\n",
      "12/12 [==============================] - 2s 188ms/step - loss: 1.7346e-04 - val_loss: 0.0122\n",
      "Epoch 38/100\n",
      "12/12 [==============================] - 2s 185ms/step - loss: 1.7181e-04 - val_loss: 0.0116\n",
      "Epoch 39/100\n",
      "12/12 [==============================] - 2s 184ms/step - loss: 1.7140e-04 - val_loss: 0.0117\n",
      "Epoch 40/100\n",
      "12/12 [==============================] - 2s 187ms/step - loss: 1.7130e-04 - val_loss: 0.0122\n",
      "Epoch 41/100\n",
      "12/12 [==============================] - 2s 185ms/step - loss: 1.6493e-04 - val_loss: 0.0128\n",
      "Epoch 42/100\n",
      "12/12 [==============================] - 2s 187ms/step - loss: 1.7379e-04 - val_loss: 0.0116\n",
      "Epoch 43/100\n",
      "12/12 [==============================] - 2s 182ms/step - loss: 1.7017e-04 - val_loss: 0.0110\n",
      "Epoch 44/100\n",
      "12/12 [==============================] - 2s 186ms/step - loss: 1.5591e-04 - val_loss: 0.0113\n",
      "Epoch 45/100\n",
      "12/12 [==============================] - 2s 191ms/step - loss: 1.5863e-04 - val_loss: 0.0111\n",
      "Epoch 46/100\n",
      "12/12 [==============================] - 2s 185ms/step - loss: 1.5807e-04 - val_loss: 0.0114\n",
      "Epoch 47/100\n",
      "12/12 [==============================] - 2s 182ms/step - loss: 1.5246e-04 - val_loss: 0.0118\n",
      "Epoch 48/100\n",
      "12/12 [==============================] - 3s 211ms/step - loss: 1.5128e-04 - val_loss: 0.0111\n",
      "Epoch 49/100\n",
      "12/12 [==============================] - 3s 213ms/step - loss: 1.6501e-04 - val_loss: 0.0113\n",
      "Epoch 50/100\n",
      "12/12 [==============================] - 2s 182ms/step - loss: 1.4680e-04 - val_loss: 0.0115\n",
      "Epoch 51/100\n",
      "12/12 [==============================] - 2s 173ms/step - loss: 1.4744e-04 - val_loss: 0.0108\n",
      "Epoch 52/100\n",
      "12/12 [==============================] - 2s 173ms/step - loss: 1.5322e-04 - val_loss: 0.0105\n",
      "Epoch 53/100\n",
      "12/12 [==============================] - 2s 175ms/step - loss: 1.4446e-04 - val_loss: 0.0109\n",
      "Epoch 54/100\n",
      "12/12 [==============================] - 2s 172ms/step - loss: 1.5077e-04 - val_loss: 0.0103\n",
      "Epoch 55/100\n",
      "12/12 [==============================] - 2s 166ms/step - loss: 1.3832e-04 - val_loss: 0.0110\n",
      "Epoch 56/100\n",
      "12/12 [==============================] - 2s 169ms/step - loss: 1.4780e-04 - val_loss: 0.0103\n",
      "Epoch 57/100\n",
      "12/12 [==============================] - 2s 169ms/step - loss: 1.7356e-04 - val_loss: 0.0102\n",
      "Epoch 58/100\n",
      "12/12 [==============================] - 2s 168ms/step - loss: 1.7972e-04 - val_loss: 0.0102\n",
      "Epoch 59/100\n",
      "12/12 [==============================] - 2s 167ms/step - loss: 1.4770e-04 - val_loss: 0.0098\n",
      "Epoch 60/100\n",
      "12/12 [==============================] - 2s 174ms/step - loss: 1.4101e-04 - val_loss: 0.0106\n",
      "Epoch 61/100\n",
      "12/12 [==============================] - 2s 170ms/step - loss: 1.3378e-04 - val_loss: 0.0103\n",
      "Epoch 62/100\n",
      "12/12 [==============================] - 2s 171ms/step - loss: 1.2702e-04 - val_loss: 0.0098\n",
      "Epoch 63/100\n",
      "12/12 [==============================] - 2s 166ms/step - loss: 1.2549e-04 - val_loss: 0.0094\n",
      "Epoch 64/100\n",
      "12/12 [==============================] - 2s 171ms/step - loss: 1.3643e-04 - val_loss: 0.0101\n",
      "Epoch 65/100\n",
      "12/12 [==============================] - 2s 173ms/step - loss: 1.2723e-04 - val_loss: 0.0090\n",
      "Epoch 66/100\n",
      "12/12 [==============================] - 2s 171ms/step - loss: 1.3611e-04 - val_loss: 0.0095\n",
      "Epoch 67/100\n",
      "12/12 [==============================] - 2s 174ms/step - loss: 1.2922e-04 - val_loss: 0.0099\n",
      "Epoch 68/100\n",
      "12/12 [==============================] - 2s 169ms/step - loss: 1.8066e-04 - val_loss: 0.0090\n",
      "Epoch 69/100\n",
      "12/12 [==============================] - 2s 171ms/step - loss: 1.4049e-04 - val_loss: 0.0097\n",
      "Epoch 70/100\n",
      "12/12 [==============================] - 2s 167ms/step - loss: 1.3793e-04 - val_loss: 0.0088\n",
      "Epoch 71/100\n",
      "12/12 [==============================] - 2s 166ms/step - loss: 1.3190e-04 - val_loss: 0.0097\n",
      "Epoch 72/100\n",
      "12/12 [==============================] - 2s 167ms/step - loss: 1.1999e-04 - val_loss: 0.0100\n",
      "Epoch 73/100\n",
      "12/12 [==============================] - 2s 184ms/step - loss: 1.7566e-04 - val_loss: 0.0079\n",
      "Epoch 74/100\n",
      "12/12 [==============================] - 2s 177ms/step - loss: 1.3040e-04 - val_loss: 0.0098\n",
      "Epoch 75/100\n",
      "12/12 [==============================] - 2s 168ms/step - loss: 1.1431e-04 - val_loss: 0.0082\n",
      "Epoch 76/100\n",
      "12/12 [==============================] - 2s 169ms/step - loss: 1.1085e-04 - val_loss: 0.0077\n",
      "Epoch 77/100\n",
      "12/12 [==============================] - 2s 169ms/step - loss: 1.1014e-04 - val_loss: 0.0091\n",
      "Epoch 78/100\n"
     ]
    },
    {
     "name": "stdout",
     "output_type": "stream",
     "text": [
      "12/12 [==============================] - 2s 179ms/step - loss: 1.0694e-04 - val_loss: 0.0073\n",
      "Epoch 79/100\n",
      "12/12 [==============================] - 2s 186ms/step - loss: 1.1086e-04 - val_loss: 0.0091\n",
      "Epoch 80/100\n",
      "12/12 [==============================] - 2s 166ms/step - loss: 1.0478e-04 - val_loss: 0.0076\n",
      "Epoch 81/100\n",
      "12/12 [==============================] - 2s 164ms/step - loss: 1.0015e-04 - val_loss: 0.0070\n",
      "Epoch 82/100\n",
      "12/12 [==============================] - 2s 165ms/step - loss: 9.8096e-05 - val_loss: 0.0069\n",
      "Epoch 83/100\n",
      "12/12 [==============================] - 2s 165ms/step - loss: 1.0355e-04 - val_loss: 0.0066\n",
      "Epoch 84/100\n",
      "12/12 [==============================] - 2s 169ms/step - loss: 1.1236e-04 - val_loss: 0.0072\n",
      "Epoch 85/100\n",
      "12/12 [==============================] - 2s 170ms/step - loss: 1.0078e-04 - val_loss: 0.0072\n",
      "Epoch 86/100\n",
      "12/12 [==============================] - 2s 167ms/step - loss: 9.5039e-05 - val_loss: 0.0071\n",
      "Epoch 87/100\n",
      "12/12 [==============================] - 2s 165ms/step - loss: 9.9096e-05 - val_loss: 0.0062\n",
      "Epoch 88/100\n",
      "12/12 [==============================] - 2s 169ms/step - loss: 9.2009e-05 - val_loss: 0.0063\n",
      "Epoch 89/100\n",
      "12/12 [==============================] - 2s 167ms/step - loss: 1.0156e-04 - val_loss: 0.0066\n",
      "Epoch 90/100\n",
      "12/12 [==============================] - 2s 164ms/step - loss: 9.9439e-05 - val_loss: 0.0063\n",
      "Epoch 91/100\n",
      "12/12 [==============================] - 2s 161ms/step - loss: 9.7073e-05 - val_loss: 0.0060\n",
      "Epoch 92/100\n",
      "12/12 [==============================] - 2s 160ms/step - loss: 9.4254e-05 - val_loss: 0.0061\n",
      "Epoch 93/100\n",
      "12/12 [==============================] - 2s 161ms/step - loss: 8.8992e-05 - val_loss: 0.0059\n",
      "Epoch 94/100\n",
      "12/12 [==============================] - 2s 160ms/step - loss: 8.5688e-05 - val_loss: 0.0057\n",
      "Epoch 95/100\n",
      "12/12 [==============================] - 2s 158ms/step - loss: 8.9059e-05 - val_loss: 0.0057\n",
      "Epoch 96/100\n",
      "12/12 [==============================] - 2s 169ms/step - loss: 9.4813e-05 - val_loss: 0.0060\n",
      "Epoch 97/100\n",
      "12/12 [==============================] - 2s 199ms/step - loss: 8.8043e-05 - val_loss: 0.0056\n",
      "Epoch 98/100\n",
      "12/12 [==============================] - 2s 180ms/step - loss: 8.8293e-05 - val_loss: 0.0056\n",
      "Epoch 99/100\n",
      "12/12 [==============================] - 2s 172ms/step - loss: 8.3406e-05 - val_loss: 0.0056\n",
      "Epoch 100/100\n",
      "12/12 [==============================] - 2s 181ms/step - loss: 8.6314e-05 - val_loss: 0.0056\n"
     ]
    },
    {
     "data": {
      "text/plain": [
       "<tensorflow.python.keras.callbacks.History at 0x7fb1451e9940>"
      ]
     },
     "execution_count": 63,
     "metadata": {},
     "output_type": "execute_result"
    },
    {
     "data": {
      "application/javascript": [
       "\n",
       "            setTimeout(function() {\n",
       "                var nbb_cell_id = 63;\n",
       "                var nbb_unformatted_code = \"model.fit(X_train, y_train, validation_data=(X_test, y_test), epochs=100,batch_size=64,verbose=1)\";\n",
       "                var nbb_formatted_code = \"model.fit(\\n    X_train,\\n    y_train,\\n    validation_data=(X_test, y_test),\\n    epochs=100,\\n    batch_size=64,\\n    verbose=1,\\n)\";\n",
       "                var nbb_cells = Jupyter.notebook.get_cells();\n",
       "                for (var i = 0; i < nbb_cells.length; ++i) {\n",
       "                    if (nbb_cells[i].input_prompt_number == nbb_cell_id) {\n",
       "                        if (nbb_cells[i].get_text() == nbb_unformatted_code) {\n",
       "                             nbb_cells[i].set_text(nbb_formatted_code);\n",
       "                        }\n",
       "                        break;\n",
       "                    }\n",
       "                }\n",
       "            }, 500);\n",
       "            "
      ],
      "text/plain": [
       "<IPython.core.display.Javascript object>"
      ]
     },
     "metadata": {},
     "output_type": "display_data"
    }
   ],
   "source": [
    "model.fit(\n",
    "    X_train,\n",
    "    y_train,\n",
    "    validation_data=(X_test, y_test),\n",
    "    epochs=100,\n",
    "    batch_size=64,\n",
    "    verbose=1,\n",
    ")"
   ]
  },
  {
   "cell_type": "code",
   "execution_count": 64,
   "metadata": {},
   "outputs": [
    {
     "data": {
      "application/javascript": [
       "\n",
       "            setTimeout(function() {\n",
       "                var nbb_cell_id = 64;\n",
       "                var nbb_unformatted_code = \"train_predict = model.predict(X_train)\\ntest_predict = model.predict(X_test)\";\n",
       "                var nbb_formatted_code = \"train_predict = model.predict(X_train)\\ntest_predict = model.predict(X_test)\";\n",
       "                var nbb_cells = Jupyter.notebook.get_cells();\n",
       "                for (var i = 0; i < nbb_cells.length; ++i) {\n",
       "                    if (nbb_cells[i].input_prompt_number == nbb_cell_id) {\n",
       "                        if (nbb_cells[i].get_text() == nbb_unformatted_code) {\n",
       "                             nbb_cells[i].set_text(nbb_formatted_code);\n",
       "                        }\n",
       "                        break;\n",
       "                    }\n",
       "                }\n",
       "            }, 500);\n",
       "            "
      ],
      "text/plain": [
       "<IPython.core.display.Javascript object>"
      ]
     },
     "metadata": {},
     "output_type": "display_data"
    }
   ],
   "source": [
    "train_predict = model.predict(X_train)\n",
    "test_predict = model.predict(X_test)"
   ]
  },
  {
   "cell_type": "code",
   "execution_count": 65,
   "metadata": {},
   "outputs": [
    {
     "data": {
      "application/javascript": [
       "\n",
       "            setTimeout(function() {\n",
       "                var nbb_cell_id = 65;\n",
       "                var nbb_unformatted_code = \"train_predict = scaler.inverse_transform(train_predict)\\ntest_predict = scaler.inverse_transform(test_predict)\";\n",
       "                var nbb_formatted_code = \"train_predict = scaler.inverse_transform(train_predict)\\ntest_predict = scaler.inverse_transform(test_predict)\";\n",
       "                var nbb_cells = Jupyter.notebook.get_cells();\n",
       "                for (var i = 0; i < nbb_cells.length; ++i) {\n",
       "                    if (nbb_cells[i].input_prompt_number == nbb_cell_id) {\n",
       "                        if (nbb_cells[i].get_text() == nbb_unformatted_code) {\n",
       "                             nbb_cells[i].set_text(nbb_formatted_code);\n",
       "                        }\n",
       "                        break;\n",
       "                    }\n",
       "                }\n",
       "            }, 500);\n",
       "            "
      ],
      "text/plain": [
       "<IPython.core.display.Javascript object>"
      ]
     },
     "metadata": {},
     "output_type": "display_data"
    }
   ],
   "source": [
    "train_predict = scaler.inverse_transform(train_predict)\n",
    "test_predict = scaler.inverse_transform(test_predict)"
   ]
  },
  {
   "cell_type": "code",
   "execution_count": 66,
   "metadata": {},
   "outputs": [
    {
     "data": {
      "text/plain": [
       "164.41203785602931"
      ]
     },
     "execution_count": 66,
     "metadata": {},
     "output_type": "execute_result"
    },
    {
     "data": {
      "application/javascript": [
       "\n",
       "            setTimeout(function() {\n",
       "                var nbb_cell_id = 66;\n",
       "                var nbb_unformatted_code = \"import math\\nfrom sklearn.metrics import mean_squared_error\\nmath.sqrt(mean_squared_error(y_train, train_predict))\";\n",
       "                var nbb_formatted_code = \"import math\\nfrom sklearn.metrics import mean_squared_error\\n\\nmath.sqrt(mean_squared_error(y_train, train_predict))\";\n",
       "                var nbb_cells = Jupyter.notebook.get_cells();\n",
       "                for (var i = 0; i < nbb_cells.length; ++i) {\n",
       "                    if (nbb_cells[i].input_prompt_number == nbb_cell_id) {\n",
       "                        if (nbb_cells[i].get_text() == nbb_unformatted_code) {\n",
       "                             nbb_cells[i].set_text(nbb_formatted_code);\n",
       "                        }\n",
       "                        break;\n",
       "                    }\n",
       "                }\n",
       "            }, 500);\n",
       "            "
      ],
      "text/plain": [
       "<IPython.core.display.Javascript object>"
      ]
     },
     "metadata": {},
     "output_type": "display_data"
    }
   ],
   "source": [
    "import math\n",
    "from sklearn.metrics import mean_squared_error\n",
    "\n",
    "math.sqrt(mean_squared_error(y_train, train_predict))"
   ]
  },
  {
   "cell_type": "code",
   "execution_count": 67,
   "metadata": {},
   "outputs": [
    {
     "data": {
      "text/plain": [
       "263.13424809280264"
      ]
     },
     "execution_count": 67,
     "metadata": {},
     "output_type": "execute_result"
    },
    {
     "data": {
      "application/javascript": [
       "\n",
       "            setTimeout(function() {\n",
       "                var nbb_cell_id = 67;\n",
       "                var nbb_unformatted_code = \"math.sqrt(mean_squared_error(y_test, test_predict))\";\n",
       "                var nbb_formatted_code = \"math.sqrt(mean_squared_error(y_test, test_predict))\";\n",
       "                var nbb_cells = Jupyter.notebook.get_cells();\n",
       "                for (var i = 0; i < nbb_cells.length; ++i) {\n",
       "                    if (nbb_cells[i].input_prompt_number == nbb_cell_id) {\n",
       "                        if (nbb_cells[i].get_text() == nbb_unformatted_code) {\n",
       "                             nbb_cells[i].set_text(nbb_formatted_code);\n",
       "                        }\n",
       "                        break;\n",
       "                    }\n",
       "                }\n",
       "            }, 500);\n",
       "            "
      ],
      "text/plain": [
       "<IPython.core.display.Javascript object>"
      ]
     },
     "metadata": {},
     "output_type": "display_data"
    }
   ],
   "source": [
    "math.sqrt(mean_squared_error(y_test, test_predict))"
   ]
  },
  {
   "cell_type": "code",
   "execution_count": null,
   "metadata": {},
   "outputs": [],
   "source": []
  }
 ],
 "metadata": {
  "kernelspec": {
   "display_name": "datascience",
   "language": "python",
   "name": "datascience"
  },
  "language_info": {
   "codemirror_mode": {
    "name": "ipython",
    "version": 3
   },
   "file_extension": ".py",
   "mimetype": "text/x-python",
   "name": "python",
   "nbconvert_exporter": "python",
   "pygments_lexer": "ipython3",
   "version": "3.8.3"
  }
 },
 "nbformat": 4,
 "nbformat_minor": 4
}
